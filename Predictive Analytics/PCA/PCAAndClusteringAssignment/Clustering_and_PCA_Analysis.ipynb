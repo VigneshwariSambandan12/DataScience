{
 "cells": [
  {
   "cell_type": "markdown",
   "metadata": {},
   "source": [
    "#### Importing Libraries"
   ]
  },
  {
   "cell_type": "code",
   "execution_count": 266,
   "metadata": {},
   "outputs": [],
   "source": [
    "# Importing Pandas and NumPy\n",
    "import pandas as pd\n",
    "import numpy as np\n",
    "import matplotlib.pyplot as plt\n",
    "import seaborn as sns"
   ]
  },
  {
   "cell_type": "code",
   "execution_count": 267,
   "metadata": {},
   "outputs": [
    {
     "data": {
      "text/plain": [
       "(167, 10)"
      ]
     },
     "execution_count": 267,
     "metadata": {},
     "output_type": "execute_result"
    }
   ],
   "source": [
    "countries_data = pd.read_csv(\"Country-data.csv\")\n",
    "countries_data.head(5)\n",
    "countries_data.shape"
   ]
  },
  {
   "cell_type": "markdown",
   "metadata": {},
   "source": [
    "### 1. Data Preparation"
   ]
  },
  {
   "cell_type": "markdown",
   "metadata": {},
   "source": [
    "#### Null values Check "
   ]
  },
  {
   "cell_type": "code",
   "execution_count": 268,
   "metadata": {},
   "outputs": [
    {
     "data": {
      "text/plain": [
       "country       0.0\n",
       "child_mort    0.0\n",
       "exports       0.0\n",
       "health        0.0\n",
       "imports       0.0\n",
       "income        0.0\n",
       "inflation     0.0\n",
       "life_expec    0.0\n",
       "total_fer     0.0\n",
       "gdpp          0.0\n",
       "dtype: float64"
      ]
     },
     "execution_count": 268,
     "metadata": {},
     "output_type": "execute_result"
    }
   ],
   "source": [
    "countries_data.isnull().values.any()\n",
    "countries_data.isnull().values.sum()\n",
    "countries_data.isnull().sum()*100/countries_data.shape[0]"
   ]
  },
  {
   "cell_type": "markdown",
   "metadata": {},
   "source": [
    "#### Find the columns which are numeric "
   ]
  },
  {
   "cell_type": "code",
   "execution_count": 269,
   "metadata": {},
   "outputs": [
    {
     "data": {
      "text/plain": [
       "['child_mort',\n",
       " 'exports',\n",
       " 'health',\n",
       " 'imports',\n",
       " 'income',\n",
       " 'inflation',\n",
       " 'life_expec',\n",
       " 'total_fer',\n",
       " 'gdpp']"
      ]
     },
     "execution_count": 269,
     "metadata": {},
     "output_type": "execute_result"
    }
   ],
   "source": [
    "country_cols= list(countries_data.columns)\n",
    "country_cols.remove('country')\n",
    "country_cols"
   ]
  },
  {
   "cell_type": "markdown",
   "metadata": {},
   "source": [
    "#### Calculate the Outliers"
   ]
  },
  {
   "cell_type": "code",
   "execution_count": 270,
   "metadata": {},
   "outputs": [],
   "source": [
    "for column in country_cols:\n",
    "    Q1 = countries_data[column].quantile(0.25)\n",
    "    Q3 = countries_data[column].quantile(0.75)\n",
    "    IQR = Q3 - Q1\n",
    "    countries_wo_outliers = countries_data[(countries_data[column] >= Q1 - 1.5*IQR) & (countries_data[column] <= Q3 + 1.5*IQR)]"
   ]
  },
  {
   "cell_type": "code",
   "execution_count": 271,
   "metadata": {},
   "outputs": [
    {
     "data": {
      "text/plain": [
       "0.8502994011976048"
      ]
     },
     "execution_count": 271,
     "metadata": {},
     "output_type": "execute_result"
    }
   ],
   "source": [
    "#Percentage of values retention\n",
    "len(countries_wo_outliers)/len(countries_data)"
   ]
  },
  {
   "cell_type": "code",
   "execution_count": 272,
   "metadata": {},
   "outputs": [],
   "source": [
    "countries_data = countries_data[(countries_data[column] >= Q1 - 1.5*IQR) & (countries_data[column] <= Q3 + 1.5*IQR)]"
   ]
  },
  {
   "cell_type": "code",
   "execution_count": 273,
   "metadata": {},
   "outputs": [],
   "source": [
    "#Recalculate the index after removing the outliers - will be useful during merging \n",
    "countries_data = countries_data.reset_index(drop=True)"
   ]
  },
  {
   "cell_type": "markdown",
   "metadata": {},
   "source": [
    "#### Scaling of numeric values"
   ]
  },
  {
   "cell_type": "code",
   "execution_count": 274,
   "metadata": {},
   "outputs": [
    {
     "name": "stderr",
     "output_type": "stream",
     "text": [
      "C:\\Users\\I332724\\AppData\\Local\\Continuum\\anaconda3\\lib\\site-packages\\sklearn\\preprocessing\\data.py:625: DataConversionWarning: Data with input dtype int64, float64 were all converted to float64 by StandardScaler.\n",
      "  return self.partial_fit(X, y)\n",
      "C:\\Users\\I332724\\AppData\\Local\\Continuum\\anaconda3\\lib\\site-packages\\sklearn\\base.py:462: DataConversionWarning: Data with input dtype int64, float64 were all converted to float64 by StandardScaler.\n",
      "  return self.fit(X, **fit_params).transform(X)\n"
     ]
    }
   ],
   "source": [
    "from sklearn.preprocessing import StandardScaler\n",
    "standard_scaler = StandardScaler()\n",
    "scaled_data = standard_scaler.fit_transform(countries_data.iloc[:,1:])"
   ]
  },
  {
   "cell_type": "markdown",
   "metadata": {},
   "source": [
    "### 2. Principal Component Analysis"
   ]
  },
  {
   "cell_type": "code",
   "execution_count": 275,
   "metadata": {},
   "outputs": [],
   "source": [
    "from sklearn.decomposition import PCA\n",
    "pca = PCA(svd_solver='randomized', random_state=42)"
   ]
  },
  {
   "cell_type": "code",
   "execution_count": 276,
   "metadata": {},
   "outputs": [
    {
     "data": {
      "text/plain": [
       "PCA(copy=True, iterated_power='auto', n_components=None, random_state=42,\n",
       "  svd_solver='randomized', tol=0.0, whiten=False)"
      ]
     },
     "execution_count": 276,
     "metadata": {},
     "output_type": "execute_result"
    }
   ],
   "source": [
    "pca.fit(scaled_data)"
   ]
  },
  {
   "cell_type": "code",
   "execution_count": 277,
   "metadata": {},
   "outputs": [
    {
     "data": {
      "text/plain": [
       "array([[-0.43268279,  0.27511883,  0.07460737,  0.14799877,  0.41658057,\n",
       "        -0.15457041,  0.42110943, -0.41680476,  0.40141573],\n",
       "       [ 0.12705284,  0.41715275,  0.26439674,  0.72757198, -0.15165935,\n",
       "        -0.34088789, -0.22222487,  0.07800451, -0.12609846],\n",
       "       [ 0.14035908,  0.53942174, -0.63092374,  0.11593252,  0.20770985,\n",
       "         0.44702842, -0.08811097,  0.15202484,  0.06297233],\n",
       "       [ 0.2652956 ,  0.01131698,  0.59810059, -0.01482723,  0.33538809,\n",
       "         0.41102888, -0.18304067,  0.25388186,  0.43835625],\n",
       "       [-0.29344799,  0.03806039,  0.27002758,  0.21766343, -0.29577481,\n",
       "         0.68124488,  0.22844879, -0.22152966, -0.373237  ],\n",
       "       [ 0.15042134, -0.06059192, -0.03128897, -0.02627613,  0.10702339,\n",
       "         0.08139198, -0.60766609, -0.76446833, -0.01685351],\n",
       "       [ 0.02479168, -0.64964849, -0.30382792,  0.61240425,  0.02790418,\n",
       "         0.13643725,  0.04904149,  0.02067456,  0.29625256],\n",
       "       [ 0.74629402,  0.07540523,  0.01385579, -0.01324801, -0.21980574,\n",
       "        -0.00350324,  0.52936816, -0.31340413,  0.10105528],\n",
       "       [ 0.20063165, -0.16229676,  0.04839151,  0.10859514,  0.70696646,\n",
       "        -0.04216208,  0.16713136,  0.02201666, -0.62391925]])"
      ]
     },
     "execution_count": 277,
     "metadata": {},
     "output_type": "execute_result"
    }
   ],
   "source": [
    "pca.components_"
   ]
  },
  {
   "cell_type": "code",
   "execution_count": 278,
   "metadata": {},
   "outputs": [
    {
     "data": {
      "text/plain": [
       "array([0.45397868, 0.16710247, 0.13491987, 0.09975241, 0.07860391,\n",
       "       0.02865835, 0.01877519, 0.01080293, 0.00740618])"
      ]
     },
     "execution_count": 278,
     "metadata": {},
     "output_type": "execute_result"
    }
   ],
   "source": [
    "pca.explained_variance_ratio_"
   ]
  },
  {
   "cell_type": "code",
   "execution_count": 279,
   "metadata": {},
   "outputs": [
    {
     "data": {
      "image/png": "[encoded data removed]",
      "text/plain": [
       "<Figure size 864x576 with 1 Axes>"
      ]
     },
     "metadata": {
      "needs_background": "light"
     },
     "output_type": "display_data"
    }
   ],
   "source": [
    "#The Cumulative Explained Variance Calculation to find the optimum number of k\n",
    "%matplotlib inline\n",
    "fig = plt.figure(figsize = (12,8))\n",
    "plt.plot(np.cumsum(pca.explained_variance_ratio_))\n",
    "plt.xlabel('number of components')\n",
    "plt.ylabel('cumulative explained variance')\n",
    "plt.show()"
   ]
  },
  {
   "cell_type": "markdown",
   "metadata": {},
   "source": [
    "#### Derived from the above graph as k = 4 explains more than 95% of data"
   ]
  },
  {
   "cell_type": "code",
   "execution_count": 280,
   "metadata": {},
   "outputs": [],
   "source": [
    "k=4"
   ]
  },
  {
   "cell_type": "markdown",
   "metadata": {},
   "source": [
    "#### Variance greater than 80%"
   ]
  },
  {
   "cell_type": "code",
   "execution_count": 281,
   "metadata": {},
   "outputs": [
    {
     "data": {
      "text/plain": [
       "0.8557534341447292"
      ]
     },
     "execution_count": 281,
     "metadata": {},
     "output_type": "execute_result"
    }
   ],
   "source": [
    "sum(pca.explained_variance_ratio_[:4])"
   ]
  },
  {
   "cell_type": "markdown",
   "metadata": {},
   "source": [
    "#### Fix k=4"
   ]
  },
  {
   "cell_type": "code",
   "execution_count": 282,
   "metadata": {},
   "outputs": [],
   "source": [
    "from sklearn.decomposition import IncrementalPCA\n",
    "pca_final = IncrementalPCA(n_components=4)"
   ]
  },
  {
   "cell_type": "code",
   "execution_count": 283,
   "metadata": {},
   "outputs": [
    {
     "data": {
      "text/plain": [
       "(142, 4)"
      ]
     },
     "execution_count": 283,
     "metadata": {},
     "output_type": "execute_result"
    }
   ],
   "source": [
    "countrydata_pca = pca_final.fit_transform(scaled_data)\n",
    "countrydata_pca.shape"
   ]
  },
  {
   "cell_type": "code",
   "execution_count": 284,
   "metadata": {},
   "outputs": [],
   "source": [
    "countrydata_pca = np.transpose(countrydata_pca)\n",
    "countrydata_pca_df = pd.DataFrame({'PC1':countrydata_pca[0],'PC2':countrydata_pca[1],'PC3':countrydata_pca[2],'PC4':countrydata_pca[3]})"
   ]
  },
  {
   "cell_type": "code",
   "execution_count": 285,
   "metadata": {},
   "outputs": [
    {
     "data": {
      "text/plain": [
       "<seaborn.axisgrid.PairGrid at 0x18c112b7ba8>"
      ]
     },
     "execution_count": 285,
     "metadata": {},
     "output_type": "execute_result"
    },
    {
     "data": {
      "image/png": "[encoded data removed]",
      "text/plain": [
       "<Figure size 720x720 with 20 Axes>"
      ]
     },
     "metadata": {
      "needs_background": "light"
     },
     "output_type": "display_data"
    }
   ],
   "source": [
    "#Different PCA's are visually represented\n",
    "sns.pairplot(countrydata_pca_df)"
   ]
  },
  {
   "cell_type": "code",
   "execution_count": 286,
   "metadata": {},
   "outputs": [],
   "source": [
    "#Outliers After PCA"
   ]
  },
  {
   "cell_type": "code",
   "execution_count": 287,
   "metadata": {},
   "outputs": [],
   "source": [
    "for column in countrydata_pca_df.columns:\n",
    "    Q1 = countrydata_pca_df[column].quantile(0.25)\n",
    "    Q3 = countrydata_pca_df[column].quantile(0.75)\n",
    "    IQR = Q3 - Q1\n",
    "    countrydata_pca_df_wo_outliers = countrydata_pca_df[(countrydata_pca_df[column] >= Q1 - 1.5*IQR) & (countrydata_pca_df[column] <= Q3 + 1.5*IQR)]"
   ]
  },
  {
   "cell_type": "markdown",
   "metadata": {},
   "source": [
    "Since the PCA's are gradually increasing and removing the outliers after PCA does not the data set by a huge margin, since it is already taken care of, outliers are not removed here "
   ]
  },
  {
   "cell_type": "markdown",
   "metadata": {},
   "source": [
    "### 3. Clustering"
   ]
  },
  {
   "cell_type": "markdown",
   "metadata": {},
   "source": [
    "#### 3.1 K-Means Clustering"
   ]
  },
  {
   "cell_type": "markdown",
   "metadata": {},
   "source": [
    "#### Hopkins Statistic"
   ]
  },
  {
   "cell_type": "code",
   "execution_count": 288,
   "metadata": {},
   "outputs": [],
   "source": [
    "from sklearn.neighbors import NearestNeighbors\n",
    "from random import sample\n",
    "from numpy.random import uniform\n",
    "import numpy as np\n",
    "from math import isnan\n",
    " \n",
    "def hopkins(X):\n",
    "    d = X.shape[1]\n",
    "    #d = len(vars) # columns\n",
    "    n = len(X) # rows\n",
    "    m = int(0.1 * n) \n",
    "    nbrs = NearestNeighbors(n_neighbors=1).fit(X.values)\n",
    "    \n",
    "    rand_X = sample(range(0, n, 1), m)\n",
    "\n",
    "    ujd = []\n",
    "    wjd = []\n",
    "    for j in range(0, m):\n",
    "        u_dist, _ = nbrs.kneighbors(uniform(np.amin(X,axis=0),np.amax(X,axis=0),d).reshape(1, -1), 2, return_distance=True)\n",
    "        ujd.append(u_dist[0][1])\n",
    "        w_dist, _ = nbrs.kneighbors(X.iloc[rand_X[j]].values.reshape(1, -1), 2, return_distance=True)\n",
    "        wjd.append(w_dist[0][1])\n",
    " \n",
    "    H = sum(ujd) / (sum(ujd) + sum(wjd))\n",
    "    if isnan(H):\n",
    "        print(ujd, wjd)\n",
    "        H = 0\n",
    " \n",
    "    return H"
   ]
  },
  {
   "cell_type": "code",
   "execution_count": 289,
   "metadata": {},
   "outputs": [
    {
     "data": {
      "text/plain": [
       "0.7394530757703028"
      ]
     },
     "execution_count": 289,
     "metadata": {},
     "output_type": "execute_result"
    }
   ],
   "source": [
    "hopkins(countrydata_pca_df)"
   ]
  },
  {
   "cell_type": "markdown",
   "metadata": {},
   "source": [
    "Since the value is > 0.5 the given dataset has a good tendency to form clusters."
   ]
  },
  {
   "cell_type": "markdown",
   "metadata": {},
   "source": [
    "#### Silhoutte score"
   ]
  },
  {
   "cell_type": "code",
   "execution_count": 290,
   "metadata": {},
   "outputs": [],
   "source": [
    "from sklearn.metrics import silhouette_score\n",
    "from sklearn.cluster import KMeans\n",
    "sse_ = []\n",
    "for k in range(2, 15):\n",
    "    kmeans = KMeans(n_clusters=k).fit(countrydata_pca_df)\n",
    "    sse_.append([k, silhouette_score(countrydata_pca_df, kmeans.labels_)]) "
   ]
  },
  {
   "cell_type": "code",
   "execution_count": 320,
   "metadata": {},
   "outputs": [
    {
     "data": {
      "text/plain": [
       "[<matplotlib.lines.Line2D at 0x18c0b6450f0>]"
      ]
     },
     "execution_count": 320,
     "metadata": {},
     "output_type": "execute_result"
    },
    {
     "data": {
      "image/png": "[encoded data removed]",
      "text/plain": [
       "<Figure size 432x288 with 1 Axes>"
      ]
     },
     "metadata": {
      "needs_background": "light"
     },
     "output_type": "display_data"
    }
   ],
   "source": [
    "plt.title('Silhoutte Score')\n",
    "plt.plot(pd.DataFrame(sse_)[0], pd.DataFrame(sse_)[1])"
   ]
  },
  {
   "cell_type": "markdown",
   "metadata": {},
   "source": [
    "#### Elbow curve determining Cluster Inertia"
   ]
  },
  {
   "cell_type": "code",
   "execution_count": 321,
   "metadata": {},
   "outputs": [
    {
     "data": {
      "text/plain": [
       "[<matplotlib.lines.Line2D at 0x18c13374ef0>]"
      ]
     },
     "execution_count": 321,
     "metadata": {},
     "output_type": "execute_result"
    },
    {
     "data": {
      "image/png": "[encoded data removed]",
      "text/plain": [
       "<Figure size 432x288 with 1 Axes>"
      ]
     },
     "metadata": {
      "needs_background": "light"
     },
     "output_type": "display_data"
    }
   ],
   "source": [
    "## From the above analysis we find that 4 seems to be a good number of clusters for K means algorithm\n",
    "# elbow curve method determining sum of squared distances\n",
    "ssd = []\n",
    "for num_clusters in list(range(1,21)):\n",
    "    model_clus = KMeans(n_clusters = num_clusters, max_iter=50)\n",
    "    model_clus.fit(countrydata_pca_df)\n",
    "    ssd.append(model_clus.inertia_)\n",
    "\n",
    "plt.title('Cluster Inertia')\n",
    "plt.plot(ssd)"
   ]
  },
  {
   "cell_type": "code",
   "execution_count": 293,
   "metadata": {},
   "outputs": [
    {
     "data": {
      "text/plain": [
       "KMeans(algorithm='auto', copy_x=True, init='k-means++', max_iter=50,\n",
       "    n_clusters=4, n_init=10, n_jobs=None, precompute_distances='auto',\n",
       "    random_state=None, tol=0.0001, verbose=0)"
      ]
     },
     "execution_count": 293,
     "metadata": {},
     "output_type": "execute_result"
    }
   ],
   "source": [
    "#Here also we're seeing a distinct bend at around 4 clusters. Hence it seems a good K to choose.\n",
    "#Let's perform K means using K=4\n",
    "model_clus4 = KMeans(n_clusters = 4, max_iter=50)\n",
    "model_clus4.fit(countrydata_pca_df)"
   ]
  },
  {
   "cell_type": "code",
   "execution_count": 294,
   "metadata": {},
   "outputs": [],
   "source": [
    "countrydata_pca_df.index = pd.RangeIndex(len(countrydata_pca_df.index))"
   ]
  },
  {
   "cell_type": "code",
   "execution_count": 295,
   "metadata": {},
   "outputs": [],
   "source": [
    "countrydata_pca_km = pd.concat([countrydata_pca_df, pd.Series(model_clus4.labels_)], axis=1)"
   ]
  },
  {
   "cell_type": "code",
   "execution_count": 296,
   "metadata": {},
   "outputs": [
    {
     "data": {
      "text/plain": [
       "(142, 5)"
      ]
     },
     "execution_count": 296,
     "metadata": {},
     "output_type": "execute_result"
    }
   ],
   "source": [
    "countrydata_pca_km.columns = ['PC 1','PC 2','PC 3','PC 4','Cluster ID']\n",
    "countrydata_pca_km.shape"
   ]
  },
  {
   "cell_type": "markdown",
   "metadata": {},
   "source": [
    "Final Check by the distribution of data equally throughout all the clusters"
   ]
  },
  {
   "cell_type": "code",
   "execution_count": 297,
   "metadata": {},
   "outputs": [
    {
     "data": {
      "text/plain": [
       "1    42\n",
       "0    42\n",
       "2    35\n",
       "3    23\n",
       "Name: Cluster ID, dtype: int64"
      ]
     },
     "execution_count": 297,
     "metadata": {},
     "output_type": "execute_result"
    }
   ],
   "source": [
    "countrydata_pca_km['Cluster ID'].value_counts()"
   ]
  },
  {
   "cell_type": "markdown",
   "metadata": {},
   "source": [
    "#### Visualization of Different Clusters with PCA"
   ]
  },
  {
   "cell_type": "code",
   "execution_count": 298,
   "metadata": {},
   "outputs": [
    {
     "data": {
      "text/plain": [
       "<matplotlib.axes._subplots.AxesSubplot at 0x18c107e3a58>"
      ]
     },
     "execution_count": 298,
     "metadata": {},
     "output_type": "execute_result"
    },
    {
     "data": {
      "image/png": "[encoded data removed]",
      "text/plain": [
       "<Figure size 432x288 with 1 Axes>"
      ]
     },
     "metadata": {
      "needs_background": "light"
     },
     "output_type": "display_data"
    }
   ],
   "source": [
    "#Visualization Of the Difference in the PCA's\n",
    "sns.scatterplot(x=\"PC 1\", y= \"PC 2\", data=countrydata_pca_km,hue=\"Cluster ID\")"
   ]
  },
  {
   "cell_type": "code",
   "execution_count": 299,
   "metadata": {},
   "outputs": [
    {
     "data": {
      "text/plain": [
       "<matplotlib.axes._subplots.AxesSubplot at 0x18c0f4fbf98>"
      ]
     },
     "execution_count": 299,
     "metadata": {},
     "output_type": "execute_result"
    },
    {
     "data": {
      "image/png": "[encoded data removed]",
      "text/plain": [
       "<Figure size 432x288 with 1 Axes>"
      ]
     },
     "metadata": {
      "needs_background": "light"
     },
     "output_type": "display_data"
    }
   ],
   "source": [
    "#Visualization Of the Difference in the PCA's\n",
    "sns.scatterplot(x=\"PC 3\", y= \"PC 4\", data=countrydata_pca_km,hue=\"Cluster ID\")"
   ]
  },
  {
   "cell_type": "code",
   "execution_count": 300,
   "metadata": {},
   "outputs": [],
   "source": [
    "#Merge both the dataframes to derive cluster id's for the original data set\n",
    "final_cluster_df = pd.merge(countries_data,countrydata_pca_km,left_index=True,right_index=True)"
   ]
  },
  {
   "cell_type": "markdown",
   "metadata": {},
   "source": [
    "#### Visualization of cluster variables against original variables"
   ]
  },
  {
   "cell_type": "code",
   "execution_count": 301,
   "metadata": {},
   "outputs": [
    {
     "data": {
      "text/plain": [
       "<matplotlib.axes._subplots.AxesSubplot at 0x18c0d2f1b00>"
      ]
     },
     "execution_count": 301,
     "metadata": {},
     "output_type": "execute_result"
    },
    {
     "data": {
      "image/png": "[encoded data removed]",
      "text/plain": [
       "<Figure size 432x288 with 1 Axes>"
      ]
     },
     "metadata": {
      "needs_background": "light"
     },
     "output_type": "display_data"
    }
   ],
   "source": [
    "sns.scatterplot(x=\"gdpp\", y= \"child_mort\", data=final_cluster_df,hue=\"Cluster ID\")"
   ]
  },
  {
   "cell_type": "code",
   "execution_count": 302,
   "metadata": {},
   "outputs": [],
   "source": [
    "#Calculate mean for all the variables\n",
    "clu_child_mort = pd.DataFrame(final_cluster_df.groupby([\"Cluster ID\"]).child_mort.mean())\n",
    "clu_exports    = pd.DataFrame(final_cluster_df.groupby([\"Cluster ID\"]).exports.mean())\n",
    "clu_health     = pd.DataFrame(final_cluster_df.groupby([\"Cluster ID\"]).health.mean())\n",
    "clu_imports    = pd.DataFrame(final_cluster_df.groupby([\"Cluster ID\"]).imports.mean())\n",
    "clu_income     = pd.DataFrame(final_cluster_df.groupby([\"Cluster ID\"]).income.mean())\n",
    "clu_inflation  = pd.DataFrame(final_cluster_df.groupby([\"Cluster ID\"]).inflation.mean())\n",
    "clu_life_expec = pd.DataFrame(final_cluster_df.groupby([\"Cluster ID\"]).life_expec.mean())\n",
    "clu_total_fer  = pd.DataFrame(final_cluster_df.groupby([\"Cluster ID\"]).total_fer.mean())\n",
    "clu_gdpp       = pd.DataFrame(final_cluster_df.groupby([\"Cluster ID\"]).gdpp.mean())"
   ]
  },
  {
   "cell_type": "code",
   "execution_count": 303,
   "metadata": {},
   "outputs": [],
   "source": [
    "fin_df_km = pd.concat([pd.Series([0,1,2,3]),clu_child_mort,clu_exports,clu_health,clu_imports,clu_income,clu_inflation,clu_life_expec,\n",
    "               clu_total_fer,clu_gdpp], axis=1)"
   ]
  },
  {
   "cell_type": "code",
   "execution_count": 304,
   "metadata": {},
   "outputs": [],
   "source": [
    "fin_df_km.columns = ['Cluster ID', 'child_mort', 'exports', 'health', 'imports',\n",
    "       'income', 'inflation', 'life_expec', 'total_fer', 'gdpp'] "
   ]
  },
  {
   "cell_type": "code",
   "execution_count": 305,
   "metadata": {},
   "outputs": [
    {
     "data": {
      "text/html": [
       "<div>\n",
       "<style scoped>\n",
       "    .dataframe tbody tr th:only-of-type {\n",
       "        vertical-align: middle;\n",
       "    }\n",
       "\n",
       "    .dataframe tbody tr th {\n",
       "        vertical-align: top;\n",
       "    }\n",
       "\n",
       "    .dataframe thead th {\n",
       "        text-align: right;\n",
       "    }\n",
       "</style>\n",
       "<table border=\"1\" class=\"dataframe\">\n",
       "  <thead>\n",
       "    <tr style=\"text-align: right;\">\n",
       "      <th></th>\n",
       "      <th>Cluster ID</th>\n",
       "      <th>child_mort</th>\n",
       "      <th>exports</th>\n",
       "      <th>health</th>\n",
       "      <th>imports</th>\n",
       "      <th>income</th>\n",
       "      <th>inflation</th>\n",
       "      <th>life_expec</th>\n",
       "      <th>total_fer</th>\n",
       "      <th>gdpp</th>\n",
       "    </tr>\n",
       "  </thead>\n",
       "  <tbody>\n",
       "    <tr>\n",
       "      <th>0</th>\n",
       "      <td>0</td>\n",
       "      <td>21.633333</td>\n",
       "      <td>48.216667</td>\n",
       "      <td>6.877143</td>\n",
       "      <td>61.173810</td>\n",
       "      <td>10220.952381</td>\n",
       "      <td>4.560024</td>\n",
       "      <td>71.735714</td>\n",
       "      <td>2.335476</td>\n",
       "      <td>5153.238095</td>\n",
       "    </tr>\n",
       "    <tr>\n",
       "      <th>1</th>\n",
       "      <td>1</td>\n",
       "      <td>96.407143</td>\n",
       "      <td>26.090714</td>\n",
       "      <td>6.399762</td>\n",
       "      <td>42.030952</td>\n",
       "      <td>2422.214286</td>\n",
       "      <td>11.770119</td>\n",
       "      <td>58.930952</td>\n",
       "      <td>5.120238</td>\n",
       "      <td>1153.857143</td>\n",
       "    </tr>\n",
       "    <tr>\n",
       "      <th>2</th>\n",
       "      <td>2</td>\n",
       "      <td>29.531429</td>\n",
       "      <td>27.168257</td>\n",
       "      <td>5.390000</td>\n",
       "      <td>30.024740</td>\n",
       "      <td>10524.285714</td>\n",
       "      <td>12.223314</td>\n",
       "      <td>71.888571</td>\n",
       "      <td>2.561143</td>\n",
       "      <td>5137.600000</td>\n",
       "    </tr>\n",
       "    <tr>\n",
       "      <th>3</th>\n",
       "      <td>3</td>\n",
       "      <td>11.856522</td>\n",
       "      <td>57.391304</td>\n",
       "      <td>7.214348</td>\n",
       "      <td>53.543478</td>\n",
       "      <td>28413.043478</td>\n",
       "      <td>4.672739</td>\n",
       "      <td>76.800000</td>\n",
       "      <td>1.929565</td>\n",
       "      <td>19813.043478</td>\n",
       "    </tr>\n",
       "  </tbody>\n",
       "</table>\n",
       "</div>"
      ],
      "text/plain": [
       "   Cluster ID  child_mort    exports    health    imports        income  \\\n",
       "0           0   21.633333  48.216667  6.877143  61.173810  10220.952381   \n",
       "1           1   96.407143  26.090714  6.399762  42.030952   2422.214286   \n",
       "2           2   29.531429  27.168257  5.390000  30.024740  10524.285714   \n",
       "3           3   11.856522  57.391304  7.214348  53.543478  28413.043478   \n",
       "\n",
       "   inflation  life_expec  total_fer          gdpp  \n",
       "0   4.560024   71.735714   2.335476   5153.238095  \n",
       "1  11.770119   58.930952   5.120238   1153.857143  \n",
       "2  12.223314   71.888571   2.561143   5137.600000  \n",
       "3   4.672739   76.800000   1.929565  19813.043478  "
      ]
     },
     "execution_count": 305,
     "metadata": {},
     "output_type": "execute_result"
    }
   ],
   "source": [
    "#Final DataFrame consisting mean for all the clusters\n",
    "fin_df_km"
   ]
  },
  {
   "cell_type": "code",
   "execution_count": 306,
   "metadata": {},
   "outputs": [
    {
     "data": {
      "text/plain": [
       "<matplotlib.axes._subplots.AxesSubplot at 0x18c1000b7b8>"
      ]
     },
     "execution_count": 306,
     "metadata": {},
     "output_type": "execute_result"
    },
    {
     "data": {
      "image/png": "[encoded data removed]",
      "text/plain": [
       "<Figure size 1800x720 with 4 Axes>"
      ]
     },
     "metadata": {
      "needs_background": "light"
     },
     "output_type": "display_data"
    }
   ],
   "source": [
    "plt.figure(figsize=(25,10))\n",
    "plt.subplot(1,4,1)\n",
    "plt.title('Child Mortality Rate')\n",
    "sns.barplot(x=fin_df_km[\"Cluster ID\"], y=fin_df_km[\"child_mort\"])\n",
    "\n",
    "plt.subplot(1,4,2)\n",
    "plt.title('Exports')\n",
    "sns.barplot(x=fin_df_km[\"Cluster ID\"], y=fin_df_km[\"exports\"])\n",
    "\n",
    "plt.subplot(1,4,3)\n",
    "plt.title('Health')\n",
    "sns.barplot(x=fin_df_km[\"Cluster ID\"], y=fin_df_km[\"health\"])\n",
    "\n",
    "plt.subplot(1,4,4)\n",
    "plt.title('Imports')\n",
    "sns.barplot(x=fin_df_km[\"Cluster ID\"], y=fin_df_km[\"imports\"])\n"
   ]
  },
  {
   "cell_type": "code",
   "execution_count": 307,
   "metadata": {},
   "outputs": [
    {
     "data": {
      "text/plain": [
       "<matplotlib.axes._subplots.AxesSubplot at 0x18c0876f550>"
      ]
     },
     "execution_count": 307,
     "metadata": {},
     "output_type": "execute_result"
    },
    {
     "data": {
      "image/png": "[encoded data removed]",
      "text/plain": [
       "<Figure size 1800x720 with 5 Axes>"
      ]
     },
     "metadata": {
      "needs_background": "light"
     },
     "output_type": "display_data"
    }
   ],
   "source": [
    "plt.figure(figsize=(25,10))\n",
    "plt.subplot(1,5,1)\n",
    "plt.title('Income')\n",
    "sns.barplot(x=fin_df_km[\"Cluster ID\"], y=fin_df_km[\"income\"])\n",
    "\n",
    "plt.subplot(1,5,2)\n",
    "plt.title('Inflation')\n",
    "sns.barplot(x=fin_df_km[\"Cluster ID\"], y=fin_df_km[\"inflation\"])\n",
    "\n",
    "plt.subplot(1,5,3)\n",
    "plt.title('Life Expectancy')\n",
    "sns.barplot(x=fin_df_km[\"Cluster ID\"], y=fin_df_km[\"life_expec\"])\n",
    "\n",
    "plt.subplot(1,5,4)\n",
    "plt.title('Total Fertility Rate')\n",
    "sns.barplot(x=fin_df_km[\"Cluster ID\"], y=fin_df_km[\"total_fer\"])\n",
    "\n",
    "plt.subplot(1,5,5)\n",
    "plt.title('GDP Per Capita')\n",
    "sns.barplot(x=fin_df_km[\"Cluster ID\"], y=fin_df_km[\"gdpp\"])\n"
   ]
  },
  {
   "cell_type": "code",
   "execution_count": 308,
   "metadata": {},
   "outputs": [],
   "source": [
    "final_cluster_df = final_cluster_df.drop(['PC 1','PC 2','PC 3','PC 4'],1)"
   ]
  },
  {
   "cell_type": "markdown",
   "metadata": {},
   "source": [
    "### Cluster 2 is the bad cluster"
   ]
  },
  {
   "cell_type": "code",
   "execution_count": 309,
   "metadata": {},
   "outputs": [
    {
     "data": {
      "text/html": [
       "<div>\n",
       "<style scoped>\n",
       "    .dataframe tbody tr th:only-of-type {\n",
       "        vertical-align: middle;\n",
       "    }\n",
       "\n",
       "    .dataframe tbody tr th {\n",
       "        vertical-align: top;\n",
       "    }\n",
       "\n",
       "    .dataframe thead th {\n",
       "        text-align: right;\n",
       "    }\n",
       "</style>\n",
       "<table border=\"1\" class=\"dataframe\">\n",
       "  <thead>\n",
       "    <tr style=\"text-align: right;\">\n",
       "      <th></th>\n",
       "      <th>country</th>\n",
       "      <th>child_mort</th>\n",
       "      <th>exports</th>\n",
       "      <th>health</th>\n",
       "      <th>imports</th>\n",
       "      <th>income</th>\n",
       "      <th>inflation</th>\n",
       "      <th>life_expec</th>\n",
       "      <th>total_fer</th>\n",
       "      <th>gdpp</th>\n",
       "      <th>Cluster ID</th>\n",
       "    </tr>\n",
       "  </thead>\n",
       "  <tbody>\n",
       "    <tr>\n",
       "      <th>92</th>\n",
       "      <td>Myanmar</td>\n",
       "      <td>64.4</td>\n",
       "      <td>0.109</td>\n",
       "      <td>1.97</td>\n",
       "      <td>0.0659</td>\n",
       "      <td>3720</td>\n",
       "      <td>7.040</td>\n",
       "      <td>66.8</td>\n",
       "      <td>2.41</td>\n",
       "      <td>988</td>\n",
       "      <td>2</td>\n",
       "    </tr>\n",
       "    <tr>\n",
       "      <th>47</th>\n",
       "      <td>Gabon</td>\n",
       "      <td>63.7</td>\n",
       "      <td>57.700</td>\n",
       "      <td>3.50</td>\n",
       "      <td>18.9000</td>\n",
       "      <td>15400</td>\n",
       "      <td>16.600</td>\n",
       "      <td>62.9</td>\n",
       "      <td>4.08</td>\n",
       "      <td>8750</td>\n",
       "      <td>2</td>\n",
       "    </tr>\n",
       "    <tr>\n",
       "      <th>59</th>\n",
       "      <td>India</td>\n",
       "      <td>58.8</td>\n",
       "      <td>22.600</td>\n",
       "      <td>4.05</td>\n",
       "      <td>27.1000</td>\n",
       "      <td>4410</td>\n",
       "      <td>8.980</td>\n",
       "      <td>66.2</td>\n",
       "      <td>2.60</td>\n",
       "      <td>1350</td>\n",
       "      <td>2</td>\n",
       "    </tr>\n",
       "    <tr>\n",
       "      <th>124</th>\n",
       "      <td>Tajikistan</td>\n",
       "      <td>52.4</td>\n",
       "      <td>14.900</td>\n",
       "      <td>5.98</td>\n",
       "      <td>58.6000</td>\n",
       "      <td>2110</td>\n",
       "      <td>12.500</td>\n",
       "      <td>69.6</td>\n",
       "      <td>3.51</td>\n",
       "      <td>738</td>\n",
       "      <td>2</td>\n",
       "    </tr>\n",
       "    <tr>\n",
       "      <th>10</th>\n",
       "      <td>Bangladesh</td>\n",
       "      <td>49.4</td>\n",
       "      <td>16.000</td>\n",
       "      <td>3.52</td>\n",
       "      <td>21.8000</td>\n",
       "      <td>2440</td>\n",
       "      <td>7.140</td>\n",
       "      <td>70.4</td>\n",
       "      <td>2.33</td>\n",
       "      <td>758</td>\n",
       "      <td>2</td>\n",
       "    </tr>\n",
       "    <tr>\n",
       "      <th>94</th>\n",
       "      <td>Nepal</td>\n",
       "      <td>47.0</td>\n",
       "      <td>9.580</td>\n",
       "      <td>5.25</td>\n",
       "      <td>36.4000</td>\n",
       "      <td>1990</td>\n",
       "      <td>15.100</td>\n",
       "      <td>68.3</td>\n",
       "      <td>2.61</td>\n",
       "      <td>592</td>\n",
       "      <td>2</td>\n",
       "    </tr>\n",
       "    <tr>\n",
       "      <th>16</th>\n",
       "      <td>Bolivia</td>\n",
       "      <td>46.6</td>\n",
       "      <td>41.200</td>\n",
       "      <td>4.84</td>\n",
       "      <td>34.3000</td>\n",
       "      <td>5410</td>\n",
       "      <td>8.780</td>\n",
       "      <td>71.6</td>\n",
       "      <td>3.20</td>\n",
       "      <td>1980</td>\n",
       "      <td>2</td>\n",
       "    </tr>\n",
       "    <tr>\n",
       "      <th>7</th>\n",
       "      <td>Azerbaijan</td>\n",
       "      <td>39.2</td>\n",
       "      <td>54.300</td>\n",
       "      <td>5.88</td>\n",
       "      <td>20.7000</td>\n",
       "      <td>16000</td>\n",
       "      <td>13.800</td>\n",
       "      <td>69.1</td>\n",
       "      <td>1.92</td>\n",
       "      <td>5840</td>\n",
       "      <td>2</td>\n",
       "    </tr>\n",
       "    <tr>\n",
       "      <th>62</th>\n",
       "      <td>Iraq</td>\n",
       "      <td>36.9</td>\n",
       "      <td>39.400</td>\n",
       "      <td>8.41</td>\n",
       "      <td>34.1000</td>\n",
       "      <td>12700</td>\n",
       "      <td>16.600</td>\n",
       "      <td>67.2</td>\n",
       "      <td>4.56</td>\n",
       "      <td>4500</td>\n",
       "      <td>2</td>\n",
       "    </tr>\n",
       "    <tr>\n",
       "      <th>136</th>\n",
       "      <td>Uzbekistan</td>\n",
       "      <td>36.3</td>\n",
       "      <td>31.700</td>\n",
       "      <td>5.81</td>\n",
       "      <td>28.5000</td>\n",
       "      <td>4240</td>\n",
       "      <td>16.500</td>\n",
       "      <td>68.8</td>\n",
       "      <td>2.34</td>\n",
       "      <td>1380</td>\n",
       "      <td>2</td>\n",
       "    </tr>\n",
       "    <tr>\n",
       "      <th>53</th>\n",
       "      <td>Guatemala</td>\n",
       "      <td>35.4</td>\n",
       "      <td>25.800</td>\n",
       "      <td>6.85</td>\n",
       "      <td>36.3000</td>\n",
       "      <td>6710</td>\n",
       "      <td>5.140</td>\n",
       "      <td>71.3</td>\n",
       "      <td>3.38</td>\n",
       "      <td>2830</td>\n",
       "      <td>2</td>\n",
       "    </tr>\n",
       "    <tr>\n",
       "      <th>39</th>\n",
       "      <td>Dominican Republic</td>\n",
       "      <td>34.4</td>\n",
       "      <td>22.700</td>\n",
       "      <td>6.22</td>\n",
       "      <td>33.3000</td>\n",
       "      <td>11100</td>\n",
       "      <td>5.440</td>\n",
       "      <td>74.6</td>\n",
       "      <td>2.60</td>\n",
       "      <td>5450</td>\n",
       "      <td>2</td>\n",
       "    </tr>\n",
       "    <tr>\n",
       "      <th>90</th>\n",
       "      <td>Morocco</td>\n",
       "      <td>33.5</td>\n",
       "      <td>32.200</td>\n",
       "      <td>5.20</td>\n",
       "      <td>43.0000</td>\n",
       "      <td>6440</td>\n",
       "      <td>0.976</td>\n",
       "      <td>73.5</td>\n",
       "      <td>2.58</td>\n",
       "      <td>2830</td>\n",
       "      <td>2</td>\n",
       "    </tr>\n",
       "    <tr>\n",
       "      <th>60</th>\n",
       "      <td>Indonesia</td>\n",
       "      <td>33.3</td>\n",
       "      <td>24.300</td>\n",
       "      <td>2.61</td>\n",
       "      <td>22.4000</td>\n",
       "      <td>8430</td>\n",
       "      <td>15.300</td>\n",
       "      <td>69.9</td>\n",
       "      <td>2.48</td>\n",
       "      <td>3110</td>\n",
       "      <td>2</td>\n",
       "    </tr>\n",
       "    <tr>\n",
       "      <th>102</th>\n",
       "      <td>Philippines</td>\n",
       "      <td>31.9</td>\n",
       "      <td>34.800</td>\n",
       "      <td>3.61</td>\n",
       "      <td>36.6000</td>\n",
       "      <td>5600</td>\n",
       "      <td>4.220</td>\n",
       "      <td>69.0</td>\n",
       "      <td>3.16</td>\n",
       "      <td>2130</td>\n",
       "      <td>2</td>\n",
       "    </tr>\n",
       "    <tr>\n",
       "      <th>41</th>\n",
       "      <td>Egypt</td>\n",
       "      <td>29.1</td>\n",
       "      <td>21.300</td>\n",
       "      <td>4.66</td>\n",
       "      <td>26.6000</td>\n",
       "      <td>9860</td>\n",
       "      <td>10.100</td>\n",
       "      <td>70.5</td>\n",
       "      <td>3.19</td>\n",
       "      <td>2600</td>\n",
       "      <td>2</td>\n",
       "    </tr>\n",
       "    <tr>\n",
       "      <th>2</th>\n",
       "      <td>Algeria</td>\n",
       "      <td>27.3</td>\n",
       "      <td>38.400</td>\n",
       "      <td>4.17</td>\n",
       "      <td>31.4000</td>\n",
       "      <td>12900</td>\n",
       "      <td>16.100</td>\n",
       "      <td>76.5</td>\n",
       "      <td>2.89</td>\n",
       "      <td>4460</td>\n",
       "      <td>2</td>\n",
       "    </tr>\n",
       "    <tr>\n",
       "      <th>88</th>\n",
       "      <td>Mongolia</td>\n",
       "      <td>26.1</td>\n",
       "      <td>46.700</td>\n",
       "      <td>5.44</td>\n",
       "      <td>56.7000</td>\n",
       "      <td>7710</td>\n",
       "      <td>39.200</td>\n",
       "      <td>66.2</td>\n",
       "      <td>2.64</td>\n",
       "      <td>2650</td>\n",
       "      <td>2</td>\n",
       "    </tr>\n",
       "    <tr>\n",
       "      <th>40</th>\n",
       "      <td>Ecuador</td>\n",
       "      <td>25.1</td>\n",
       "      <td>27.900</td>\n",
       "      <td>8.06</td>\n",
       "      <td>32.4000</td>\n",
       "      <td>9350</td>\n",
       "      <td>7.470</td>\n",
       "      <td>76.7</td>\n",
       "      <td>2.66</td>\n",
       "      <td>4660</td>\n",
       "      <td>2</td>\n",
       "    </tr>\n",
       "    <tr>\n",
       "      <th>66</th>\n",
       "      <td>Kazakhstan</td>\n",
       "      <td>21.5</td>\n",
       "      <td>44.200</td>\n",
       "      <td>4.29</td>\n",
       "      <td>29.9000</td>\n",
       "      <td>20100</td>\n",
       "      <td>19.500</td>\n",
       "      <td>68.4</td>\n",
       "      <td>2.60</td>\n",
       "      <td>9070</td>\n",
       "      <td>2</td>\n",
       "    </tr>\n",
       "    <tr>\n",
       "      <th>101</th>\n",
       "      <td>Peru</td>\n",
       "      <td>20.3</td>\n",
       "      <td>27.800</td>\n",
       "      <td>5.08</td>\n",
       "      <td>23.8000</td>\n",
       "      <td>9960</td>\n",
       "      <td>5.710</td>\n",
       "      <td>77.9</td>\n",
       "      <td>2.54</td>\n",
       "      <td>5020</td>\n",
       "      <td>2</td>\n",
       "    </tr>\n",
       "    <tr>\n",
       "      <th>19</th>\n",
       "      <td>Brazil</td>\n",
       "      <td>19.8</td>\n",
       "      <td>10.700</td>\n",
       "      <td>9.01</td>\n",
       "      <td>11.8000</td>\n",
       "      <td>14500</td>\n",
       "      <td>8.410</td>\n",
       "      <td>74.2</td>\n",
       "      <td>1.80</td>\n",
       "      <td>11200</td>\n",
       "      <td>2</td>\n",
       "    </tr>\n",
       "    <tr>\n",
       "      <th>61</th>\n",
       "      <td>Iran</td>\n",
       "      <td>19.3</td>\n",
       "      <td>24.400</td>\n",
       "      <td>5.60</td>\n",
       "      <td>19.4000</td>\n",
       "      <td>17400</td>\n",
       "      <td>15.900</td>\n",
       "      <td>74.5</td>\n",
       "      <td>1.76</td>\n",
       "      <td>6530</td>\n",
       "      <td>2</td>\n",
       "    </tr>\n",
       "    <tr>\n",
       "      <th>131</th>\n",
       "      <td>Turkey</td>\n",
       "      <td>19.1</td>\n",
       "      <td>20.400</td>\n",
       "      <td>6.74</td>\n",
       "      <td>25.5000</td>\n",
       "      <td>18000</td>\n",
       "      <td>7.010</td>\n",
       "      <td>78.2</td>\n",
       "      <td>2.15</td>\n",
       "      <td>10700</td>\n",
       "      <td>2</td>\n",
       "    </tr>\n",
       "    <tr>\n",
       "      <th>30</th>\n",
       "      <td>Colombia</td>\n",
       "      <td>18.6</td>\n",
       "      <td>15.900</td>\n",
       "      <td>7.59</td>\n",
       "      <td>17.8000</td>\n",
       "      <td>10900</td>\n",
       "      <td>3.860</td>\n",
       "      <td>76.4</td>\n",
       "      <td>2.01</td>\n",
       "      <td>6250</td>\n",
       "      <td>2</td>\n",
       "    </tr>\n",
       "    <tr>\n",
       "      <th>6</th>\n",
       "      <td>Armenia</td>\n",
       "      <td>18.1</td>\n",
       "      <td>20.800</td>\n",
       "      <td>4.40</td>\n",
       "      <td>45.3000</td>\n",
       "      <td>6700</td>\n",
       "      <td>7.770</td>\n",
       "      <td>73.3</td>\n",
       "      <td>1.69</td>\n",
       "      <td>3220</td>\n",
       "      <td>2</td>\n",
       "    </tr>\n",
       "    <tr>\n",
       "      <th>64</th>\n",
       "      <td>Jamaica</td>\n",
       "      <td>18.1</td>\n",
       "      <td>31.300</td>\n",
       "      <td>4.81</td>\n",
       "      <td>49.6000</td>\n",
       "      <td>8000</td>\n",
       "      <td>9.810</td>\n",
       "      <td>74.7</td>\n",
       "      <td>2.17</td>\n",
       "      <td>4680</td>\n",
       "      <td>2</td>\n",
       "    </tr>\n",
       "    <tr>\n",
       "      <th>129</th>\n",
       "      <td>Tonga</td>\n",
       "      <td>17.4</td>\n",
       "      <td>12.400</td>\n",
       "      <td>5.07</td>\n",
       "      <td>60.3000</td>\n",
       "      <td>4980</td>\n",
       "      <td>3.680</td>\n",
       "      <td>69.9</td>\n",
       "      <td>3.91</td>\n",
       "      <td>3550</td>\n",
       "      <td>2</td>\n",
       "    </tr>\n",
       "    <tr>\n",
       "      <th>138</th>\n",
       "      <td>Venezuela</td>\n",
       "      <td>17.1</td>\n",
       "      <td>28.500</td>\n",
       "      <td>4.91</td>\n",
       "      <td>17.6000</td>\n",
       "      <td>16500</td>\n",
       "      <td>45.900</td>\n",
       "      <td>75.4</td>\n",
       "      <td>2.47</td>\n",
       "      <td>13500</td>\n",
       "      <td>2</td>\n",
       "    </tr>\n",
       "    <tr>\n",
       "      <th>29</th>\n",
       "      <td>China</td>\n",
       "      <td>15.7</td>\n",
       "      <td>26.300</td>\n",
       "      <td>5.07</td>\n",
       "      <td>22.6000</td>\n",
       "      <td>9530</td>\n",
       "      <td>6.940</td>\n",
       "      <td>74.6</td>\n",
       "      <td>1.59</td>\n",
       "      <td>4560</td>\n",
       "      <td>2</td>\n",
       "    </tr>\n",
       "    <tr>\n",
       "      <th>5</th>\n",
       "      <td>Argentina</td>\n",
       "      <td>14.5</td>\n",
       "      <td>18.900</td>\n",
       "      <td>8.10</td>\n",
       "      <td>16.0000</td>\n",
       "      <td>18700</td>\n",
       "      <td>20.900</td>\n",
       "      <td>75.8</td>\n",
       "      <td>2.37</td>\n",
       "      <td>10300</td>\n",
       "      <td>2</td>\n",
       "    </tr>\n",
       "    <tr>\n",
       "      <th>105</th>\n",
       "      <td>Romania</td>\n",
       "      <td>11.5</td>\n",
       "      <td>32.600</td>\n",
       "      <td>5.58</td>\n",
       "      <td>38.8000</td>\n",
       "      <td>17800</td>\n",
       "      <td>3.530</td>\n",
       "      <td>73.7</td>\n",
       "      <td>1.59</td>\n",
       "      <td>8230</td>\n",
       "      <td>2</td>\n",
       "    </tr>\n",
       "    <tr>\n",
       "      <th>120</th>\n",
       "      <td>Sri Lanka</td>\n",
       "      <td>11.2</td>\n",
       "      <td>19.600</td>\n",
       "      <td>2.94</td>\n",
       "      <td>26.8000</td>\n",
       "      <td>8560</td>\n",
       "      <td>22.800</td>\n",
       "      <td>74.4</td>\n",
       "      <td>2.20</td>\n",
       "      <td>2810</td>\n",
       "      <td>2</td>\n",
       "    </tr>\n",
       "    <tr>\n",
       "      <th>135</th>\n",
       "      <td>Uruguay</td>\n",
       "      <td>10.6</td>\n",
       "      <td>26.300</td>\n",
       "      <td>8.35</td>\n",
       "      <td>25.4000</td>\n",
       "      <td>17100</td>\n",
       "      <td>4.910</td>\n",
       "      <td>76.4</td>\n",
       "      <td>2.08</td>\n",
       "      <td>11900</td>\n",
       "      <td>2</td>\n",
       "    </tr>\n",
       "    <tr>\n",
       "      <th>106</th>\n",
       "      <td>Russia</td>\n",
       "      <td>10.0</td>\n",
       "      <td>29.200</td>\n",
       "      <td>5.08</td>\n",
       "      <td>21.1000</td>\n",
       "      <td>23100</td>\n",
       "      <td>14.200</td>\n",
       "      <td>69.2</td>\n",
       "      <td>1.57</td>\n",
       "      <td>10700</td>\n",
       "      <td>2</td>\n",
       "    </tr>\n",
       "  </tbody>\n",
       "</table>\n",
       "</div>"
      ],
      "text/plain": [
       "                country  child_mort  exports  health  imports  income  \\\n",
       "92              Myanmar        64.4    0.109    1.97   0.0659    3720   \n",
       "47                Gabon        63.7   57.700    3.50  18.9000   15400   \n",
       "59                India        58.8   22.600    4.05  27.1000    4410   \n",
       "124          Tajikistan        52.4   14.900    5.98  58.6000    2110   \n",
       "10           Bangladesh        49.4   16.000    3.52  21.8000    2440   \n",
       "94                Nepal        47.0    9.580    5.25  36.4000    1990   \n",
       "16              Bolivia        46.6   41.200    4.84  34.3000    5410   \n",
       "7            Azerbaijan        39.2   54.300    5.88  20.7000   16000   \n",
       "62                 Iraq        36.9   39.400    8.41  34.1000   12700   \n",
       "136          Uzbekistan        36.3   31.700    5.81  28.5000    4240   \n",
       "53            Guatemala        35.4   25.800    6.85  36.3000    6710   \n",
       "39   Dominican Republic        34.4   22.700    6.22  33.3000   11100   \n",
       "90              Morocco        33.5   32.200    5.20  43.0000    6440   \n",
       "60            Indonesia        33.3   24.300    2.61  22.4000    8430   \n",
       "102         Philippines        31.9   34.800    3.61  36.6000    5600   \n",
       "41                Egypt        29.1   21.300    4.66  26.6000    9860   \n",
       "2               Algeria        27.3   38.400    4.17  31.4000   12900   \n",
       "88             Mongolia        26.1   46.700    5.44  56.7000    7710   \n",
       "40              Ecuador        25.1   27.900    8.06  32.4000    9350   \n",
       "66           Kazakhstan        21.5   44.200    4.29  29.9000   20100   \n",
       "101                Peru        20.3   27.800    5.08  23.8000    9960   \n",
       "19               Brazil        19.8   10.700    9.01  11.8000   14500   \n",
       "61                 Iran        19.3   24.400    5.60  19.4000   17400   \n",
       "131              Turkey        19.1   20.400    6.74  25.5000   18000   \n",
       "30             Colombia        18.6   15.900    7.59  17.8000   10900   \n",
       "6               Armenia        18.1   20.800    4.40  45.3000    6700   \n",
       "64              Jamaica        18.1   31.300    4.81  49.6000    8000   \n",
       "129               Tonga        17.4   12.400    5.07  60.3000    4980   \n",
       "138           Venezuela        17.1   28.500    4.91  17.6000   16500   \n",
       "29                China        15.7   26.300    5.07  22.6000    9530   \n",
       "5             Argentina        14.5   18.900    8.10  16.0000   18700   \n",
       "105             Romania        11.5   32.600    5.58  38.8000   17800   \n",
       "120           Sri Lanka        11.2   19.600    2.94  26.8000    8560   \n",
       "135             Uruguay        10.6   26.300    8.35  25.4000   17100   \n",
       "106              Russia        10.0   29.200    5.08  21.1000   23100   \n",
       "\n",
       "     inflation  life_expec  total_fer   gdpp  Cluster ID  \n",
       "92       7.040        66.8       2.41    988           2  \n",
       "47      16.600        62.9       4.08   8750           2  \n",
       "59       8.980        66.2       2.60   1350           2  \n",
       "124     12.500        69.6       3.51    738           2  \n",
       "10       7.140        70.4       2.33    758           2  \n",
       "94      15.100        68.3       2.61    592           2  \n",
       "16       8.780        71.6       3.20   1980           2  \n",
       "7       13.800        69.1       1.92   5840           2  \n",
       "62      16.600        67.2       4.56   4500           2  \n",
       "136     16.500        68.8       2.34   1380           2  \n",
       "53       5.140        71.3       3.38   2830           2  \n",
       "39       5.440        74.6       2.60   5450           2  \n",
       "90       0.976        73.5       2.58   2830           2  \n",
       "60      15.300        69.9       2.48   3110           2  \n",
       "102      4.220        69.0       3.16   2130           2  \n",
       "41      10.100        70.5       3.19   2600           2  \n",
       "2       16.100        76.5       2.89   4460           2  \n",
       "88      39.200        66.2       2.64   2650           2  \n",
       "40       7.470        76.7       2.66   4660           2  \n",
       "66      19.500        68.4       2.60   9070           2  \n",
       "101      5.710        77.9       2.54   5020           2  \n",
       "19       8.410        74.2       1.80  11200           2  \n",
       "61      15.900        74.5       1.76   6530           2  \n",
       "131      7.010        78.2       2.15  10700           2  \n",
       "30       3.860        76.4       2.01   6250           2  \n",
       "6        7.770        73.3       1.69   3220           2  \n",
       "64       9.810        74.7       2.17   4680           2  \n",
       "129      3.680        69.9       3.91   3550           2  \n",
       "138     45.900        75.4       2.47  13500           2  \n",
       "29       6.940        74.6       1.59   4560           2  \n",
       "5       20.900        75.8       2.37  10300           2  \n",
       "105      3.530        73.7       1.59   8230           2  \n",
       "120     22.800        74.4       2.20   2810           2  \n",
       "135      4.910        76.4       2.08  11900           2  \n",
       "106     14.200        69.2       1.57  10700           2  "
      ]
     },
     "execution_count": 309,
     "metadata": {},
     "output_type": "execute_result"
    }
   ],
   "source": [
    "\n",
    "Cluster2df = final_cluster_df[final_cluster_df['Cluster ID'] ==2]\n",
    "Cluster2df = Cluster2df.sort_values(by=['child_mort', 'exports', 'health', 'imports','income', 'inflation', 'life_expec', 'total_fer', 'gdpp'], \n",
    "                       ascending=[False, True, True, False,True,False,True,True,True])\n",
    "Cluster2df"
   ]
  },
  {
   "cell_type": "markdown",
   "metadata": {},
   "source": [
    "#### 3.2 Hierarchical Clustering"
   ]
  },
  {
   "cell_type": "code",
   "execution_count": 310,
   "metadata": {},
   "outputs": [
    {
     "data": {
      "image/png": "[encoded data removed]",
      "text/plain": [
       "<Figure size 432x288 with 1 Axes>"
      ]
     },
     "metadata": {
      "needs_background": "light"
     },
     "output_type": "display_data"
    }
   ],
   "source": [
    "from scipy.cluster.hierarchy import dendrogram, linkage,cut_tree  \n",
    "mergings = linkage(countries_data.iloc[:,1:], method = \"complete\", metric='euclidean')\n",
    "dendrogram(mergings,color_threshold=2000)\n",
    "plt.show()"
   ]
  },
  {
   "cell_type": "code",
   "execution_count": 311,
   "metadata": {},
   "outputs": [],
   "source": [
    "#Create the Hierarchial Clustering DataFrame with Cluster ID's\n",
    "clusterCut = pd.Series(cut_tree(mergings, n_clusters = 3).reshape(-1,))\n",
    "countries_data_hc = pd.concat([countries_data, clusterCut], axis=1)\n",
    "countries_data_hc.columns = ['country','child_mort','exports','health','imports','income','inflation','life_expec','total_fer','gdpp','Cluster ID']"
   ]
  },
  {
   "cell_type": "code",
   "execution_count": 312,
   "metadata": {},
   "outputs": [],
   "source": [
    "#Calculate mean for all the variables\n",
    "clu_child_mort = pd.DataFrame(countries_data_hc.groupby([\"Cluster ID\"]).child_mort.mean())\n",
    "clu_exports    = pd.DataFrame(countries_data_hc.groupby([\"Cluster ID\"]).exports.mean())\n",
    "clu_health     = pd.DataFrame(countries_data_hc.groupby([\"Cluster ID\"]).health.mean())\n",
    "clu_imports    = pd.DataFrame(countries_data_hc.groupby([\"Cluster ID\"]).imports.mean())\n",
    "clu_income     = pd.DataFrame(countries_data_hc.groupby([\"Cluster ID\"]).income.mean())\n",
    "clu_inflation  = pd.DataFrame(countries_data_hc.groupby([\"Cluster ID\"]).inflation.mean())\n",
    "clu_life_expec = pd.DataFrame(countries_data_hc.groupby([\"Cluster ID\"]).life_expec.mean())\n",
    "clu_total_fer  = pd.DataFrame(countries_data_hc.groupby([\"Cluster ID\"]).total_fer.mean())\n",
    "clu_gdpp       = pd.DataFrame(countries_data_hc.groupby([\"Cluster ID\"]).gdpp.mean())"
   ]
  },
  {
   "cell_type": "code",
   "execution_count": 313,
   "metadata": {},
   "outputs": [],
   "source": [
    "fin_df_hc = pd.concat([pd.Series([0,1,2]),clu_child_mort,clu_exports,clu_health,clu_imports,clu_income,clu_inflation,clu_life_expec,\n",
    "               clu_total_fer,clu_gdpp], axis=1)"
   ]
  },
  {
   "cell_type": "code",
   "execution_count": 314,
   "metadata": {},
   "outputs": [],
   "source": [
    "fin_df_hc.columns = ['Cluster ID', 'child_mort', 'exports', 'health', 'imports',\n",
    "       'income', 'inflation', 'life_expec', 'total_fer', 'gdpp'] "
   ]
  },
  {
   "cell_type": "code",
   "execution_count": 315,
   "metadata": {},
   "outputs": [
    {
     "data": {
      "text/html": [
       "<div>\n",
       "<style scoped>\n",
       "    .dataframe tbody tr th:only-of-type {\n",
       "        vertical-align: middle;\n",
       "    }\n",
       "\n",
       "    .dataframe tbody tr th {\n",
       "        vertical-align: top;\n",
       "    }\n",
       "\n",
       "    .dataframe thead th {\n",
       "        text-align: right;\n",
       "    }\n",
       "</style>\n",
       "<table border=\"1\" class=\"dataframe\">\n",
       "  <thead>\n",
       "    <tr style=\"text-align: right;\">\n",
       "      <th></th>\n",
       "      <th>Cluster ID</th>\n",
       "      <th>child_mort</th>\n",
       "      <th>exports</th>\n",
       "      <th>health</th>\n",
       "      <th>imports</th>\n",
       "      <th>income</th>\n",
       "      <th>inflation</th>\n",
       "      <th>life_expec</th>\n",
       "      <th>total_fer</th>\n",
       "      <th>gdpp</th>\n",
       "    </tr>\n",
       "  </thead>\n",
       "  <tbody>\n",
       "    <tr>\n",
       "      <th>0</th>\n",
       "      <td>0</td>\n",
       "      <td>52.678571</td>\n",
       "      <td>33.202670</td>\n",
       "      <td>6.335179</td>\n",
       "      <td>45.077374</td>\n",
       "      <td>6748.776786</td>\n",
       "      <td>9.363438</td>\n",
       "      <td>66.887500</td>\n",
       "      <td>3.464821</td>\n",
       "      <td>3362.267857</td>\n",
       "    </tr>\n",
       "    <tr>\n",
       "      <th>1</th>\n",
       "      <td>1</td>\n",
       "      <td>16.288235</td>\n",
       "      <td>56.347059</td>\n",
       "      <td>6.202353</td>\n",
       "      <td>52.247059</td>\n",
       "      <td>22041.176471</td>\n",
       "      <td>7.222000</td>\n",
       "      <td>73.958824</td>\n",
       "      <td>2.050588</td>\n",
       "      <td>12272.941176</td>\n",
       "    </tr>\n",
       "    <tr>\n",
       "      <th>2</th>\n",
       "      <td>2</td>\n",
       "      <td>6.700000</td>\n",
       "      <td>55.015385</td>\n",
       "      <td>7.479231</td>\n",
       "      <td>52.315385</td>\n",
       "      <td>32484.615385</td>\n",
       "      <td>3.821231</td>\n",
       "      <td>78.600000</td>\n",
       "      <td>1.864615</td>\n",
       "      <td>24246.153846</td>\n",
       "    </tr>\n",
       "  </tbody>\n",
       "</table>\n",
       "</div>"
      ],
      "text/plain": [
       "   Cluster ID  child_mort    exports    health    imports        income  \\\n",
       "0           0   52.678571  33.202670  6.335179  45.077374   6748.776786   \n",
       "1           1   16.288235  56.347059  6.202353  52.247059  22041.176471   \n",
       "2           2    6.700000  55.015385  7.479231  52.315385  32484.615385   \n",
       "\n",
       "   inflation  life_expec  total_fer          gdpp  \n",
       "0   9.363438   66.887500   3.464821   3362.267857  \n",
       "1   7.222000   73.958824   2.050588  12272.941176  \n",
       "2   3.821231   78.600000   1.864615  24246.153846  "
      ]
     },
     "execution_count": 315,
     "metadata": {},
     "output_type": "execute_result"
    }
   ],
   "source": [
    "fin_df_hc"
   ]
  },
  {
   "cell_type": "code",
   "execution_count": 316,
   "metadata": {},
   "outputs": [
    {
     "data": {
      "text/plain": [
       "<matplotlib.axes._subplots.AxesSubplot at 0x18c130a7fd0>"
      ]
     },
     "execution_count": 316,
     "metadata": {},
     "output_type": "execute_result"
    },
    {
     "data": {
      "image/png": "[encoded data removed]",
      "text/plain": [
       "<Figure size 1800x720 with 4 Axes>"
      ]
     },
     "metadata": {
      "needs_background": "light"
     },
     "output_type": "display_data"
    }
   ],
   "source": [
    "plt.figure(figsize=(25,10))\n",
    "plt.subplot(1,4,1)\n",
    "plt.title('Child Mortality Rate')\n",
    "sns.barplot(x=fin_df_hc[\"Cluster ID\"], y=fin_df_hc[\"child_mort\"])\n",
    "\n",
    "plt.subplot(1,4,2)\n",
    "plt.title('Exports')\n",
    "sns.barplot(x=fin_df_hc[\"Cluster ID\"], y=fin_df_hc[\"exports\"])\n",
    "\n",
    "plt.subplot(1,4,3)\n",
    "plt.title('Health')\n",
    "sns.barplot(x=fin_df_hc[\"Cluster ID\"], y=fin_df_hc[\"health\"])\n",
    "\n",
    "plt.subplot(1,4,4)\n",
    "plt.title('Imports')\n",
    "sns.barplot(x=fin_df_hc[\"Cluster ID\"], y=fin_df_hc[\"imports\"])\n"
   ]
  },
  {
   "cell_type": "code",
   "execution_count": 317,
   "metadata": {},
   "outputs": [
    {
     "data": {
      "text/plain": [
       "<matplotlib.axes._subplots.AxesSubplot at 0x18c13225ef0>"
      ]
     },
     "execution_count": 317,
     "metadata": {},
     "output_type": "execute_result"
    },
    {
     "data": {
      "image/png": "[encoded data removed]",
      "text/plain": [
       "<Figure size 1800x720 with 5 Axes>"
      ]
     },
     "metadata": {
      "needs_background": "light"
     },
     "output_type": "display_data"
    }
   ],
   "source": [
    "plt.figure(figsize=(25,10))\n",
    "plt.subplot(1,5,1)\n",
    "plt.title('Income')\n",
    "sns.barplot(x=fin_df_hc[\"Cluster ID\"], y=fin_df_hc[\"income\"])\n",
    "\n",
    "plt.subplot(1,5,2)\n",
    "plt.title('Inflation')\n",
    "sns.barplot(x=fin_df_hc[\"Cluster ID\"], y=fin_df_hc[\"inflation\"])\n",
    "\n",
    "plt.subplot(1,5,3)\n",
    "plt.title('Life Expectancy')\n",
    "sns.barplot(x=fin_df_hc[\"Cluster ID\"], y=fin_df_hc[\"life_expec\"])\n",
    "\n",
    "plt.subplot(1,5,4)\n",
    "plt.title('Total Fertility Rate')\n",
    "sns.barplot(x=fin_df_hc[\"Cluster ID\"], y=fin_df_hc[\"total_fer\"])\n",
    "\n",
    "plt.subplot(1,5,5)\n",
    "plt.title('GDP Per Capita')\n",
    "sns.barplot(x=fin_df_hc[\"Cluster ID\"], y=fin_df_hc[\"gdpp\"])\n"
   ]
  },
  {
   "cell_type": "code",
   "execution_count": 326,
   "metadata": {},
   "outputs": [
    {
     "data": {
      "text/plain": [
       "<matplotlib.axes._subplots.AxesSubplot at 0x18c133b9908>"
      ]
     },
     "execution_count": 326,
     "metadata": {},
     "output_type": "execute_result"
    },
    {
     "data": {
      "image/png": "[encoded data removed]",
      "text/plain": [
       "<Figure size 432x288 with 1 Axes>"
      ]
     },
     "metadata": {
      "needs_background": "light"
     },
     "output_type": "display_data"
    }
   ],
   "source": [
    "sns.scatterplot(x=\"gdpp\", y= \"child_mort\", data=countries_data_hc,hue=\"Cluster ID\")"
   ]
  },
  {
   "cell_type": "markdown",
   "metadata": {},
   "source": [
    "### Cluster 0 is the bad cluster"
   ]
  },
  {
   "cell_type": "code",
   "execution_count": 324,
   "metadata": {},
   "outputs": [],
   "source": [
    "countries_hc_0df = countries_data_hc[countries_data_hc['Cluster ID'] ==0]"
   ]
  },
  {
   "cell_type": "code",
   "execution_count": 325,
   "metadata": {},
   "outputs": [
    {
     "data": {
      "text/html": [
       "<div>\n",
       "<style scoped>\n",
       "    .dataframe tbody tr th:only-of-type {\n",
       "        vertical-align: middle;\n",
       "    }\n",
       "\n",
       "    .dataframe tbody tr th {\n",
       "        vertical-align: top;\n",
       "    }\n",
       "\n",
       "    .dataframe thead th {\n",
       "        text-align: right;\n",
       "    }\n",
       "</style>\n",
       "<table border=\"1\" class=\"dataframe\">\n",
       "  <thead>\n",
       "    <tr style=\"text-align: right;\">\n",
       "      <th></th>\n",
       "      <th>country</th>\n",
       "      <th>child_mort</th>\n",
       "      <th>exports</th>\n",
       "      <th>health</th>\n",
       "      <th>imports</th>\n",
       "      <th>income</th>\n",
       "      <th>inflation</th>\n",
       "      <th>life_expec</th>\n",
       "      <th>total_fer</th>\n",
       "      <th>gdpp</th>\n",
       "      <th>Cluster ID</th>\n",
       "    </tr>\n",
       "  </thead>\n",
       "  <tbody>\n",
       "    <tr>\n",
       "      <th>57</th>\n",
       "      <td>Haiti</td>\n",
       "      <td>208.0</td>\n",
       "      <td>15.30</td>\n",
       "      <td>6.91</td>\n",
       "      <td>64.7</td>\n",
       "      <td>1500</td>\n",
       "      <td>5.450</td>\n",
       "      <td>32.1</td>\n",
       "      <td>3.33</td>\n",
       "      <td>662</td>\n",
       "      <td>0</td>\n",
       "    </tr>\n",
       "    <tr>\n",
       "      <th>113</th>\n",
       "      <td>Sierra Leone</td>\n",
       "      <td>160.0</td>\n",
       "      <td>16.80</td>\n",
       "      <td>13.10</td>\n",
       "      <td>34.5</td>\n",
       "      <td>1220</td>\n",
       "      <td>17.200</td>\n",
       "      <td>55.0</td>\n",
       "      <td>5.20</td>\n",
       "      <td>399</td>\n",
       "      <td>0</td>\n",
       "    </tr>\n",
       "    <tr>\n",
       "      <th>27</th>\n",
       "      <td>Chad</td>\n",
       "      <td>150.0</td>\n",
       "      <td>36.80</td>\n",
       "      <td>4.53</td>\n",
       "      <td>43.5</td>\n",
       "      <td>1930</td>\n",
       "      <td>6.390</td>\n",
       "      <td>56.5</td>\n",
       "      <td>6.59</td>\n",
       "      <td>897</td>\n",
       "      <td>0</td>\n",
       "    </tr>\n",
       "    <tr>\n",
       "      <th>26</th>\n",
       "      <td>Central African Republic</td>\n",
       "      <td>149.0</td>\n",
       "      <td>11.80</td>\n",
       "      <td>3.98</td>\n",
       "      <td>26.5</td>\n",
       "      <td>888</td>\n",
       "      <td>2.010</td>\n",
       "      <td>47.5</td>\n",
       "      <td>5.21</td>\n",
       "      <td>446</td>\n",
       "      <td>0</td>\n",
       "    </tr>\n",
       "    <tr>\n",
       "      <th>82</th>\n",
       "      <td>Mali</td>\n",
       "      <td>137.0</td>\n",
       "      <td>22.80</td>\n",
       "      <td>4.98</td>\n",
       "      <td>35.1</td>\n",
       "      <td>1870</td>\n",
       "      <td>4.370</td>\n",
       "      <td>59.5</td>\n",
       "      <td>6.55</td>\n",
       "      <td>708</td>\n",
       "      <td>0</td>\n",
       "    </tr>\n",
       "    <tr>\n",
       "      <th>96</th>\n",
       "      <td>Nigeria</td>\n",
       "      <td>130.0</td>\n",
       "      <td>25.30</td>\n",
       "      <td>5.07</td>\n",
       "      <td>17.4</td>\n",
       "      <td>5150</td>\n",
       "      <td>104.000</td>\n",
       "      <td>60.5</td>\n",
       "      <td>5.84</td>\n",
       "      <td>2330</td>\n",
       "      <td>0</td>\n",
       "    </tr>\n",
       "    <tr>\n",
       "      <th>95</th>\n",
       "      <td>Niger</td>\n",
       "      <td>123.0</td>\n",
       "      <td>22.20</td>\n",
       "      <td>5.16</td>\n",
       "      <td>49.1</td>\n",
       "      <td>814</td>\n",
       "      <td>2.550</td>\n",
       "      <td>58.8</td>\n",
       "      <td>7.49</td>\n",
       "      <td>348</td>\n",
       "      <td>0</td>\n",
       "    </tr>\n",
       "    <tr>\n",
       "      <th>3</th>\n",
       "      <td>Angola</td>\n",
       "      <td>119.0</td>\n",
       "      <td>62.30</td>\n",
       "      <td>2.85</td>\n",
       "      <td>42.9</td>\n",
       "      <td>5900</td>\n",
       "      <td>22.400</td>\n",
       "      <td>60.1</td>\n",
       "      <td>6.16</td>\n",
       "      <td>3530</td>\n",
       "      <td>0</td>\n",
       "    </tr>\n",
       "    <tr>\n",
       "      <th>21</th>\n",
       "      <td>Burkina Faso</td>\n",
       "      <td>116.0</td>\n",
       "      <td>19.20</td>\n",
       "      <td>6.74</td>\n",
       "      <td>29.6</td>\n",
       "      <td>1430</td>\n",
       "      <td>6.810</td>\n",
       "      <td>57.9</td>\n",
       "      <td>5.87</td>\n",
       "      <td>575</td>\n",
       "      <td>0</td>\n",
       "    </tr>\n",
       "    <tr>\n",
       "      <th>32</th>\n",
       "      <td>Congo, Dem. Rep.</td>\n",
       "      <td>116.0</td>\n",
       "      <td>41.10</td>\n",
       "      <td>7.91</td>\n",
       "      <td>49.6</td>\n",
       "      <td>609</td>\n",
       "      <td>20.800</td>\n",
       "      <td>57.5</td>\n",
       "      <td>6.54</td>\n",
       "      <td>334</td>\n",
       "      <td>0</td>\n",
       "    </tr>\n",
       "    <tr>\n",
       "      <th>55</th>\n",
       "      <td>Guinea-Bissau</td>\n",
       "      <td>114.0</td>\n",
       "      <td>14.90</td>\n",
       "      <td>8.50</td>\n",
       "      <td>35.2</td>\n",
       "      <td>1390</td>\n",
       "      <td>2.970</td>\n",
       "      <td>55.6</td>\n",
       "      <td>5.05</td>\n",
       "      <td>547</td>\n",
       "      <td>0</td>\n",
       "    </tr>\n",
       "    <tr>\n",
       "      <th>14</th>\n",
       "      <td>Benin</td>\n",
       "      <td>111.0</td>\n",
       "      <td>23.80</td>\n",
       "      <td>4.10</td>\n",
       "      <td>37.2</td>\n",
       "      <td>1820</td>\n",
       "      <td>0.885</td>\n",
       "      <td>61.8</td>\n",
       "      <td>5.36</td>\n",
       "      <td>758</td>\n",
       "      <td>0</td>\n",
       "    </tr>\n",
       "    <tr>\n",
       "      <th>35</th>\n",
       "      <td>Cote d'Ivoire</td>\n",
       "      <td>111.0</td>\n",
       "      <td>50.60</td>\n",
       "      <td>5.30</td>\n",
       "      <td>43.3</td>\n",
       "      <td>2690</td>\n",
       "      <td>5.390</td>\n",
       "      <td>56.3</td>\n",
       "      <td>5.27</td>\n",
       "      <td>1220</td>\n",
       "      <td>0</td>\n",
       "    </tr>\n",
       "    <tr>\n",
       "      <th>54</th>\n",
       "      <td>Guinea</td>\n",
       "      <td>109.0</td>\n",
       "      <td>30.30</td>\n",
       "      <td>4.93</td>\n",
       "      <td>43.2</td>\n",
       "      <td>1190</td>\n",
       "      <td>16.100</td>\n",
       "      <td>58.0</td>\n",
       "      <td>5.34</td>\n",
       "      <td>648</td>\n",
       "      <td>0</td>\n",
       "    </tr>\n",
       "    <tr>\n",
       "      <th>24</th>\n",
       "      <td>Cameroon</td>\n",
       "      <td>108.0</td>\n",
       "      <td>22.20</td>\n",
       "      <td>5.13</td>\n",
       "      <td>27.0</td>\n",
       "      <td>2660</td>\n",
       "      <td>1.910</td>\n",
       "      <td>57.3</td>\n",
       "      <td>5.11</td>\n",
       "      <td>1310</td>\n",
       "      <td>0</td>\n",
       "    </tr>\n",
       "    <tr>\n",
       "      <th>91</th>\n",
       "      <td>Mozambique</td>\n",
       "      <td>101.0</td>\n",
       "      <td>31.50</td>\n",
       "      <td>5.21</td>\n",
       "      <td>46.2</td>\n",
       "      <td>918</td>\n",
       "      <td>7.640</td>\n",
       "      <td>54.5</td>\n",
       "      <td>5.56</td>\n",
       "      <td>419</td>\n",
       "      <td>0</td>\n",
       "    </tr>\n",
       "    <tr>\n",
       "      <th>73</th>\n",
       "      <td>Lesotho</td>\n",
       "      <td>99.7</td>\n",
       "      <td>39.40</td>\n",
       "      <td>11.10</td>\n",
       "      <td>101.0</td>\n",
       "      <td>2380</td>\n",
       "      <td>4.150</td>\n",
       "      <td>46.5</td>\n",
       "      <td>3.30</td>\n",
       "      <td>1170</td>\n",
       "      <td>0</td>\n",
       "    </tr>\n",
       "    <tr>\n",
       "      <th>84</th>\n",
       "      <td>Mauritania</td>\n",
       "      <td>97.4</td>\n",
       "      <td>50.70</td>\n",
       "      <td>4.41</td>\n",
       "      <td>61.2</td>\n",
       "      <td>3320</td>\n",
       "      <td>18.900</td>\n",
       "      <td>68.2</td>\n",
       "      <td>4.98</td>\n",
       "      <td>1200</td>\n",
       "      <td>0</td>\n",
       "    </tr>\n",
       "    <tr>\n",
       "      <th>22</th>\n",
       "      <td>Burundi</td>\n",
       "      <td>93.6</td>\n",
       "      <td>8.92</td>\n",
       "      <td>11.60</td>\n",
       "      <td>39.2</td>\n",
       "      <td>764</td>\n",
       "      <td>12.300</td>\n",
       "      <td>57.7</td>\n",
       "      <td>6.26</td>\n",
       "      <td>231</td>\n",
       "      <td>0</td>\n",
       "    </tr>\n",
       "    <tr>\n",
       "      <th>98</th>\n",
       "      <td>Pakistan</td>\n",
       "      <td>92.1</td>\n",
       "      <td>13.50</td>\n",
       "      <td>2.20</td>\n",
       "      <td>19.4</td>\n",
       "      <td>4280</td>\n",
       "      <td>10.900</td>\n",
       "      <td>65.3</td>\n",
       "      <td>3.85</td>\n",
       "      <td>1040</td>\n",
       "      <td>0</td>\n",
       "    </tr>\n",
       "    <tr>\n",
       "      <th>79</th>\n",
       "      <td>Malawi</td>\n",
       "      <td>90.5</td>\n",
       "      <td>22.80</td>\n",
       "      <td>6.59</td>\n",
       "      <td>34.9</td>\n",
       "      <td>1030</td>\n",
       "      <td>12.100</td>\n",
       "      <td>53.1</td>\n",
       "      <td>5.31</td>\n",
       "      <td>459</td>\n",
       "      <td>0</td>\n",
       "    </tr>\n",
       "    <tr>\n",
       "      <th>128</th>\n",
       "      <td>Togo</td>\n",
       "      <td>90.3</td>\n",
       "      <td>40.20</td>\n",
       "      <td>7.65</td>\n",
       "      <td>57.3</td>\n",
       "      <td>1210</td>\n",
       "      <td>1.180</td>\n",
       "      <td>58.7</td>\n",
       "      <td>4.87</td>\n",
       "      <td>488</td>\n",
       "      <td>0</td>\n",
       "    </tr>\n",
       "    <tr>\n",
       "      <th>0</th>\n",
       "      <td>Afghanistan</td>\n",
       "      <td>90.2</td>\n",
       "      <td>10.00</td>\n",
       "      <td>7.58</td>\n",
       "      <td>44.9</td>\n",
       "      <td>1610</td>\n",
       "      <td>9.440</td>\n",
       "      <td>56.2</td>\n",
       "      <td>5.82</td>\n",
       "      <td>553</td>\n",
       "      <td>0</td>\n",
       "    </tr>\n",
       "    <tr>\n",
       "      <th>74</th>\n",
       "      <td>Liberia</td>\n",
       "      <td>89.3</td>\n",
       "      <td>19.10</td>\n",
       "      <td>11.80</td>\n",
       "      <td>92.6</td>\n",
       "      <td>700</td>\n",
       "      <td>5.470</td>\n",
       "      <td>60.8</td>\n",
       "      <td>5.02</td>\n",
       "      <td>327</td>\n",
       "      <td>0</td>\n",
       "    </tr>\n",
       "    <tr>\n",
       "      <th>31</th>\n",
       "      <td>Comoros</td>\n",
       "      <td>88.2</td>\n",
       "      <td>16.50</td>\n",
       "      <td>4.51</td>\n",
       "      <td>51.7</td>\n",
       "      <td>1410</td>\n",
       "      <td>3.870</td>\n",
       "      <td>65.9</td>\n",
       "      <td>4.75</td>\n",
       "      <td>769</td>\n",
       "      <td>0</td>\n",
       "    </tr>\n",
       "    <tr>\n",
       "      <th>141</th>\n",
       "      <td>Zambia</td>\n",
       "      <td>83.1</td>\n",
       "      <td>37.00</td>\n",
       "      <td>5.89</td>\n",
       "      <td>30.9</td>\n",
       "      <td>3280</td>\n",
       "      <td>14.000</td>\n",
       "      <td>52.0</td>\n",
       "      <td>5.40</td>\n",
       "      <td>1460</td>\n",
       "      <td>0</td>\n",
       "    </tr>\n",
       "    <tr>\n",
       "      <th>133</th>\n",
       "      <td>Uganda</td>\n",
       "      <td>81.0</td>\n",
       "      <td>17.10</td>\n",
       "      <td>9.01</td>\n",
       "      <td>28.6</td>\n",
       "      <td>1540</td>\n",
       "      <td>10.600</td>\n",
       "      <td>56.8</td>\n",
       "      <td>6.15</td>\n",
       "      <td>595</td>\n",
       "      <td>0</td>\n",
       "    </tr>\n",
       "    <tr>\n",
       "      <th>48</th>\n",
       "      <td>Gambia</td>\n",
       "      <td>80.3</td>\n",
       "      <td>23.80</td>\n",
       "      <td>5.69</td>\n",
       "      <td>42.7</td>\n",
       "      <td>1660</td>\n",
       "      <td>4.300</td>\n",
       "      <td>65.5</td>\n",
       "      <td>5.71</td>\n",
       "      <td>562</td>\n",
       "      <td>0</td>\n",
       "    </tr>\n",
       "    <tr>\n",
       "      <th>70</th>\n",
       "      <td>Lao</td>\n",
       "      <td>78.9</td>\n",
       "      <td>35.40</td>\n",
       "      <td>4.47</td>\n",
       "      <td>49.3</td>\n",
       "      <td>3980</td>\n",
       "      <td>9.200</td>\n",
       "      <td>63.8</td>\n",
       "      <td>3.15</td>\n",
       "      <td>1140</td>\n",
       "      <td>0</td>\n",
       "    </tr>\n",
       "    <tr>\n",
       "      <th>122</th>\n",
       "      <td>Sudan</td>\n",
       "      <td>76.7</td>\n",
       "      <td>19.70</td>\n",
       "      <td>6.32</td>\n",
       "      <td>17.2</td>\n",
       "      <td>3370</td>\n",
       "      <td>19.600</td>\n",
       "      <td>66.3</td>\n",
       "      <td>4.88</td>\n",
       "      <td>1480</td>\n",
       "      <td>0</td>\n",
       "    </tr>\n",
       "    <tr>\n",
       "      <th>...</th>\n",
       "      <td>...</td>\n",
       "      <td>...</td>\n",
       "      <td>...</td>\n",
       "      <td>...</td>\n",
       "      <td>...</td>\n",
       "      <td>...</td>\n",
       "      <td>...</td>\n",
       "      <td>...</td>\n",
       "      <td>...</td>\n",
       "      <td>...</td>\n",
       "      <td>...</td>\n",
       "    </tr>\n",
       "    <tr>\n",
       "      <th>42</th>\n",
       "      <td>El Salvador</td>\n",
       "      <td>19.2</td>\n",
       "      <td>26.90</td>\n",
       "      <td>6.91</td>\n",
       "      <td>46.6</td>\n",
       "      <td>7300</td>\n",
       "      <td>2.650</td>\n",
       "      <td>74.1</td>\n",
       "      <td>2.27</td>\n",
       "      <td>2990</td>\n",
       "      <td>0</td>\n",
       "    </tr>\n",
       "    <tr>\n",
       "      <th>108</th>\n",
       "      <td>Samoa</td>\n",
       "      <td>18.9</td>\n",
       "      <td>29.20</td>\n",
       "      <td>6.47</td>\n",
       "      <td>53.1</td>\n",
       "      <td>5400</td>\n",
       "      <td>1.720</td>\n",
       "      <td>71.5</td>\n",
       "      <td>4.34</td>\n",
       "      <td>3450</td>\n",
       "      <td>0</td>\n",
       "    </tr>\n",
       "    <tr>\n",
       "      <th>13</th>\n",
       "      <td>Belize</td>\n",
       "      <td>18.8</td>\n",
       "      <td>58.20</td>\n",
       "      <td>5.20</td>\n",
       "      <td>57.5</td>\n",
       "      <td>7880</td>\n",
       "      <td>1.140</td>\n",
       "      <td>71.4</td>\n",
       "      <td>2.71</td>\n",
       "      <td>4340</td>\n",
       "      <td>0</td>\n",
       "    </tr>\n",
       "    <tr>\n",
       "      <th>30</th>\n",
       "      <td>Colombia</td>\n",
       "      <td>18.6</td>\n",
       "      <td>15.90</td>\n",
       "      <td>7.59</td>\n",
       "      <td>17.8</td>\n",
       "      <td>10900</td>\n",
       "      <td>3.860</td>\n",
       "      <td>76.4</td>\n",
       "      <td>2.01</td>\n",
       "      <td>6250</td>\n",
       "      <td>0</td>\n",
       "    </tr>\n",
       "    <tr>\n",
       "      <th>6</th>\n",
       "      <td>Armenia</td>\n",
       "      <td>18.1</td>\n",
       "      <td>20.80</td>\n",
       "      <td>4.40</td>\n",
       "      <td>45.3</td>\n",
       "      <td>6700</td>\n",
       "      <td>7.770</td>\n",
       "      <td>73.3</td>\n",
       "      <td>1.69</td>\n",
       "      <td>3220</td>\n",
       "      <td>0</td>\n",
       "    </tr>\n",
       "    <tr>\n",
       "      <th>64</th>\n",
       "      <td>Jamaica</td>\n",
       "      <td>18.1</td>\n",
       "      <td>31.30</td>\n",
       "      <td>4.81</td>\n",
       "      <td>49.6</td>\n",
       "      <td>8000</td>\n",
       "      <td>9.810</td>\n",
       "      <td>74.7</td>\n",
       "      <td>2.17</td>\n",
       "      <td>4680</td>\n",
       "      <td>0</td>\n",
       "    </tr>\n",
       "    <tr>\n",
       "      <th>129</th>\n",
       "      <td>Tonga</td>\n",
       "      <td>17.4</td>\n",
       "      <td>12.40</td>\n",
       "      <td>5.07</td>\n",
       "      <td>60.3</td>\n",
       "      <td>4980</td>\n",
       "      <td>3.680</td>\n",
       "      <td>69.9</td>\n",
       "      <td>3.91</td>\n",
       "      <td>3550</td>\n",
       "      <td>0</td>\n",
       "    </tr>\n",
       "    <tr>\n",
       "      <th>130</th>\n",
       "      <td>Tunisia</td>\n",
       "      <td>17.4</td>\n",
       "      <td>50.50</td>\n",
       "      <td>6.21</td>\n",
       "      <td>55.3</td>\n",
       "      <td>10400</td>\n",
       "      <td>3.820</td>\n",
       "      <td>76.9</td>\n",
       "      <td>2.14</td>\n",
       "      <td>4140</td>\n",
       "      <td>0</td>\n",
       "    </tr>\n",
       "    <tr>\n",
       "      <th>87</th>\n",
       "      <td>Moldova</td>\n",
       "      <td>17.2</td>\n",
       "      <td>39.20</td>\n",
       "      <td>11.70</td>\n",
       "      <td>78.5</td>\n",
       "      <td>3910</td>\n",
       "      <td>11.100</td>\n",
       "      <td>69.7</td>\n",
       "      <td>1.27</td>\n",
       "      <td>1630</td>\n",
       "      <td>0</td>\n",
       "    </tr>\n",
       "    <tr>\n",
       "      <th>138</th>\n",
       "      <td>Venezuela</td>\n",
       "      <td>17.1</td>\n",
       "      <td>28.50</td>\n",
       "      <td>4.91</td>\n",
       "      <td>17.6</td>\n",
       "      <td>16500</td>\n",
       "      <td>45.900</td>\n",
       "      <td>75.4</td>\n",
       "      <td>2.47</td>\n",
       "      <td>13500</td>\n",
       "      <td>0</td>\n",
       "    </tr>\n",
       "    <tr>\n",
       "      <th>1</th>\n",
       "      <td>Albania</td>\n",
       "      <td>16.6</td>\n",
       "      <td>28.00</td>\n",
       "      <td>6.55</td>\n",
       "      <td>48.6</td>\n",
       "      <td>9930</td>\n",
       "      <td>4.490</td>\n",
       "      <td>76.3</td>\n",
       "      <td>1.65</td>\n",
       "      <td>4090</td>\n",
       "      <td>0</td>\n",
       "    </tr>\n",
       "    <tr>\n",
       "      <th>49</th>\n",
       "      <td>Georgia</td>\n",
       "      <td>16.5</td>\n",
       "      <td>35.00</td>\n",
       "      <td>10.10</td>\n",
       "      <td>52.8</td>\n",
       "      <td>6730</td>\n",
       "      <td>8.550</td>\n",
       "      <td>72.8</td>\n",
       "      <td>1.92</td>\n",
       "      <td>2960</td>\n",
       "      <td>0</td>\n",
       "    </tr>\n",
       "    <tr>\n",
       "      <th>29</th>\n",
       "      <td>China</td>\n",
       "      <td>15.7</td>\n",
       "      <td>26.30</td>\n",
       "      <td>5.07</td>\n",
       "      <td>22.6</td>\n",
       "      <td>9530</td>\n",
       "      <td>6.940</td>\n",
       "      <td>74.6</td>\n",
       "      <td>1.59</td>\n",
       "      <td>4560</td>\n",
       "      <td>0</td>\n",
       "    </tr>\n",
       "    <tr>\n",
       "      <th>85</th>\n",
       "      <td>Mauritius</td>\n",
       "      <td>15.0</td>\n",
       "      <td>51.20</td>\n",
       "      <td>6.00</td>\n",
       "      <td>62.2</td>\n",
       "      <td>15900</td>\n",
       "      <td>1.130</td>\n",
       "      <td>73.4</td>\n",
       "      <td>1.57</td>\n",
       "      <td>8000</td>\n",
       "      <td>0</td>\n",
       "    </tr>\n",
       "    <tr>\n",
       "      <th>126</th>\n",
       "      <td>Thailand</td>\n",
       "      <td>14.9</td>\n",
       "      <td>66.50</td>\n",
       "      <td>3.88</td>\n",
       "      <td>60.8</td>\n",
       "      <td>13500</td>\n",
       "      <td>4.080</td>\n",
       "      <td>76.6</td>\n",
       "      <td>1.55</td>\n",
       "      <td>5080</td>\n",
       "      <td>0</td>\n",
       "    </tr>\n",
       "    <tr>\n",
       "      <th>52</th>\n",
       "      <td>Grenada</td>\n",
       "      <td>14.6</td>\n",
       "      <td>23.80</td>\n",
       "      <td>5.86</td>\n",
       "      <td>49.2</td>\n",
       "      <td>11200</td>\n",
       "      <td>0.480</td>\n",
       "      <td>71.3</td>\n",
       "      <td>2.24</td>\n",
       "      <td>7370</td>\n",
       "      <td>0</td>\n",
       "    </tr>\n",
       "    <tr>\n",
       "      <th>11</th>\n",
       "      <td>Barbados</td>\n",
       "      <td>14.2</td>\n",
       "      <td>39.50</td>\n",
       "      <td>7.97</td>\n",
       "      <td>48.7</td>\n",
       "      <td>15300</td>\n",
       "      <td>0.321</td>\n",
       "      <td>76.7</td>\n",
       "      <td>1.78</td>\n",
       "      <td>16000</td>\n",
       "      <td>0</td>\n",
       "    </tr>\n",
       "    <tr>\n",
       "      <th>81</th>\n",
       "      <td>Maldives</td>\n",
       "      <td>13.2</td>\n",
       "      <td>77.60</td>\n",
       "      <td>6.33</td>\n",
       "      <td>65.4</td>\n",
       "      <td>10500</td>\n",
       "      <td>2.880</td>\n",
       "      <td>77.9</td>\n",
       "      <td>2.23</td>\n",
       "      <td>7100</td>\n",
       "      <td>0</td>\n",
       "    </tr>\n",
       "    <tr>\n",
       "      <th>134</th>\n",
       "      <td>Ukraine</td>\n",
       "      <td>11.7</td>\n",
       "      <td>47.10</td>\n",
       "      <td>7.72</td>\n",
       "      <td>51.1</td>\n",
       "      <td>7820</td>\n",
       "      <td>13.400</td>\n",
       "      <td>70.4</td>\n",
       "      <td>1.44</td>\n",
       "      <td>2970</td>\n",
       "      <td>0</td>\n",
       "    </tr>\n",
       "    <tr>\n",
       "      <th>105</th>\n",
       "      <td>Romania</td>\n",
       "      <td>11.5</td>\n",
       "      <td>32.60</td>\n",
       "      <td>5.58</td>\n",
       "      <td>38.8</td>\n",
       "      <td>17800</td>\n",
       "      <td>3.530</td>\n",
       "      <td>73.7</td>\n",
       "      <td>1.59</td>\n",
       "      <td>8230</td>\n",
       "      <td>0</td>\n",
       "    </tr>\n",
       "    <tr>\n",
       "      <th>120</th>\n",
       "      <td>Sri Lanka</td>\n",
       "      <td>11.2</td>\n",
       "      <td>19.60</td>\n",
       "      <td>2.94</td>\n",
       "      <td>26.8</td>\n",
       "      <td>8560</td>\n",
       "      <td>22.800</td>\n",
       "      <td>74.4</td>\n",
       "      <td>2.20</td>\n",
       "      <td>2810</td>\n",
       "      <td>0</td>\n",
       "    </tr>\n",
       "    <tr>\n",
       "      <th>20</th>\n",
       "      <td>Bulgaria</td>\n",
       "      <td>10.8</td>\n",
       "      <td>50.20</td>\n",
       "      <td>6.87</td>\n",
       "      <td>53.0</td>\n",
       "      <td>15300</td>\n",
       "      <td>1.110</td>\n",
       "      <td>73.9</td>\n",
       "      <td>1.57</td>\n",
       "      <td>6840</td>\n",
       "      <td>0</td>\n",
       "    </tr>\n",
       "    <tr>\n",
       "      <th>135</th>\n",
       "      <td>Uruguay</td>\n",
       "      <td>10.6</td>\n",
       "      <td>26.30</td>\n",
       "      <td>8.35</td>\n",
       "      <td>25.4</td>\n",
       "      <td>17100</td>\n",
       "      <td>4.910</td>\n",
       "      <td>76.4</td>\n",
       "      <td>2.08</td>\n",
       "      <td>11900</td>\n",
       "      <td>0</td>\n",
       "    </tr>\n",
       "    <tr>\n",
       "      <th>77</th>\n",
       "      <td>Macedonia, FYR</td>\n",
       "      <td>10.4</td>\n",
       "      <td>39.80</td>\n",
       "      <td>7.09</td>\n",
       "      <td>58.1</td>\n",
       "      <td>11400</td>\n",
       "      <td>2.040</td>\n",
       "      <td>74.0</td>\n",
       "      <td>1.47</td>\n",
       "      <td>4540</td>\n",
       "      <td>0</td>\n",
       "    </tr>\n",
       "    <tr>\n",
       "      <th>72</th>\n",
       "      <td>Lebanon</td>\n",
       "      <td>10.3</td>\n",
       "      <td>35.80</td>\n",
       "      <td>7.03</td>\n",
       "      <td>60.2</td>\n",
       "      <td>16300</td>\n",
       "      <td>0.238</td>\n",
       "      <td>79.8</td>\n",
       "      <td>1.61</td>\n",
       "      <td>8860</td>\n",
       "      <td>0</td>\n",
       "    </tr>\n",
       "    <tr>\n",
       "      <th>34</th>\n",
       "      <td>Costa Rica</td>\n",
       "      <td>10.2</td>\n",
       "      <td>33.20</td>\n",
       "      <td>10.90</td>\n",
       "      <td>35.0</td>\n",
       "      <td>13000</td>\n",
       "      <td>6.570</td>\n",
       "      <td>80.4</td>\n",
       "      <td>1.92</td>\n",
       "      <td>8200</td>\n",
       "      <td>0</td>\n",
       "    </tr>\n",
       "    <tr>\n",
       "      <th>111</th>\n",
       "      <td>Serbia</td>\n",
       "      <td>7.6</td>\n",
       "      <td>32.90</td>\n",
       "      <td>10.40</td>\n",
       "      <td>47.9</td>\n",
       "      <td>12700</td>\n",
       "      <td>5.880</td>\n",
       "      <td>74.7</td>\n",
       "      <td>1.40</td>\n",
       "      <td>5410</td>\n",
       "      <td>0</td>\n",
       "    </tr>\n",
       "    <tr>\n",
       "      <th>17</th>\n",
       "      <td>Bosnia and Herzegovina</td>\n",
       "      <td>6.9</td>\n",
       "      <td>29.70</td>\n",
       "      <td>11.10</td>\n",
       "      <td>51.3</td>\n",
       "      <td>9720</td>\n",
       "      <td>1.400</td>\n",
       "      <td>76.8</td>\n",
       "      <td>1.31</td>\n",
       "      <td>4610</td>\n",
       "      <td>0</td>\n",
       "    </tr>\n",
       "    <tr>\n",
       "      <th>89</th>\n",
       "      <td>Montenegro</td>\n",
       "      <td>6.8</td>\n",
       "      <td>37.00</td>\n",
       "      <td>9.11</td>\n",
       "      <td>62.7</td>\n",
       "      <td>14000</td>\n",
       "      <td>1.600</td>\n",
       "      <td>76.4</td>\n",
       "      <td>1.77</td>\n",
       "      <td>6680</td>\n",
       "      <td>0</td>\n",
       "    </tr>\n",
       "    <tr>\n",
       "      <th>12</th>\n",
       "      <td>Belarus</td>\n",
       "      <td>5.5</td>\n",
       "      <td>51.40</td>\n",
       "      <td>5.61</td>\n",
       "      <td>64.5</td>\n",
       "      <td>16200</td>\n",
       "      <td>15.100</td>\n",
       "      <td>70.4</td>\n",
       "      <td>1.49</td>\n",
       "      <td>6030</td>\n",
       "      <td>0</td>\n",
       "    </tr>\n",
       "  </tbody>\n",
       "</table>\n",
       "<p>112 rows × 11 columns</p>\n",
       "</div>"
      ],
      "text/plain": [
       "                      country  child_mort  exports  health  imports  income  \\\n",
       "57                      Haiti       208.0    15.30    6.91     64.7    1500   \n",
       "113              Sierra Leone       160.0    16.80   13.10     34.5    1220   \n",
       "27                       Chad       150.0    36.80    4.53     43.5    1930   \n",
       "26   Central African Republic       149.0    11.80    3.98     26.5     888   \n",
       "82                       Mali       137.0    22.80    4.98     35.1    1870   \n",
       "96                    Nigeria       130.0    25.30    5.07     17.4    5150   \n",
       "95                      Niger       123.0    22.20    5.16     49.1     814   \n",
       "3                      Angola       119.0    62.30    2.85     42.9    5900   \n",
       "21               Burkina Faso       116.0    19.20    6.74     29.6    1430   \n",
       "32           Congo, Dem. Rep.       116.0    41.10    7.91     49.6     609   \n",
       "55              Guinea-Bissau       114.0    14.90    8.50     35.2    1390   \n",
       "14                      Benin       111.0    23.80    4.10     37.2    1820   \n",
       "35              Cote d'Ivoire       111.0    50.60    5.30     43.3    2690   \n",
       "54                     Guinea       109.0    30.30    4.93     43.2    1190   \n",
       "24                   Cameroon       108.0    22.20    5.13     27.0    2660   \n",
       "91                 Mozambique       101.0    31.50    5.21     46.2     918   \n",
       "73                    Lesotho        99.7    39.40   11.10    101.0    2380   \n",
       "84                 Mauritania        97.4    50.70    4.41     61.2    3320   \n",
       "22                    Burundi        93.6     8.92   11.60     39.2     764   \n",
       "98                   Pakistan        92.1    13.50    2.20     19.4    4280   \n",
       "79                     Malawi        90.5    22.80    6.59     34.9    1030   \n",
       "128                      Togo        90.3    40.20    7.65     57.3    1210   \n",
       "0                 Afghanistan        90.2    10.00    7.58     44.9    1610   \n",
       "74                    Liberia        89.3    19.10   11.80     92.6     700   \n",
       "31                    Comoros        88.2    16.50    4.51     51.7    1410   \n",
       "141                    Zambia        83.1    37.00    5.89     30.9    3280   \n",
       "133                    Uganda        81.0    17.10    9.01     28.6    1540   \n",
       "48                     Gambia        80.3    23.80    5.69     42.7    1660   \n",
       "70                        Lao        78.9    35.40    4.47     49.3    3980   \n",
       "122                     Sudan        76.7    19.70    6.32     17.2    3370   \n",
       "..                        ...         ...      ...     ...      ...     ...   \n",
       "42                El Salvador        19.2    26.90    6.91     46.6    7300   \n",
       "108                     Samoa        18.9    29.20    6.47     53.1    5400   \n",
       "13                     Belize        18.8    58.20    5.20     57.5    7880   \n",
       "30                   Colombia        18.6    15.90    7.59     17.8   10900   \n",
       "6                     Armenia        18.1    20.80    4.40     45.3    6700   \n",
       "64                    Jamaica        18.1    31.30    4.81     49.6    8000   \n",
       "129                     Tonga        17.4    12.40    5.07     60.3    4980   \n",
       "130                   Tunisia        17.4    50.50    6.21     55.3   10400   \n",
       "87                    Moldova        17.2    39.20   11.70     78.5    3910   \n",
       "138                 Venezuela        17.1    28.50    4.91     17.6   16500   \n",
       "1                     Albania        16.6    28.00    6.55     48.6    9930   \n",
       "49                    Georgia        16.5    35.00   10.10     52.8    6730   \n",
       "29                      China        15.7    26.30    5.07     22.6    9530   \n",
       "85                  Mauritius        15.0    51.20    6.00     62.2   15900   \n",
       "126                  Thailand        14.9    66.50    3.88     60.8   13500   \n",
       "52                    Grenada        14.6    23.80    5.86     49.2   11200   \n",
       "11                   Barbados        14.2    39.50    7.97     48.7   15300   \n",
       "81                   Maldives        13.2    77.60    6.33     65.4   10500   \n",
       "134                   Ukraine        11.7    47.10    7.72     51.1    7820   \n",
       "105                   Romania        11.5    32.60    5.58     38.8   17800   \n",
       "120                 Sri Lanka        11.2    19.60    2.94     26.8    8560   \n",
       "20                   Bulgaria        10.8    50.20    6.87     53.0   15300   \n",
       "135                   Uruguay        10.6    26.30    8.35     25.4   17100   \n",
       "77             Macedonia, FYR        10.4    39.80    7.09     58.1   11400   \n",
       "72                    Lebanon        10.3    35.80    7.03     60.2   16300   \n",
       "34                 Costa Rica        10.2    33.20   10.90     35.0   13000   \n",
       "111                    Serbia         7.6    32.90   10.40     47.9   12700   \n",
       "17     Bosnia and Herzegovina         6.9    29.70   11.10     51.3    9720   \n",
       "89                 Montenegro         6.8    37.00    9.11     62.7   14000   \n",
       "12                    Belarus         5.5    51.40    5.61     64.5   16200   \n",
       "\n",
       "     inflation  life_expec  total_fer   gdpp  Cluster ID  \n",
       "57       5.450        32.1       3.33    662           0  \n",
       "113     17.200        55.0       5.20    399           0  \n",
       "27       6.390        56.5       6.59    897           0  \n",
       "26       2.010        47.5       5.21    446           0  \n",
       "82       4.370        59.5       6.55    708           0  \n",
       "96     104.000        60.5       5.84   2330           0  \n",
       "95       2.550        58.8       7.49    348           0  \n",
       "3       22.400        60.1       6.16   3530           0  \n",
       "21       6.810        57.9       5.87    575           0  \n",
       "32      20.800        57.5       6.54    334           0  \n",
       "55       2.970        55.6       5.05    547           0  \n",
       "14       0.885        61.8       5.36    758           0  \n",
       "35       5.390        56.3       5.27   1220           0  \n",
       "54      16.100        58.0       5.34    648           0  \n",
       "24       1.910        57.3       5.11   1310           0  \n",
       "91       7.640        54.5       5.56    419           0  \n",
       "73       4.150        46.5       3.30   1170           0  \n",
       "84      18.900        68.2       4.98   1200           0  \n",
       "22      12.300        57.7       6.26    231           0  \n",
       "98      10.900        65.3       3.85   1040           0  \n",
       "79      12.100        53.1       5.31    459           0  \n",
       "128      1.180        58.7       4.87    488           0  \n",
       "0        9.440        56.2       5.82    553           0  \n",
       "74       5.470        60.8       5.02    327           0  \n",
       "31       3.870        65.9       4.75    769           0  \n",
       "141     14.000        52.0       5.40   1460           0  \n",
       "133     10.600        56.8       6.15    595           0  \n",
       "48       4.300        65.5       5.71    562           0  \n",
       "70       9.200        63.8       3.15   1140           0  \n",
       "122     19.600        66.3       4.88   1480           0  \n",
       "..         ...         ...        ...    ...         ...  \n",
       "42       2.650        74.1       2.27   2990           0  \n",
       "108      1.720        71.5       4.34   3450           0  \n",
       "13       1.140        71.4       2.71   4340           0  \n",
       "30       3.860        76.4       2.01   6250           0  \n",
       "6        7.770        73.3       1.69   3220           0  \n",
       "64       9.810        74.7       2.17   4680           0  \n",
       "129      3.680        69.9       3.91   3550           0  \n",
       "130      3.820        76.9       2.14   4140           0  \n",
       "87      11.100        69.7       1.27   1630           0  \n",
       "138     45.900        75.4       2.47  13500           0  \n",
       "1        4.490        76.3       1.65   4090           0  \n",
       "49       8.550        72.8       1.92   2960           0  \n",
       "29       6.940        74.6       1.59   4560           0  \n",
       "85       1.130        73.4       1.57   8000           0  \n",
       "126      4.080        76.6       1.55   5080           0  \n",
       "52       0.480        71.3       2.24   7370           0  \n",
       "11       0.321        76.7       1.78  16000           0  \n",
       "81       2.880        77.9       2.23   7100           0  \n",
       "134     13.400        70.4       1.44   2970           0  \n",
       "105      3.530        73.7       1.59   8230           0  \n",
       "120     22.800        74.4       2.20   2810           0  \n",
       "20       1.110        73.9       1.57   6840           0  \n",
       "135      4.910        76.4       2.08  11900           0  \n",
       "77       2.040        74.0       1.47   4540           0  \n",
       "72       0.238        79.8       1.61   8860           0  \n",
       "34       6.570        80.4       1.92   8200           0  \n",
       "111      5.880        74.7       1.40   5410           0  \n",
       "17       1.400        76.8       1.31   4610           0  \n",
       "89       1.600        76.4       1.77   6680           0  \n",
       "12      15.100        70.4       1.49   6030           0  \n",
       "\n",
       "[112 rows x 11 columns]"
      ]
     },
     "execution_count": 325,
     "metadata": {},
     "output_type": "execute_result"
    }
   ],
   "source": [
    "countries_hc_0df = countries_hc_0df.sort_values(by=['child_mort', 'exports', 'health', 'imports','income', 'inflation', 'life_expec', 'total_fer', 'gdpp'], \n",
    "                       ascending=[False, True, True, False,True,False,True,True,True])\n",
    "countries_hc_0df"
   ]
  },
  {
   "cell_type": "markdown",
   "metadata": {},
   "source": [
    "### 4. Arriving Results"
   ]
  },
  {
   "cell_type": "markdown",
   "metadata": {},
   "source": [
    "Thus, Top 5 countries that are in dire help derived by both hierarchical and k-means clustering are :\n",
    "1. Haiti\n",
    "2. Sierra Leone\t\n",
    "3. Chad\t\n",
    "4. Central African Republic\t\n",
    "5. Mali"
   ]
  },
  {
   "cell_type": "code",
   "execution_count": null,
   "metadata": {},
   "outputs": [],
   "source": []
  }
 ],
 "metadata": {
  "kernelspec": {
   "display_name": "Python 3",
   "language": "python",
   "name": "python3"
  },
  "language_info": {
   "codemirror_mode": {
    "name": "ipython",
    "version": 3
   },
   "file_extension": ".py",
   "mimetype": "text/x-python",
   "name": "python",
   "nbconvert_exporter": "python",
   "pygments_lexer": "ipython3",
   "version": "3.7.2"
  }
 },
 "nbformat": 4,
 "nbformat_minor": 2
}
