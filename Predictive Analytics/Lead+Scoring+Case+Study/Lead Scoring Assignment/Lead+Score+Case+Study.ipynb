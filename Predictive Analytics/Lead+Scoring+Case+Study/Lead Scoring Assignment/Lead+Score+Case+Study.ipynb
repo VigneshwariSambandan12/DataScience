{
 "cells": [
  {
   "cell_type": "markdown",
   "metadata": {},
   "source": [
    "### Lead Score Case Study\n"
   ]
  },
  {
   "cell_type": "markdown",
   "metadata": {},
   "source": [
    "### Step 1: Importing and Merging Data"
   ]
  },
  {
   "cell_type": "code",
   "execution_count": 720,
   "metadata": {},
   "outputs": [],
   "source": [
    "# Suppressing Warnings\n",
    "import warnings\n",
    "warnings.filterwarnings('ignore')"
   ]
  },
  {
   "cell_type": "code",
   "execution_count": 721,
   "metadata": {},
   "outputs": [],
   "source": [
    "# Importing Pandas and NumPy\n",
    "import pandas as pd, numpy as np"
   ]
  },
  {
   "cell_type": "code",
   "execution_count": 722,
   "metadata": {},
   "outputs": [],
   "source": [
    "# Importing all datasets\n",
    "leadscore_data = pd.read_csv(\"Leads.csv\")\n"
   ]
  },
  {
   "cell_type": "markdown",
   "metadata": {},
   "source": [
    "### Step 2: Inspecting the Dataframe"
   ]
  },
  {
   "cell_type": "code",
   "execution_count": 723,
   "metadata": {},
   "outputs": [
    {
     "data": {
      "text/html": [
       "<div>\n",
       "<style scoped>\n",
       "    .dataframe tbody tr th:only-of-type {\n",
       "        vertical-align: middle;\n",
       "    }\n",
       "\n",
       "    .dataframe tbody tr th {\n",
       "        vertical-align: top;\n",
       "    }\n",
       "\n",
       "    .dataframe thead th {\n",
       "        text-align: right;\n",
       "    }\n",
       "</style>\n",
       "<table border=\"1\" class=\"dataframe\">\n",
       "  <thead>\n",
       "    <tr style=\"text-align: right;\">\n",
       "      <th></th>\n",
       "      <th>Prospect ID</th>\n",
       "      <th>Lead Number</th>\n",
       "      <th>Lead Origin</th>\n",
       "      <th>Lead Source</th>\n",
       "      <th>Do Not Email</th>\n",
       "      <th>Do Not Call</th>\n",
       "      <th>Converted</th>\n",
       "      <th>TotalVisits</th>\n",
       "      <th>Total Time Spent on Website</th>\n",
       "      <th>Page Views Per Visit</th>\n",
       "      <th>...</th>\n",
       "      <th>Get updates on DM Content</th>\n",
       "      <th>Lead Profile</th>\n",
       "      <th>City</th>\n",
       "      <th>Asymmetrique Activity Index</th>\n",
       "      <th>Asymmetrique Profile Index</th>\n",
       "      <th>Asymmetrique Activity Score</th>\n",
       "      <th>Asymmetrique Profile Score</th>\n",
       "      <th>I agree to pay the amount through cheque</th>\n",
       "      <th>A free copy of Mastering The Interview</th>\n",
       "      <th>Last Notable Activity</th>\n",
       "    </tr>\n",
       "  </thead>\n",
       "  <tbody>\n",
       "    <tr>\n",
       "      <th>0</th>\n",
       "      <td>7927b2df-8bba-4d29-b9a2-b6e0beafe620</td>\n",
       "      <td>660737</td>\n",
       "      <td>API</td>\n",
       "      <td>Olark Chat</td>\n",
       "      <td>No</td>\n",
       "      <td>No</td>\n",
       "      <td>0</td>\n",
       "      <td>0.0</td>\n",
       "      <td>0</td>\n",
       "      <td>0.0</td>\n",
       "      <td>...</td>\n",
       "      <td>No</td>\n",
       "      <td>Select</td>\n",
       "      <td>Select</td>\n",
       "      <td>02.Medium</td>\n",
       "      <td>02.Medium</td>\n",
       "      <td>15.0</td>\n",
       "      <td>15.0</td>\n",
       "      <td>No</td>\n",
       "      <td>No</td>\n",
       "      <td>Modified</td>\n",
       "    </tr>\n",
       "    <tr>\n",
       "      <th>1</th>\n",
       "      <td>2a272436-5132-4136-86fa-dcc88c88f482</td>\n",
       "      <td>660728</td>\n",
       "      <td>API</td>\n",
       "      <td>Organic Search</td>\n",
       "      <td>No</td>\n",
       "      <td>No</td>\n",
       "      <td>0</td>\n",
       "      <td>5.0</td>\n",
       "      <td>674</td>\n",
       "      <td>2.5</td>\n",
       "      <td>...</td>\n",
       "      <td>No</td>\n",
       "      <td>Select</td>\n",
       "      <td>Select</td>\n",
       "      <td>02.Medium</td>\n",
       "      <td>02.Medium</td>\n",
       "      <td>15.0</td>\n",
       "      <td>15.0</td>\n",
       "      <td>No</td>\n",
       "      <td>No</td>\n",
       "      <td>Email Opened</td>\n",
       "    </tr>\n",
       "    <tr>\n",
       "      <th>2</th>\n",
       "      <td>8cc8c611-a219-4f35-ad23-fdfd2656bd8a</td>\n",
       "      <td>660727</td>\n",
       "      <td>Landing Page Submission</td>\n",
       "      <td>Direct Traffic</td>\n",
       "      <td>No</td>\n",
       "      <td>No</td>\n",
       "      <td>1</td>\n",
       "      <td>2.0</td>\n",
       "      <td>1532</td>\n",
       "      <td>2.0</td>\n",
       "      <td>...</td>\n",
       "      <td>No</td>\n",
       "      <td>Potential Lead</td>\n",
       "      <td>Mumbai</td>\n",
       "      <td>02.Medium</td>\n",
       "      <td>01.High</td>\n",
       "      <td>14.0</td>\n",
       "      <td>20.0</td>\n",
       "      <td>No</td>\n",
       "      <td>Yes</td>\n",
       "      <td>Email Opened</td>\n",
       "    </tr>\n",
       "    <tr>\n",
       "      <th>3</th>\n",
       "      <td>0cc2df48-7cf4-4e39-9de9-19797f9b38cc</td>\n",
       "      <td>660719</td>\n",
       "      <td>Landing Page Submission</td>\n",
       "      <td>Direct Traffic</td>\n",
       "      <td>No</td>\n",
       "      <td>No</td>\n",
       "      <td>0</td>\n",
       "      <td>1.0</td>\n",
       "      <td>305</td>\n",
       "      <td>1.0</td>\n",
       "      <td>...</td>\n",
       "      <td>No</td>\n",
       "      <td>Select</td>\n",
       "      <td>Mumbai</td>\n",
       "      <td>02.Medium</td>\n",
       "      <td>01.High</td>\n",
       "      <td>13.0</td>\n",
       "      <td>17.0</td>\n",
       "      <td>No</td>\n",
       "      <td>No</td>\n",
       "      <td>Modified</td>\n",
       "    </tr>\n",
       "    <tr>\n",
       "      <th>4</th>\n",
       "      <td>3256f628-e534-4826-9d63-4a8b88782852</td>\n",
       "      <td>660681</td>\n",
       "      <td>Landing Page Submission</td>\n",
       "      <td>Google</td>\n",
       "      <td>No</td>\n",
       "      <td>No</td>\n",
       "      <td>1</td>\n",
       "      <td>2.0</td>\n",
       "      <td>1428</td>\n",
       "      <td>1.0</td>\n",
       "      <td>...</td>\n",
       "      <td>No</td>\n",
       "      <td>Select</td>\n",
       "      <td>Mumbai</td>\n",
       "      <td>02.Medium</td>\n",
       "      <td>01.High</td>\n",
       "      <td>15.0</td>\n",
       "      <td>18.0</td>\n",
       "      <td>No</td>\n",
       "      <td>No</td>\n",
       "      <td>Modified</td>\n",
       "    </tr>\n",
       "  </tbody>\n",
       "</table>\n",
       "<p>5 rows × 37 columns</p>\n",
       "</div>"
      ],
      "text/plain": [
       "                            Prospect ID  Lead Number              Lead Origin  \\\n",
       "0  7927b2df-8bba-4d29-b9a2-b6e0beafe620       660737                      API   \n",
       "1  2a272436-5132-4136-86fa-dcc88c88f482       660728                      API   \n",
       "2  8cc8c611-a219-4f35-ad23-fdfd2656bd8a       660727  Landing Page Submission   \n",
       "3  0cc2df48-7cf4-4e39-9de9-19797f9b38cc       660719  Landing Page Submission   \n",
       "4  3256f628-e534-4826-9d63-4a8b88782852       660681  Landing Page Submission   \n",
       "\n",
       "      Lead Source Do Not Email Do Not Call  Converted  TotalVisits  \\\n",
       "0      Olark Chat           No          No          0          0.0   \n",
       "1  Organic Search           No          No          0          5.0   \n",
       "2  Direct Traffic           No          No          1          2.0   \n",
       "3  Direct Traffic           No          No          0          1.0   \n",
       "4          Google           No          No          1          2.0   \n",
       "\n",
       "   Total Time Spent on Website  Page Views Per Visit  ...  \\\n",
       "0                            0                   0.0  ...   \n",
       "1                          674                   2.5  ...   \n",
       "2                         1532                   2.0  ...   \n",
       "3                          305                   1.0  ...   \n",
       "4                         1428                   1.0  ...   \n",
       "\n",
       "  Get updates on DM Content    Lead Profile    City  \\\n",
       "0                        No          Select  Select   \n",
       "1                        No          Select  Select   \n",
       "2                        No  Potential Lead  Mumbai   \n",
       "3                        No          Select  Mumbai   \n",
       "4                        No          Select  Mumbai   \n",
       "\n",
       "  Asymmetrique Activity Index Asymmetrique Profile Index  \\\n",
       "0                   02.Medium                  02.Medium   \n",
       "1                   02.Medium                  02.Medium   \n",
       "2                   02.Medium                    01.High   \n",
       "3                   02.Medium                    01.High   \n",
       "4                   02.Medium                    01.High   \n",
       "\n",
       "  Asymmetrique Activity Score Asymmetrique Profile Score  \\\n",
       "0                        15.0                       15.0   \n",
       "1                        15.0                       15.0   \n",
       "2                        14.0                       20.0   \n",
       "3                        13.0                       17.0   \n",
       "4                        15.0                       18.0   \n",
       "\n",
       "  I agree to pay the amount through cheque  \\\n",
       "0                                       No   \n",
       "1                                       No   \n",
       "2                                       No   \n",
       "3                                       No   \n",
       "4                                       No   \n",
       "\n",
       "  A free copy of Mastering The Interview Last Notable Activity  \n",
       "0                                     No              Modified  \n",
       "1                                     No          Email Opened  \n",
       "2                                    Yes          Email Opened  \n",
       "3                                     No              Modified  \n",
       "4                                     No              Modified  \n",
       "\n",
       "[5 rows x 37 columns]"
      ]
     },
     "execution_count": 723,
     "metadata": {},
     "output_type": "execute_result"
    }
   ],
   "source": [
    "# Let's see the head of our master dataset\n",
    "leadscore_data.head()"
   ]
  },
  {
   "cell_type": "code",
   "execution_count": 724,
   "metadata": {},
   "outputs": [
    {
     "data": {
      "text/plain": [
       "(9240, 37)"
      ]
     },
     "execution_count": 724,
     "metadata": {},
     "output_type": "execute_result"
    }
   ],
   "source": [
    "# Let's check the dimensions of the dataframe\n",
    "leadscore_data.shape"
   ]
  },
  {
   "cell_type": "code",
   "execution_count": 725,
   "metadata": {},
   "outputs": [
    {
     "data": {
      "text/html": [
       "<div>\n",
       "<style scoped>\n",
       "    .dataframe tbody tr th:only-of-type {\n",
       "        vertical-align: middle;\n",
       "    }\n",
       "\n",
       "    .dataframe tbody tr th {\n",
       "        vertical-align: top;\n",
       "    }\n",
       "\n",
       "    .dataframe thead th {\n",
       "        text-align: right;\n",
       "    }\n",
       "</style>\n",
       "<table border=\"1\" class=\"dataframe\">\n",
       "  <thead>\n",
       "    <tr style=\"text-align: right;\">\n",
       "      <th></th>\n",
       "      <th>Lead Number</th>\n",
       "      <th>Converted</th>\n",
       "      <th>TotalVisits</th>\n",
       "      <th>Total Time Spent on Website</th>\n",
       "      <th>Page Views Per Visit</th>\n",
       "      <th>Asymmetrique Activity Score</th>\n",
       "      <th>Asymmetrique Profile Score</th>\n",
       "    </tr>\n",
       "  </thead>\n",
       "  <tbody>\n",
       "    <tr>\n",
       "      <th>count</th>\n",
       "      <td>9240.000000</td>\n",
       "      <td>9240.000000</td>\n",
       "      <td>9103.000000</td>\n",
       "      <td>9240.000000</td>\n",
       "      <td>9103.000000</td>\n",
       "      <td>5022.000000</td>\n",
       "      <td>5022.000000</td>\n",
       "    </tr>\n",
       "    <tr>\n",
       "      <th>mean</th>\n",
       "      <td>617188.435606</td>\n",
       "      <td>0.385390</td>\n",
       "      <td>3.445238</td>\n",
       "      <td>487.698268</td>\n",
       "      <td>2.362820</td>\n",
       "      <td>14.306252</td>\n",
       "      <td>16.344883</td>\n",
       "    </tr>\n",
       "    <tr>\n",
       "      <th>std</th>\n",
       "      <td>23405.995698</td>\n",
       "      <td>0.486714</td>\n",
       "      <td>4.854853</td>\n",
       "      <td>548.021466</td>\n",
       "      <td>2.161418</td>\n",
       "      <td>1.386694</td>\n",
       "      <td>1.811395</td>\n",
       "    </tr>\n",
       "    <tr>\n",
       "      <th>min</th>\n",
       "      <td>579533.000000</td>\n",
       "      <td>0.000000</td>\n",
       "      <td>0.000000</td>\n",
       "      <td>0.000000</td>\n",
       "      <td>0.000000</td>\n",
       "      <td>7.000000</td>\n",
       "      <td>11.000000</td>\n",
       "    </tr>\n",
       "    <tr>\n",
       "      <th>25%</th>\n",
       "      <td>596484.500000</td>\n",
       "      <td>0.000000</td>\n",
       "      <td>1.000000</td>\n",
       "      <td>12.000000</td>\n",
       "      <td>1.000000</td>\n",
       "      <td>14.000000</td>\n",
       "      <td>15.000000</td>\n",
       "    </tr>\n",
       "    <tr>\n",
       "      <th>50%</th>\n",
       "      <td>615479.000000</td>\n",
       "      <td>0.000000</td>\n",
       "      <td>3.000000</td>\n",
       "      <td>248.000000</td>\n",
       "      <td>2.000000</td>\n",
       "      <td>14.000000</td>\n",
       "      <td>16.000000</td>\n",
       "    </tr>\n",
       "    <tr>\n",
       "      <th>75%</th>\n",
       "      <td>637387.250000</td>\n",
       "      <td>1.000000</td>\n",
       "      <td>5.000000</td>\n",
       "      <td>936.000000</td>\n",
       "      <td>3.000000</td>\n",
       "      <td>15.000000</td>\n",
       "      <td>18.000000</td>\n",
       "    </tr>\n",
       "    <tr>\n",
       "      <th>max</th>\n",
       "      <td>660737.000000</td>\n",
       "      <td>1.000000</td>\n",
       "      <td>251.000000</td>\n",
       "      <td>2272.000000</td>\n",
       "      <td>55.000000</td>\n",
       "      <td>18.000000</td>\n",
       "      <td>20.000000</td>\n",
       "    </tr>\n",
       "  </tbody>\n",
       "</table>\n",
       "</div>"
      ],
      "text/plain": [
       "         Lead Number    Converted  TotalVisits  Total Time Spent on Website  \\\n",
       "count    9240.000000  9240.000000  9103.000000                  9240.000000   \n",
       "mean   617188.435606     0.385390     3.445238                   487.698268   \n",
       "std     23405.995698     0.486714     4.854853                   548.021466   \n",
       "min    579533.000000     0.000000     0.000000                     0.000000   \n",
       "25%    596484.500000     0.000000     1.000000                    12.000000   \n",
       "50%    615479.000000     0.000000     3.000000                   248.000000   \n",
       "75%    637387.250000     1.000000     5.000000                   936.000000   \n",
       "max    660737.000000     1.000000   251.000000                  2272.000000   \n",
       "\n",
       "       Page Views Per Visit  Asymmetrique Activity Score  \\\n",
       "count           9103.000000                  5022.000000   \n",
       "mean               2.362820                    14.306252   \n",
       "std                2.161418                     1.386694   \n",
       "min                0.000000                     7.000000   \n",
       "25%                1.000000                    14.000000   \n",
       "50%                2.000000                    14.000000   \n",
       "75%                3.000000                    15.000000   \n",
       "max               55.000000                    18.000000   \n",
       "\n",
       "       Asymmetrique Profile Score  \n",
       "count                 5022.000000  \n",
       "mean                    16.344883  \n",
       "std                      1.811395  \n",
       "min                     11.000000  \n",
       "25%                     15.000000  \n",
       "50%                     16.000000  \n",
       "75%                     18.000000  \n",
       "max                     20.000000  "
      ]
     },
     "execution_count": 725,
     "metadata": {},
     "output_type": "execute_result"
    }
   ],
   "source": [
    "# let's look at the statistical aspects of the dataframe\n",
    "leadscore_data.describe()"
   ]
  },
  {
   "cell_type": "code",
   "execution_count": 726,
   "metadata": {},
   "outputs": [
    {
     "name": "stdout",
     "output_type": "stream",
     "text": [
      "<class 'pandas.core.frame.DataFrame'>\n",
      "RangeIndex: 9240 entries, 0 to 9239\n",
      "Data columns (total 37 columns):\n",
      "Prospect ID                                      9240 non-null object\n",
      "Lead Number                                      9240 non-null int64\n",
      "Lead Origin                                      9240 non-null object\n",
      "Lead Source                                      9204 non-null object\n",
      "Do Not Email                                     9240 non-null object\n",
      "Do Not Call                                      9240 non-null object\n",
      "Converted                                        9240 non-null int64\n",
      "TotalVisits                                      9103 non-null float64\n",
      "Total Time Spent on Website                      9240 non-null int64\n",
      "Page Views Per Visit                             9103 non-null float64\n",
      "Last Activity                                    9137 non-null object\n",
      "Country                                          6779 non-null object\n",
      "Specialization                                   7802 non-null object\n",
      "How did you hear about X Education               7033 non-null object\n",
      "What is your current occupation                  6550 non-null object\n",
      "What matters most to you in choosing a course    6531 non-null object\n",
      "Search                                           9240 non-null object\n",
      "Magazine                                         9240 non-null object\n",
      "Newspaper Article                                9240 non-null object\n",
      "X Education Forums                               9240 non-null object\n",
      "Newspaper                                        9240 non-null object\n",
      "Digital Advertisement                            9240 non-null object\n",
      "Through Recommendations                          9240 non-null object\n",
      "Receive More Updates About Our Courses           9240 non-null object\n",
      "Tags                                             5887 non-null object\n",
      "Lead Quality                                     4473 non-null object\n",
      "Update me on Supply Chain Content                9240 non-null object\n",
      "Get updates on DM Content                        9240 non-null object\n",
      "Lead Profile                                     6531 non-null object\n",
      "City                                             7820 non-null object\n",
      "Asymmetrique Activity Index                      5022 non-null object\n",
      "Asymmetrique Profile Index                       5022 non-null object\n",
      "Asymmetrique Activity Score                      5022 non-null float64\n",
      "Asymmetrique Profile Score                       5022 non-null float64\n",
      "I agree to pay the amount through cheque         9240 non-null object\n",
      "A free copy of Mastering The Interview           9240 non-null object\n",
      "Last Notable Activity                            9240 non-null object\n",
      "dtypes: float64(4), int64(3), object(30)\n",
      "memory usage: 2.6+ MB\n"
     ]
    }
   ],
   "source": [
    "# Let's see the type of each column\n",
    "leadscore_data.info()"
   ]
  },
  {
   "cell_type": "markdown",
   "metadata": {},
   "source": [
    "### Step 3: Data Cleaning and Preparation"
   ]
  },
  {
   "cell_type": "markdown",
   "metadata": {},
   "source": [
    "#### Data Cleaning - Cleaning the missing values \n"
   ]
  },
  {
   "cell_type": "code",
   "execution_count": 727,
   "metadata": {},
   "outputs": [],
   "source": [
    "# 'Select' value is considered as a placeholder\n",
    "for column in leadscore_data.columns.astype('object'):\n",
    "    leadscore_data[column] = leadscore_data[column].apply( lambda x: np.nan if x == \"Select\"  else x )"
   ]
  },
  {
   "cell_type": "markdown",
   "metadata": {},
   "source": [
    "#### Treating the missing values"
   ]
  },
  {
   "cell_type": "code",
   "execution_count": 728,
   "metadata": {},
   "outputs": [
    {
     "data": {
      "text/plain": [
       "Prospect ID                                       0.00\n",
       "Lead Number                                       0.00\n",
       "Lead Origin                                       0.00\n",
       "Lead Source                                       0.39\n",
       "Do Not Email                                      0.00\n",
       "Do Not Call                                       0.00\n",
       "Converted                                         0.00\n",
       "TotalVisits                                       1.48\n",
       "Total Time Spent on Website                       0.00\n",
       "Page Views Per Visit                              1.48\n",
       "Last Activity                                     1.11\n",
       "Country                                          26.63\n",
       "Specialization                                   36.58\n",
       "How did you hear about X Education               78.46\n",
       "What is your current occupation                  29.11\n",
       "What matters most to you in choosing a course    29.32\n",
       "Search                                            0.00\n",
       "Magazine                                          0.00\n",
       "Newspaper Article                                 0.00\n",
       "X Education Forums                                0.00\n",
       "Newspaper                                         0.00\n",
       "Digital Advertisement                             0.00\n",
       "Through Recommendations                           0.00\n",
       "Receive More Updates About Our Courses            0.00\n",
       "Tags                                             36.29\n",
       "Lead Quality                                     51.59\n",
       "Update me on Supply Chain Content                 0.00\n",
       "Get updates on DM Content                         0.00\n",
       "Lead Profile                                     74.19\n",
       "City                                             39.71\n",
       "Asymmetrique Activity Index                      45.65\n",
       "Asymmetrique Profile Index                       45.65\n",
       "Asymmetrique Activity Score                      45.65\n",
       "Asymmetrique Profile Score                       45.65\n",
       "I agree to pay the amount through cheque          0.00\n",
       "A free copy of Mastering The Interview            0.00\n",
       "Last Notable Activity                             0.00\n",
       "dtype: float64"
      ]
     },
     "execution_count": 728,
     "metadata": {},
     "output_type": "execute_result"
    }
   ],
   "source": [
    "# Checking the percentage of missing values\n",
    "round(100*(leadscore_data.isnull().sum()/len(leadscore_data.index)), 2) "
   ]
  },
  {
   "cell_type": "code",
   "execution_count": 729,
   "metadata": {},
   "outputs": [],
   "source": [
    "#Drop all the columns which have more than 30% null values \n",
    "leadscore_data = leadscore_data.drop(['Specialization','How did you hear about X Education','Tags','Lead Quality','Lead Profile','City','Asymmetrique Activity Index','Asymmetrique Profile Index',\n",
    "'Asymmetrique Activity Score','Asymmetrique Profile Score'],axis=1)"
   ]
  },
  {
   "cell_type": "markdown",
   "metadata": {},
   "source": [
    "#### Insteading of dropping these columns, calculate the dummy variables and drop the columns with null values"
   ]
  },
  {
   "cell_type": "code",
   "execution_count": 730,
   "metadata": {},
   "outputs": [],
   "source": [
    "dummy = pd.get_dummies(leadscore_data[['Country','What is your current occupation','What matters most to you in choosing a course']])\n",
    "dummy = dummy.drop(['Country_unknown','What is your current occupation_Other','What matters most to you in choosing a course_Other'],axis=1)\n",
    "leadscore = pd.concat([leadscore_data, dummy], axis=1)\n",
    "leadscore = leadscore.drop(['Country','What is your current occupation','What matters most to you in choosing a course'],axis=1)"
   ]
  },
  {
   "cell_type": "code",
   "execution_count": 731,
   "metadata": {},
   "outputs": [
    {
     "data": {
      "text/plain": [
       "Google               2868\n",
       "Direct Traffic       2543\n",
       "Olark Chat           1755\n",
       "Organic Search       1154\n",
       "Reference             534\n",
       "Welingak Website      142\n",
       "Referral Sites        125\n",
       "Facebook               55\n",
       "bing                    6\n",
       "google                  5\n",
       "Click2call              4\n",
       "Social Media            2\n",
       "Live Chat               2\n",
       "Press_Release           2\n",
       "testone                 1\n",
       "welearnblog_Home        1\n",
       "youtubechannel          1\n",
       "Pay per Click Ads       1\n",
       "blog                    1\n",
       "NC_EDM                  1\n",
       "WeLearn                 1\n",
       "Name: Lead Source, dtype: int64"
      ]
     },
     "execution_count": 731,
     "metadata": {},
     "output_type": "execute_result"
    }
   ],
   "source": [
    "leadscore['Lead Source'].value_counts()"
   ]
  },
  {
   "cell_type": "code",
   "execution_count": 732,
   "metadata": {},
   "outputs": [
    {
     "data": {
      "text/plain": [
       "Email Opened                    3437\n",
       "SMS Sent                        2745\n",
       "Olark Chat Conversation          973\n",
       "Page Visited on Website          640\n",
       "Converted to Lead                428\n",
       "Email Bounced                    326\n",
       "Email Link Clicked               267\n",
       "Form Submitted on Website        116\n",
       "Unreachable                       93\n",
       "Unsubscribed                      61\n",
       "Had a Phone Conversation          30\n",
       "Approached upfront                 9\n",
       "View in browser link Clicked       6\n",
       "Email Marked Spam                  2\n",
       "Email Received                     2\n",
       "Visited Booth in Tradeshow         1\n",
       "Resubscribed to emails             1\n",
       "Name: Last Activity, dtype: int64"
      ]
     },
     "execution_count": 732,
     "metadata": {},
     "output_type": "execute_result"
    }
   ],
   "source": [
    "leadscore['Last Activity'].value_counts()"
   ]
  },
  {
   "cell_type": "code",
   "execution_count": 733,
   "metadata": {},
   "outputs": [],
   "source": [
    "dummy = pd.get_dummies(leadscore[['Lead Source','Last Activity']])\n",
    "dummy = dummy.drop(['Lead Source_WeLearn','Last Activity_Visited Booth in Tradeshow'],axis=1)\n",
    "leadscore = pd.concat([leadscore, dummy], axis=1)\n",
    "leadscore = leadscore.drop(['Lead Source','Last Activity'],axis=1)"
   ]
  },
  {
   "cell_type": "markdown",
   "metadata": {},
   "source": [
    "#### Impute missing values"
   ]
  },
  {
   "cell_type": "code",
   "execution_count": 734,
   "metadata": {},
   "outputs": [],
   "source": [
    "#For columns 'Page Views Per Visit' and 'Total Visits', null values occur as the user has not visited the website, but by advertisement, so it is safe to impute 0 for these cases\n",
    "leadscore[np.isnan(leadscore['Page Views Per Visit'])]\n",
    "leadscore.loc[np.isnan(leadscore['Page Views Per Visit']), ['Page Views Per Visit']] = 0\n",
    "leadscore.loc[np.isnan(leadscore['TotalVisits']), ['TotalVisits']] = 0 "
   ]
  },
  {
   "cell_type": "code",
   "execution_count": 735,
   "metadata": {},
   "outputs": [
    {
     "data": {
      "text/plain": [
       "Prospect ID                                   0.0\n",
       "Lead Number                                   0.0\n",
       "Lead Origin                                   0.0\n",
       "Do Not Email                                  0.0\n",
       "Do Not Call                                   0.0\n",
       "Converted                                     0.0\n",
       "TotalVisits                                   0.0\n",
       "Total Time Spent on Website                   0.0\n",
       "Page Views Per Visit                          0.0\n",
       "Search                                        0.0\n",
       "Magazine                                      0.0\n",
       "Newspaper Article                             0.0\n",
       "X Education Forums                            0.0\n",
       "Newspaper                                     0.0\n",
       "Digital Advertisement                         0.0\n",
       "Through Recommendations                       0.0\n",
       "Receive More Updates About Our Courses        0.0\n",
       "Update me on Supply Chain Content             0.0\n",
       "Get updates on DM Content                     0.0\n",
       "I agree to pay the amount through cheque      0.0\n",
       "A free copy of Mastering The Interview        0.0\n",
       "Last Notable Activity                         0.0\n",
       "Country_Asia/Pacific Region                   0.0\n",
       "Country_Australia                             0.0\n",
       "Country_Bahrain                               0.0\n",
       "Country_Bangladesh                            0.0\n",
       "Country_Belgium                               0.0\n",
       "Country_Canada                                0.0\n",
       "Country_China                                 0.0\n",
       "Country_Denmark                               0.0\n",
       "                                             ... \n",
       "Lead Source_Olark Chat                        0.0\n",
       "Lead Source_Organic Search                    0.0\n",
       "Lead Source_Pay per Click Ads                 0.0\n",
       "Lead Source_Press_Release                     0.0\n",
       "Lead Source_Reference                         0.0\n",
       "Lead Source_Referral Sites                    0.0\n",
       "Lead Source_Social Media                      0.0\n",
       "Lead Source_Welingak Website                  0.0\n",
       "Lead Source_bing                              0.0\n",
       "Lead Source_blog                              0.0\n",
       "Lead Source_google                            0.0\n",
       "Lead Source_testone                           0.0\n",
       "Lead Source_welearnblog_Home                  0.0\n",
       "Lead Source_youtubechannel                    0.0\n",
       "Last Activity_Approached upfront              0.0\n",
       "Last Activity_Converted to Lead               0.0\n",
       "Last Activity_Email Bounced                   0.0\n",
       "Last Activity_Email Link Clicked              0.0\n",
       "Last Activity_Email Marked Spam               0.0\n",
       "Last Activity_Email Opened                    0.0\n",
       "Last Activity_Email Received                  0.0\n",
       "Last Activity_Form Submitted on Website       0.0\n",
       "Last Activity_Had a Phone Conversation        0.0\n",
       "Last Activity_Olark Chat Conversation         0.0\n",
       "Last Activity_Page Visited on Website         0.0\n",
       "Last Activity_Resubscribed to emails          0.0\n",
       "Last Activity_SMS Sent                        0.0\n",
       "Last Activity_Unreachable                     0.0\n",
       "Last Activity_Unsubscribed                    0.0\n",
       "Last Activity_View in browser link Clicked    0.0\n",
       "Length: 102, dtype: float64"
      ]
     },
     "execution_count": 735,
     "metadata": {},
     "output_type": "execute_result"
    }
   ],
   "source": [
    "# Checking the percentage of missing values\n",
    "round(100*(leadscore.isnull().sum()/len(leadscore.index)), 2) "
   ]
  },
  {
   "cell_type": "markdown",
   "metadata": {},
   "source": [
    "#### Converting some binary variables (Yes/No) to 0/1"
   ]
  },
  {
   "cell_type": "code",
   "execution_count": 736,
   "metadata": {},
   "outputs": [],
   "source": [
    "# List of variables to map\n",
    "varlist =  ['Do Not Email', 'Do Not Call', 'Search','Magazine','Newspaper Article','X Education Forums',\n",
    "'Newspaper','Digital Advertisement','Through Recommendations',\n",
    "            'Receive More Updates About Our Courses','Update me on Supply Chain Content',\n",
    "            'Get updates on DM Content','I agree to pay the amount through cheque','A free copy of Mastering The Interview']\n",
    "\n",
    "# Defining the map function\n",
    "def binary_map(x):\n",
    "    return x.map({'Yes': 1, \"No\": 0})\n",
    "\n",
    "# Applying the function to the lead score list\n",
    "leadscore[varlist] = leadscore[varlist].apply(binary_map)"
   ]
  },
  {
   "cell_type": "code",
   "execution_count": 737,
   "metadata": {},
   "outputs": [],
   "source": [
    "leadscore = leadscore.drop(varlist,axis=1)"
   ]
  },
  {
   "cell_type": "markdown",
   "metadata": {},
   "source": [
    "#### For categorical variables with multiple levels, create dummy features (one-hot encoded)"
   ]
  },
  {
   "cell_type": "code",
   "execution_count": 738,
   "metadata": {},
   "outputs": [
    {
     "data": {
      "text/plain": [
       "Index(['Prospect ID', 'Lead Origin', 'Last Notable Activity'], dtype='object')"
      ]
     },
     "execution_count": 738,
     "metadata": {},
     "output_type": "execute_result"
    }
   ],
   "source": [
    "leadscore.select_dtypes(include='object').columns"
   ]
  },
  {
   "cell_type": "code",
   "execution_count": 739,
   "metadata": {},
   "outputs": [
    {
     "data": {
      "text/plain": [
       "Landing Page Submission    4886\n",
       "API                        3580\n",
       "Lead Add Form               718\n",
       "Lead Import                  55\n",
       "Quick Add Form                1\n",
       "Name: Lead Origin, dtype: int64"
      ]
     },
     "execution_count": 739,
     "metadata": {},
     "output_type": "execute_result"
    }
   ],
   "source": [
    "leadscore['Lead Origin'].value_counts()"
   ]
  },
  {
   "cell_type": "code",
   "execution_count": 740,
   "metadata": {},
   "outputs": [
    {
     "data": {
      "text/plain": [
       "Modified                        3407\n",
       "Email Opened                    2827\n",
       "SMS Sent                        2172\n",
       "Page Visited on Website          318\n",
       "Olark Chat Conversation          183\n",
       "Email Link Clicked               173\n",
       "Email Bounced                     60\n",
       "Unsubscribed                      47\n",
       "Unreachable                       32\n",
       "Had a Phone Conversation          14\n",
       "Email Marked Spam                  2\n",
       "Email Received                     1\n",
       "Resubscribed to emails             1\n",
       "View in browser link Clicked       1\n",
       "Approached upfront                 1\n",
       "Form Submitted on Website          1\n",
       "Name: Last Notable Activity, dtype: int64"
      ]
     },
     "execution_count": 740,
     "metadata": {},
     "output_type": "execute_result"
    }
   ],
   "source": [
    "leadscore['Last Notable Activity'].value_counts()"
   ]
  },
  {
   "cell_type": "code",
   "execution_count": 741,
   "metadata": {},
   "outputs": [],
   "source": [
    "dummy = pd.get_dummies(leadscore[['Lead Origin','Last Notable Activity']])\n",
    "dummy.columns\n",
    "dummy = dummy.drop(['Lead Origin_Quick Add Form','Last Notable Activity_Approached upfront'],axis=1)\n",
    "leadscore = pd.concat([leadscore, dummy], axis=1)\n",
    "leadscore = leadscore.drop(['Lead Origin','Last Notable Activity'],axis=1)"
   ]
  },
  {
   "cell_type": "code",
   "execution_count": 742,
   "metadata": {},
   "outputs": [],
   "source": [
    "leadscore['Lead Number'] = leadscore['Lead Number'].astype('object') "
   ]
  },
  {
   "cell_type": "markdown",
   "metadata": {},
   "source": [
    "### Step 4: Test-Train Split"
   ]
  },
  {
   "cell_type": "code",
   "execution_count": 743,
   "metadata": {},
   "outputs": [],
   "source": [
    "from sklearn.model_selection import train_test_split"
   ]
  },
  {
   "cell_type": "code",
   "execution_count": 744,
   "metadata": {},
   "outputs": [
    {
     "data": {
      "text/html": [
       "<div>\n",
       "<style scoped>\n",
       "    .dataframe tbody tr th:only-of-type {\n",
       "        vertical-align: middle;\n",
       "    }\n",
       "\n",
       "    .dataframe tbody tr th {\n",
       "        vertical-align: top;\n",
       "    }\n",
       "\n",
       "    .dataframe thead th {\n",
       "        text-align: right;\n",
       "    }\n",
       "</style>\n",
       "<table border=\"1\" class=\"dataframe\">\n",
       "  <thead>\n",
       "    <tr style=\"text-align: right;\">\n",
       "      <th></th>\n",
       "      <th>TotalVisits</th>\n",
       "      <th>Total Time Spent on Website</th>\n",
       "      <th>Page Views Per Visit</th>\n",
       "      <th>Country_Asia/Pacific Region</th>\n",
       "      <th>Country_Australia</th>\n",
       "      <th>Country_Bahrain</th>\n",
       "      <th>Country_Bangladesh</th>\n",
       "      <th>Country_Belgium</th>\n",
       "      <th>Country_Canada</th>\n",
       "      <th>Country_China</th>\n",
       "      <th>...</th>\n",
       "      <th>Last Notable Activity_Form Submitted on Website</th>\n",
       "      <th>Last Notable Activity_Had a Phone Conversation</th>\n",
       "      <th>Last Notable Activity_Modified</th>\n",
       "      <th>Last Notable Activity_Olark Chat Conversation</th>\n",
       "      <th>Last Notable Activity_Page Visited on Website</th>\n",
       "      <th>Last Notable Activity_Resubscribed to emails</th>\n",
       "      <th>Last Notable Activity_SMS Sent</th>\n",
       "      <th>Last Notable Activity_Unreachable</th>\n",
       "      <th>Last Notable Activity_Unsubscribed</th>\n",
       "      <th>Last Notable Activity_View in browser link Clicked</th>\n",
       "    </tr>\n",
       "  </thead>\n",
       "  <tbody>\n",
       "    <tr>\n",
       "      <th>0</th>\n",
       "      <td>0.0</td>\n",
       "      <td>0</td>\n",
       "      <td>0.0</td>\n",
       "      <td>0</td>\n",
       "      <td>0</td>\n",
       "      <td>0</td>\n",
       "      <td>0</td>\n",
       "      <td>0</td>\n",
       "      <td>0</td>\n",
       "      <td>0</td>\n",
       "      <td>...</td>\n",
       "      <td>0</td>\n",
       "      <td>0</td>\n",
       "      <td>1</td>\n",
       "      <td>0</td>\n",
       "      <td>0</td>\n",
       "      <td>0</td>\n",
       "      <td>0</td>\n",
       "      <td>0</td>\n",
       "      <td>0</td>\n",
       "      <td>0</td>\n",
       "    </tr>\n",
       "    <tr>\n",
       "      <th>1</th>\n",
       "      <td>5.0</td>\n",
       "      <td>674</td>\n",
       "      <td>2.5</td>\n",
       "      <td>0</td>\n",
       "      <td>0</td>\n",
       "      <td>0</td>\n",
       "      <td>0</td>\n",
       "      <td>0</td>\n",
       "      <td>0</td>\n",
       "      <td>0</td>\n",
       "      <td>...</td>\n",
       "      <td>0</td>\n",
       "      <td>0</td>\n",
       "      <td>0</td>\n",
       "      <td>0</td>\n",
       "      <td>0</td>\n",
       "      <td>0</td>\n",
       "      <td>0</td>\n",
       "      <td>0</td>\n",
       "      <td>0</td>\n",
       "      <td>0</td>\n",
       "    </tr>\n",
       "    <tr>\n",
       "      <th>2</th>\n",
       "      <td>2.0</td>\n",
       "      <td>1532</td>\n",
       "      <td>2.0</td>\n",
       "      <td>0</td>\n",
       "      <td>0</td>\n",
       "      <td>0</td>\n",
       "      <td>0</td>\n",
       "      <td>0</td>\n",
       "      <td>0</td>\n",
       "      <td>0</td>\n",
       "      <td>...</td>\n",
       "      <td>0</td>\n",
       "      <td>0</td>\n",
       "      <td>0</td>\n",
       "      <td>0</td>\n",
       "      <td>0</td>\n",
       "      <td>0</td>\n",
       "      <td>0</td>\n",
       "      <td>0</td>\n",
       "      <td>0</td>\n",
       "      <td>0</td>\n",
       "    </tr>\n",
       "    <tr>\n",
       "      <th>3</th>\n",
       "      <td>1.0</td>\n",
       "      <td>305</td>\n",
       "      <td>1.0</td>\n",
       "      <td>0</td>\n",
       "      <td>0</td>\n",
       "      <td>0</td>\n",
       "      <td>0</td>\n",
       "      <td>0</td>\n",
       "      <td>0</td>\n",
       "      <td>0</td>\n",
       "      <td>...</td>\n",
       "      <td>0</td>\n",
       "      <td>0</td>\n",
       "      <td>1</td>\n",
       "      <td>0</td>\n",
       "      <td>0</td>\n",
       "      <td>0</td>\n",
       "      <td>0</td>\n",
       "      <td>0</td>\n",
       "      <td>0</td>\n",
       "      <td>0</td>\n",
       "    </tr>\n",
       "    <tr>\n",
       "      <th>4</th>\n",
       "      <td>2.0</td>\n",
       "      <td>1428</td>\n",
       "      <td>1.0</td>\n",
       "      <td>0</td>\n",
       "      <td>0</td>\n",
       "      <td>0</td>\n",
       "      <td>0</td>\n",
       "      <td>0</td>\n",
       "      <td>0</td>\n",
       "      <td>0</td>\n",
       "      <td>...</td>\n",
       "      <td>0</td>\n",
       "      <td>0</td>\n",
       "      <td>1</td>\n",
       "      <td>0</td>\n",
       "      <td>0</td>\n",
       "      <td>0</td>\n",
       "      <td>0</td>\n",
       "      <td>0</td>\n",
       "      <td>0</td>\n",
       "      <td>0</td>\n",
       "    </tr>\n",
       "  </tbody>\n",
       "</table>\n",
       "<p>5 rows × 102 columns</p>\n",
       "</div>"
      ],
      "text/plain": [
       "   TotalVisits  Total Time Spent on Website  Page Views Per Visit  \\\n",
       "0          0.0                            0                   0.0   \n",
       "1          5.0                          674                   2.5   \n",
       "2          2.0                         1532                   2.0   \n",
       "3          1.0                          305                   1.0   \n",
       "4          2.0                         1428                   1.0   \n",
       "\n",
       "   Country_Asia/Pacific Region  Country_Australia  Country_Bahrain  \\\n",
       "0                            0                  0                0   \n",
       "1                            0                  0                0   \n",
       "2                            0                  0                0   \n",
       "3                            0                  0                0   \n",
       "4                            0                  0                0   \n",
       "\n",
       "   Country_Bangladesh  Country_Belgium  Country_Canada  Country_China  ...  \\\n",
       "0                   0                0               0              0  ...   \n",
       "1                   0                0               0              0  ...   \n",
       "2                   0                0               0              0  ...   \n",
       "3                   0                0               0              0  ...   \n",
       "4                   0                0               0              0  ...   \n",
       "\n",
       "   Last Notable Activity_Form Submitted on Website  \\\n",
       "0                                                0   \n",
       "1                                                0   \n",
       "2                                                0   \n",
       "3                                                0   \n",
       "4                                                0   \n",
       "\n",
       "   Last Notable Activity_Had a Phone Conversation  \\\n",
       "0                                               0   \n",
       "1                                               0   \n",
       "2                                               0   \n",
       "3                                               0   \n",
       "4                                               0   \n",
       "\n",
       "   Last Notable Activity_Modified  \\\n",
       "0                               1   \n",
       "1                               0   \n",
       "2                               0   \n",
       "3                               1   \n",
       "4                               1   \n",
       "\n",
       "   Last Notable Activity_Olark Chat Conversation  \\\n",
       "0                                              0   \n",
       "1                                              0   \n",
       "2                                              0   \n",
       "3                                              0   \n",
       "4                                              0   \n",
       "\n",
       "   Last Notable Activity_Page Visited on Website  \\\n",
       "0                                              0   \n",
       "1                                              0   \n",
       "2                                              0   \n",
       "3                                              0   \n",
       "4                                              0   \n",
       "\n",
       "   Last Notable Activity_Resubscribed to emails  \\\n",
       "0                                             0   \n",
       "1                                             0   \n",
       "2                                             0   \n",
       "3                                             0   \n",
       "4                                             0   \n",
       "\n",
       "   Last Notable Activity_SMS Sent  Last Notable Activity_Unreachable  \\\n",
       "0                               0                                  0   \n",
       "1                               0                                  0   \n",
       "2                               0                                  0   \n",
       "3                               0                                  0   \n",
       "4                               0                                  0   \n",
       "\n",
       "   Last Notable Activity_Unsubscribed  \\\n",
       "0                                   0   \n",
       "1                                   0   \n",
       "2                                   0   \n",
       "3                                   0   \n",
       "4                                   0   \n",
       "\n",
       "   Last Notable Activity_View in browser link Clicked  \n",
       "0                                                  0   \n",
       "1                                                  0   \n",
       "2                                                  0   \n",
       "3                                                  0   \n",
       "4                                                  0   \n",
       "\n",
       "[5 rows x 102 columns]"
      ]
     },
     "execution_count": 744,
     "metadata": {},
     "output_type": "execute_result"
    }
   ],
   "source": [
    "# Putting feature variable to X\n",
    "X = leadscore.drop(['Lead Number', 'Prospect ID','Converted'], axis=1)\n",
    "X.head()"
   ]
  },
  {
   "cell_type": "code",
   "execution_count": 745,
   "metadata": {
    "scrolled": true
   },
   "outputs": [
    {
     "data": {
      "text/plain": [
       "0    0\n",
       "1    0\n",
       "2    1\n",
       "3    0\n",
       "4    1\n",
       "Name: Converted, dtype: int64"
      ]
     },
     "execution_count": 745,
     "metadata": {},
     "output_type": "execute_result"
    }
   ],
   "source": [
    "# Putting response variable to y\n",
    "y = leadscore['Converted']\n",
    "y.head()"
   ]
  },
  {
   "cell_type": "code",
   "execution_count": 746,
   "metadata": {},
   "outputs": [],
   "source": [
    "# Splitting the data into train and test\n",
    "X_train, X_test, y_train, y_test = train_test_split(X, y, train_size=0.7, test_size=0.3, random_state=100)"
   ]
  },
  {
   "cell_type": "markdown",
   "metadata": {},
   "source": [
    "### Step 5: Feature Scaling"
   ]
  },
  {
   "cell_type": "code",
   "execution_count": 747,
   "metadata": {},
   "outputs": [],
   "source": [
    "from sklearn.preprocessing import StandardScaler"
   ]
  },
  {
   "cell_type": "code",
   "execution_count": 748,
   "metadata": {},
   "outputs": [
    {
     "data": {
      "text/plain": [
       "Index(['TotalVisits', 'Total Time Spent on Website', 'Page Views Per Visit'], dtype='object')"
      ]
     },
     "execution_count": 748,
     "metadata": {},
     "output_type": "execute_result"
    }
   ],
   "source": [
    "X_train.select_dtypes(include= ['int64','float64']).columns"
   ]
  },
  {
   "cell_type": "code",
   "execution_count": 749,
   "metadata": {},
   "outputs": [
    {
     "data": {
      "text/html": [
       "<div>\n",
       "<style scoped>\n",
       "    .dataframe tbody tr th:only-of-type {\n",
       "        vertical-align: middle;\n",
       "    }\n",
       "\n",
       "    .dataframe tbody tr th {\n",
       "        vertical-align: top;\n",
       "    }\n",
       "\n",
       "    .dataframe thead th {\n",
       "        text-align: right;\n",
       "    }\n",
       "</style>\n",
       "<table border=\"1\" class=\"dataframe\">\n",
       "  <thead>\n",
       "    <tr style=\"text-align: right;\">\n",
       "      <th></th>\n",
       "      <th>TotalVisits</th>\n",
       "      <th>Total Time Spent on Website</th>\n",
       "      <th>Page Views Per Visit</th>\n",
       "      <th>Country_Asia/Pacific Region</th>\n",
       "      <th>Country_Australia</th>\n",
       "      <th>Country_Bahrain</th>\n",
       "      <th>Country_Bangladesh</th>\n",
       "      <th>Country_Belgium</th>\n",
       "      <th>Country_Canada</th>\n",
       "      <th>Country_China</th>\n",
       "      <th>...</th>\n",
       "      <th>Last Notable Activity_Form Submitted on Website</th>\n",
       "      <th>Last Notable Activity_Had a Phone Conversation</th>\n",
       "      <th>Last Notable Activity_Modified</th>\n",
       "      <th>Last Notable Activity_Olark Chat Conversation</th>\n",
       "      <th>Last Notable Activity_Page Visited on Website</th>\n",
       "      <th>Last Notable Activity_Resubscribed to emails</th>\n",
       "      <th>Last Notable Activity_SMS Sent</th>\n",
       "      <th>Last Notable Activity_Unreachable</th>\n",
       "      <th>Last Notable Activity_Unsubscribed</th>\n",
       "      <th>Last Notable Activity_View in browser link Clicked</th>\n",
       "    </tr>\n",
       "  </thead>\n",
       "  <tbody>\n",
       "    <tr>\n",
       "      <th>1871</th>\n",
       "      <td>-0.645678</td>\n",
       "      <td>-0.885371</td>\n",
       "      <td>-1.062143</td>\n",
       "      <td>0</td>\n",
       "      <td>0</td>\n",
       "      <td>0</td>\n",
       "      <td>0</td>\n",
       "      <td>0</td>\n",
       "      <td>0</td>\n",
       "      <td>0</td>\n",
       "      <td>...</td>\n",
       "      <td>0</td>\n",
       "      <td>0</td>\n",
       "      <td>0</td>\n",
       "      <td>0</td>\n",
       "      <td>0</td>\n",
       "      <td>0</td>\n",
       "      <td>0</td>\n",
       "      <td>0</td>\n",
       "      <td>0</td>\n",
       "      <td>0</td>\n",
       "    </tr>\n",
       "    <tr>\n",
       "      <th>6795</th>\n",
       "      <td>0.109111</td>\n",
       "      <td>0.005716</td>\n",
       "      <td>-0.452487</td>\n",
       "      <td>0</td>\n",
       "      <td>0</td>\n",
       "      <td>0</td>\n",
       "      <td>0</td>\n",
       "      <td>0</td>\n",
       "      <td>0</td>\n",
       "      <td>0</td>\n",
       "      <td>...</td>\n",
       "      <td>0</td>\n",
       "      <td>0</td>\n",
       "      <td>0</td>\n",
       "      <td>0</td>\n",
       "      <td>0</td>\n",
       "      <td>0</td>\n",
       "      <td>0</td>\n",
       "      <td>0</td>\n",
       "      <td>0</td>\n",
       "      <td>0</td>\n",
       "    </tr>\n",
       "    <tr>\n",
       "      <th>3516</th>\n",
       "      <td>0.297808</td>\n",
       "      <td>-0.691418</td>\n",
       "      <td>0.083827</td>\n",
       "      <td>0</td>\n",
       "      <td>0</td>\n",
       "      <td>0</td>\n",
       "      <td>0</td>\n",
       "      <td>0</td>\n",
       "      <td>0</td>\n",
       "      <td>0</td>\n",
       "      <td>...</td>\n",
       "      <td>0</td>\n",
       "      <td>0</td>\n",
       "      <td>0</td>\n",
       "      <td>0</td>\n",
       "      <td>0</td>\n",
       "      <td>0</td>\n",
       "      <td>0</td>\n",
       "      <td>0</td>\n",
       "      <td>0</td>\n",
       "      <td>0</td>\n",
       "    </tr>\n",
       "    <tr>\n",
       "      <th>8105</th>\n",
       "      <td>0.297808</td>\n",
       "      <td>1.365219</td>\n",
       "      <td>1.229797</td>\n",
       "      <td>0</td>\n",
       "      <td>0</td>\n",
       "      <td>0</td>\n",
       "      <td>0</td>\n",
       "      <td>0</td>\n",
       "      <td>0</td>\n",
       "      <td>0</td>\n",
       "      <td>...</td>\n",
       "      <td>0</td>\n",
       "      <td>0</td>\n",
       "      <td>0</td>\n",
       "      <td>0</td>\n",
       "      <td>0</td>\n",
       "      <td>0</td>\n",
       "      <td>1</td>\n",
       "      <td>0</td>\n",
       "      <td>0</td>\n",
       "      <td>0</td>\n",
       "    </tr>\n",
       "    <tr>\n",
       "      <th>3934</th>\n",
       "      <td>-0.645678</td>\n",
       "      <td>-0.885371</td>\n",
       "      <td>-1.062143</td>\n",
       "      <td>0</td>\n",
       "      <td>0</td>\n",
       "      <td>0</td>\n",
       "      <td>0</td>\n",
       "      <td>0</td>\n",
       "      <td>0</td>\n",
       "      <td>0</td>\n",
       "      <td>...</td>\n",
       "      <td>0</td>\n",
       "      <td>0</td>\n",
       "      <td>1</td>\n",
       "      <td>0</td>\n",
       "      <td>0</td>\n",
       "      <td>0</td>\n",
       "      <td>0</td>\n",
       "      <td>0</td>\n",
       "      <td>0</td>\n",
       "      <td>0</td>\n",
       "    </tr>\n",
       "  </tbody>\n",
       "</table>\n",
       "<p>5 rows × 102 columns</p>\n",
       "</div>"
      ],
      "text/plain": [
       "      TotalVisits  Total Time Spent on Website  Page Views Per Visit  \\\n",
       "1871    -0.645678                    -0.885371             -1.062143   \n",
       "6795     0.109111                     0.005716             -0.452487   \n",
       "3516     0.297808                    -0.691418              0.083827   \n",
       "8105     0.297808                     1.365219              1.229797   \n",
       "3934    -0.645678                    -0.885371             -1.062143   \n",
       "\n",
       "      Country_Asia/Pacific Region  Country_Australia  Country_Bahrain  \\\n",
       "1871                            0                  0                0   \n",
       "6795                            0                  0                0   \n",
       "3516                            0                  0                0   \n",
       "8105                            0                  0                0   \n",
       "3934                            0                  0                0   \n",
       "\n",
       "      Country_Bangladesh  Country_Belgium  Country_Canada  Country_China  ...  \\\n",
       "1871                   0                0               0              0  ...   \n",
       "6795                   0                0               0              0  ...   \n",
       "3516                   0                0               0              0  ...   \n",
       "8105                   0                0               0              0  ...   \n",
       "3934                   0                0               0              0  ...   \n",
       "\n",
       "      Last Notable Activity_Form Submitted on Website  \\\n",
       "1871                                                0   \n",
       "6795                                                0   \n",
       "3516                                                0   \n",
       "8105                                                0   \n",
       "3934                                                0   \n",
       "\n",
       "      Last Notable Activity_Had a Phone Conversation  \\\n",
       "1871                                               0   \n",
       "6795                                               0   \n",
       "3516                                               0   \n",
       "8105                                               0   \n",
       "3934                                               0   \n",
       "\n",
       "      Last Notable Activity_Modified  \\\n",
       "1871                               0   \n",
       "6795                               0   \n",
       "3516                               0   \n",
       "8105                               0   \n",
       "3934                               1   \n",
       "\n",
       "      Last Notable Activity_Olark Chat Conversation  \\\n",
       "1871                                              0   \n",
       "6795                                              0   \n",
       "3516                                              0   \n",
       "8105                                              0   \n",
       "3934                                              0   \n",
       "\n",
       "      Last Notable Activity_Page Visited on Website  \\\n",
       "1871                                              0   \n",
       "6795                                              0   \n",
       "3516                                              0   \n",
       "8105                                              0   \n",
       "3934                                              0   \n",
       "\n",
       "      Last Notable Activity_Resubscribed to emails  \\\n",
       "1871                                             0   \n",
       "6795                                             0   \n",
       "3516                                             0   \n",
       "8105                                             0   \n",
       "3934                                             0   \n",
       "\n",
       "      Last Notable Activity_SMS Sent  Last Notable Activity_Unreachable  \\\n",
       "1871                               0                                  0   \n",
       "6795                               0                                  0   \n",
       "3516                               0                                  0   \n",
       "8105                               1                                  0   \n",
       "3934                               0                                  0   \n",
       "\n",
       "      Last Notable Activity_Unsubscribed  \\\n",
       "1871                                   0   \n",
       "6795                                   0   \n",
       "3516                                   0   \n",
       "8105                                   0   \n",
       "3934                                   0   \n",
       "\n",
       "      Last Notable Activity_View in browser link Clicked  \n",
       "1871                                                  0   \n",
       "6795                                                  0   \n",
       "3516                                                  0   \n",
       "8105                                                  0   \n",
       "3934                                                  0   \n",
       "\n",
       "[5 rows x 102 columns]"
      ]
     },
     "execution_count": 749,
     "metadata": {},
     "output_type": "execute_result"
    }
   ],
   "source": [
    "scaler = StandardScaler()\n",
    "\n",
    "X_train[['TotalVisits', 'Total Time Spent on Website', 'Page Views Per Visit']] = scaler.fit_transform(X_train[['TotalVisits', 'Total Time Spent on Website', 'Page Views Per Visit']])\n",
    "\n",
    "X_train.head()"
   ]
  },
  {
   "cell_type": "code",
   "execution_count": 750,
   "metadata": {},
   "outputs": [
    {
     "data": {
      "text/plain": [
       "38.53896103896104"
      ]
     },
     "execution_count": 750,
     "metadata": {},
     "output_type": "execute_result"
    }
   ],
   "source": [
    "### Checking the Conversion Rate\n",
    "converted = (sum(leadscore['Converted'])/len(leadscore['Converted'].index))*100\n",
    "converted"
   ]
  },
  {
   "cell_type": "markdown",
   "metadata": {},
   "source": [
    "We have almost 38% conversion rate"
   ]
  },
  {
   "cell_type": "code",
   "execution_count": 751,
   "metadata": {
    "scrolled": true
   },
   "outputs": [
    {
     "data": {
      "text/html": [
       "<table class=\"simpletable\">\n",
       "<caption>Generalized Linear Model Regression Results</caption>\n",
       "<tr>\n",
       "  <th>Dep. Variable:</th>      <td>Converted</td>    <th>  No. Observations:  </th>  <td>  6468</td>  \n",
       "</tr>\n",
       "<tr>\n",
       "  <th>Model:</th>                 <td>GLM</td>       <th>  Df Residuals:      </th>  <td>  6375</td>  \n",
       "</tr>\n",
       "<tr>\n",
       "  <th>Model Family:</th>       <td>Binomial</td>     <th>  Df Model:          </th>  <td>    92</td>  \n",
       "</tr>\n",
       "<tr>\n",
       "  <th>Link Function:</th>        <td>logit</td>      <th>  Scale:             </th> <td>  1.0000</td> \n",
       "</tr>\n",
       "<tr>\n",
       "  <th>Method:</th>               <td>IRLS</td>       <th>  Log-Likelihood:    </th> <td>     nan</td> \n",
       "</tr>\n",
       "<tr>\n",
       "  <th>Date:</th>           <td>Mon, 10 Jun 2019</td> <th>  Deviance:          </th> <td>     nan</td> \n",
       "</tr>\n",
       "<tr>\n",
       "  <th>Time:</th>               <td>19:03:09</td>     <th>  Pearson chi2:      </th> <td>7.19e+18</td> \n",
       "</tr>\n",
       "<tr>\n",
       "  <th>No. Iterations:</th>        <td>100</td>       <th>  Covariance Type:   </th> <td>nonrobust</td>\n",
       "</tr>\n",
       "</table>\n",
       "<table class=\"simpletable\">\n",
       "<tr>\n",
       "                                     <td></td>                                        <th>coef</th>     <th>std err</th>      <th>z</th>      <th>P>|z|</th>  <th>[0.025</th>    <th>0.975]</th>  \n",
       "</tr>\n",
       "<tr>\n",
       "  <th>const</th>                                                                   <td> 1.509e+15</td> <td> 6.38e+07</td> <td> 2.36e+07</td> <td> 0.000</td> <td> 1.51e+15</td> <td> 1.51e+15</td>\n",
       "</tr>\n",
       "<tr>\n",
       "  <th>TotalVisits</th>                                                             <td> 2.927e+13</td> <td> 9.96e+05</td> <td> 2.94e+07</td> <td> 0.000</td> <td> 2.93e+13</td> <td> 2.93e+13</td>\n",
       "</tr>\n",
       "<tr>\n",
       "  <th>Total Time Spent on Website</th>                                             <td> 6.336e+14</td> <td>  9.7e+05</td> <td> 6.53e+08</td> <td> 0.000</td> <td> 6.34e+14</td> <td> 6.34e+14</td>\n",
       "</tr>\n",
       "<tr>\n",
       "  <th>Page Views Per Visit</th>                                                    <td> -2.34e+14</td> <td> 1.21e+06</td> <td>-1.93e+08</td> <td> 0.000</td> <td>-2.34e+14</td> <td>-2.34e+14</td>\n",
       "</tr>\n",
       "<tr>\n",
       "  <th>Country_Asia/Pacific Region</th>                                             <td> 9.205e+14</td> <td> 4.79e+07</td> <td> 1.92e+07</td> <td> 0.000</td> <td>  9.2e+14</td> <td>  9.2e+14</td>\n",
       "</tr>\n",
       "<tr>\n",
       "  <th>Country_Australia</th>                                                       <td>-1.538e+14</td> <td> 2.32e+07</td> <td>-6.62e+06</td> <td> 0.000</td> <td>-1.54e+14</td> <td>-1.54e+14</td>\n",
       "</tr>\n",
       "<tr>\n",
       "  <th>Country_Bahrain</th>                                                         <td>-9.307e+14</td> <td> 2.81e+07</td> <td>-3.31e+07</td> <td> 0.000</td> <td>-9.31e+14</td> <td>-9.31e+14</td>\n",
       "</tr>\n",
       "<tr>\n",
       "  <th>Country_Bangladesh</th>                                                      <td> 3.384e+15</td> <td> 6.75e+07</td> <td> 5.01e+07</td> <td> 0.000</td> <td> 3.38e+15</td> <td> 3.38e+15</td>\n",
       "</tr>\n",
       "<tr>\n",
       "  <th>Country_Belgium</th>                                                         <td>-4.217e+15</td> <td> 6.74e+07</td> <td>-6.26e+07</td> <td> 0.000</td> <td>-4.22e+15</td> <td>-4.22e+15</td>\n",
       "</tr>\n",
       "<tr>\n",
       "  <th>Country_Canada</th>                                                          <td>-2.812e+15</td> <td> 3.92e+07</td> <td>-7.17e+07</td> <td> 0.000</td> <td>-2.81e+15</td> <td>-2.81e+15</td>\n",
       "</tr>\n",
       "<tr>\n",
       "  <th>Country_China</th>                                                           <td>-3.881e+15</td> <td> 4.78e+07</td> <td>-8.11e+07</td> <td> 0.000</td> <td>-3.88e+15</td> <td>-3.88e+15</td>\n",
       "</tr>\n",
       "<tr>\n",
       "  <th>Country_Denmark</th>                                                         <td> 3.847e+15</td> <td> 6.75e+07</td> <td>  5.7e+07</td> <td> 0.000</td> <td> 3.85e+15</td> <td> 3.85e+15</td>\n",
       "</tr>\n",
       "<tr>\n",
       "  <th>Country_France</th>                                                          <td> 5.632e+14</td> <td> 3.07e+07</td> <td> 1.84e+07</td> <td> 0.000</td> <td> 5.63e+14</td> <td> 5.63e+14</td>\n",
       "</tr>\n",
       "<tr>\n",
       "  <th>Country_Germany</th>                                                         <td>-1.006e+15</td> <td> 3.94e+07</td> <td>-2.55e+07</td> <td> 0.000</td> <td>-1.01e+15</td> <td>-1.01e+15</td>\n",
       "</tr>\n",
       "<tr>\n",
       "  <th>Country_Ghana</th>                                                           <td>-2.004e+15</td> <td> 4.79e+07</td> <td>-4.19e+07</td> <td> 0.000</td> <td>   -2e+15</td> <td>   -2e+15</td>\n",
       "</tr>\n",
       "<tr>\n",
       "  <th>Country_Hong Kong</th>                                                       <td>-8.455e+14</td> <td> 2.81e+07</td> <td>-3.01e+07</td> <td> 0.000</td> <td>-8.45e+14</td> <td>-8.45e+14</td>\n",
       "</tr>\n",
       "<tr>\n",
       "  <th>Country_India</th>                                                           <td> 1.427e+14</td> <td> 5.94e+06</td> <td>  2.4e+07</td> <td> 0.000</td> <td> 1.43e+14</td> <td> 1.43e+14</td>\n",
       "</tr>\n",
       "<tr>\n",
       "  <th>Country_Indonesia</th>                                                       <td> -3.59e+15</td> <td> 6.74e+07</td> <td>-5.32e+07</td> <td> 0.000</td> <td>-3.59e+15</td> <td>-3.59e+15</td>\n",
       "</tr>\n",
       "<tr>\n",
       "  <th>Country_Italy</th>                                                           <td>    3.5559</td> <td> 2.71e-07</td> <td> 1.31e+07</td> <td> 0.000</td> <td>    3.556</td> <td>    3.556</td>\n",
       "</tr>\n",
       "<tr>\n",
       "  <th>Country_Kenya</th>                                                           <td>-4.118e+15</td> <td> 6.74e+07</td> <td>-6.11e+07</td> <td> 0.000</td> <td>-4.12e+15</td> <td>-4.12e+15</td>\n",
       "</tr>\n",
       "<tr>\n",
       "  <th>Country_Kuwait</th>                                                          <td> -3.75e+15</td> <td> 4.79e+07</td> <td>-7.84e+07</td> <td> 0.000</td> <td>-3.75e+15</td> <td>-3.75e+15</td>\n",
       "</tr>\n",
       "<tr>\n",
       "  <th>Country_Liberia</th>                                                         <td>    9.8143</td> <td> 1.78e-07</td> <td> 5.52e+07</td> <td> 0.000</td> <td>    9.814</td> <td>    9.814</td>\n",
       "</tr>\n",
       "<tr>\n",
       "  <th>Country_Malaysia</th>                                                        <td>-3.762e+15</td> <td> 6.79e+07</td> <td>-5.54e+07</td> <td> 0.000</td> <td>-3.76e+15</td> <td>-3.76e+15</td>\n",
       "</tr>\n",
       "<tr>\n",
       "  <th>Country_Netherlands</th>                                                     <td>-8.679e+14</td> <td> 4.79e+07</td> <td>-1.81e+07</td> <td> 0.000</td> <td>-8.68e+14</td> <td>-8.68e+14</td>\n",
       "</tr>\n",
       "<tr>\n",
       "  <th>Country_Nigeria</th>                                                         <td>-2.618e+15</td> <td> 3.92e+07</td> <td>-6.67e+07</td> <td> 0.000</td> <td>-2.62e+15</td> <td>-2.62e+15</td>\n",
       "</tr>\n",
       "<tr>\n",
       "  <th>Country_Oman</th>                                                            <td> 2.085e+15</td> <td> 4.76e+07</td> <td> 4.38e+07</td> <td> 0.000</td> <td> 2.09e+15</td> <td> 2.09e+15</td>\n",
       "</tr>\n",
       "<tr>\n",
       "  <th>Country_Philippines</th>                                                     <td> -4.36e+15</td> <td> 4.79e+07</td> <td>-9.11e+07</td> <td> 0.000</td> <td>-4.36e+15</td> <td>-4.36e+15</td>\n",
       "</tr>\n",
       "<tr>\n",
       "  <th>Country_Qatar</th>                                                           <td>-4.599e+15</td> <td> 2.45e+07</td> <td>-1.88e+08</td> <td> 0.000</td> <td> -4.6e+15</td> <td> -4.6e+15</td>\n",
       "</tr>\n",
       "<tr>\n",
       "  <th>Country_Russia</th>                                                          <td>-4.174e+15</td> <td> 6.82e+07</td> <td>-6.12e+07</td> <td> 0.000</td> <td>-4.17e+15</td> <td>-4.17e+15</td>\n",
       "</tr>\n",
       "<tr>\n",
       "  <th>Country_Saudi Arabia</th>                                                    <td>-8.025e+14</td> <td>  1.8e+07</td> <td>-4.46e+07</td> <td> 0.000</td> <td>-8.02e+14</td> <td>-8.02e+14</td>\n",
       "</tr>\n",
       "<tr>\n",
       "  <th>Country_Singapore</th>                                                       <td> 6.151e+14</td> <td> 1.78e+07</td> <td> 3.45e+07</td> <td> 0.000</td> <td> 6.15e+14</td> <td> 6.15e+14</td>\n",
       "</tr>\n",
       "<tr>\n",
       "  <th>Country_South Africa</th>                                                    <td> 9.937e+13</td> <td> 3.41e+07</td> <td> 2.91e+06</td> <td> 0.000</td> <td> 9.94e+13</td> <td> 9.94e+13</td>\n",
       "</tr>\n",
       "<tr>\n",
       "  <th>Country_Sri Lanka</th>                                                       <td>  -14.7291</td> <td> 2.48e-07</td> <td>-5.93e+07</td> <td> 0.000</td> <td>  -14.729</td> <td>  -14.729</td>\n",
       "</tr>\n",
       "<tr>\n",
       "  <th>Country_Sweden</th>                                                          <td>-3.512e+15</td> <td> 4.79e+07</td> <td>-7.33e+07</td> <td> 0.000</td> <td>-3.51e+15</td> <td>-3.51e+15</td>\n",
       "</tr>\n",
       "<tr>\n",
       "  <th>Country_Switzerland</th>                                                     <td>   -6.5993</td> <td> 1.04e-07</td> <td>-6.32e+07</td> <td> 0.000</td> <td>   -6.599</td> <td>   -6.599</td>\n",
       "</tr>\n",
       "<tr>\n",
       "  <th>Country_Tanzania</th>                                                        <td>   -3.4974</td> <td> 8.59e-08</td> <td>-4.07e+07</td> <td> 0.000</td> <td>   -3.497</td> <td>   -3.497</td>\n",
       "</tr>\n",
       "<tr>\n",
       "  <th>Country_Uganda</th>                                                          <td>-3.964e+15</td> <td> 4.79e+07</td> <td>-8.28e+07</td> <td> 0.000</td> <td>-3.96e+15</td> <td>-3.96e+15</td>\n",
       "</tr>\n",
       "<tr>\n",
       "  <th>Country_United Arab Emirates</th>                                            <td> -8.19e+14</td> <td> 1.23e+07</td> <td>-6.64e+07</td> <td> 0.000</td> <td>-8.19e+14</td> <td>-8.19e+14</td>\n",
       "</tr>\n",
       "<tr>\n",
       "  <th>Country_United Kingdom</th>                                                  <td>-6.814e+14</td> <td> 2.45e+07</td> <td>-2.78e+07</td> <td> 0.000</td> <td>-6.81e+14</td> <td>-6.81e+14</td>\n",
       "</tr>\n",
       "<tr>\n",
       "  <th>Country_United States</th>                                                   <td>-4.829e+14</td> <td> 1.16e+07</td> <td>-4.18e+07</td> <td> 0.000</td> <td>-4.83e+14</td> <td>-4.83e+14</td>\n",
       "</tr>\n",
       "<tr>\n",
       "  <th>Country_Vietnam</th>                                                         <td>-4.139e+15</td> <td> 6.74e+07</td> <td>-6.14e+07</td> <td> 0.000</td> <td>-4.14e+15</td> <td>-4.14e+15</td>\n",
       "</tr>\n",
       "<tr>\n",
       "  <th>What is your current occupation_Businessman</th>                             <td>-1.159e+15</td> <td> 3.02e+07</td> <td>-3.84e+07</td> <td> 0.000</td> <td>-1.16e+15</td> <td>-1.16e+15</td>\n",
       "</tr>\n",
       "<tr>\n",
       "  <th>What is your current occupation_Housewife</th>                               <td> 2.213e+15</td> <td> 2.69e+07</td> <td> 8.21e+07</td> <td> 0.000</td> <td> 2.21e+15</td> <td> 2.21e+15</td>\n",
       "</tr>\n",
       "<tr>\n",
       "  <th>What is your current occupation_Student</th>                                 <td>-7.252e+14</td> <td>  1.5e+07</td> <td>-4.82e+07</td> <td> 0.000</td> <td>-7.25e+14</td> <td>-7.25e+14</td>\n",
       "</tr>\n",
       "<tr>\n",
       "  <th>What is your current occupation_Unemployed</th>                              <td>-4.655e+14</td> <td> 1.49e+07</td> <td>-3.13e+07</td> <td> 0.000</td> <td>-4.65e+14</td> <td>-4.65e+14</td>\n",
       "</tr>\n",
       "<tr>\n",
       "  <th>What is your current occupation_Working Professional</th>                    <td> 1.507e+13</td> <td> 1.51e+07</td> <td> 9.97e+05</td> <td> 0.000</td> <td> 1.51e+13</td> <td> 1.51e+13</td>\n",
       "</tr>\n",
       "<tr>\n",
       "  <th>What matters most to you in choosing a course_Better Career Prospects</th>   <td> 8.684e+14</td> <td> 1.48e+07</td> <td> 5.86e+07</td> <td> 0.000</td> <td> 8.68e+14</td> <td> 8.68e+14</td>\n",
       "</tr>\n",
       "<tr>\n",
       "  <th>What matters most to you in choosing a course_Flexibility & Convenience</th> <td> 1.728e+15</td> <td> 4.99e+07</td> <td> 3.46e+07</td> <td> 0.000</td> <td> 1.73e+15</td> <td> 1.73e+15</td>\n",
       "</tr>\n",
       "<tr>\n",
       "  <th>Lead Source_Click2call</th>                                                  <td>-8.379e+14</td> <td>  4.1e+07</td> <td>-2.04e+07</td> <td> 0.000</td> <td>-8.38e+14</td> <td>-8.38e+14</td>\n",
       "</tr>\n",
       "<tr>\n",
       "  <th>Lead Source_Direct Traffic</th>                                              <td>-1.238e+15</td> <td> 3.31e+07</td> <td>-3.74e+07</td> <td> 0.000</td> <td>-1.24e+15</td> <td>-1.24e+15</td>\n",
       "</tr>\n",
       "<tr>\n",
       "  <th>Lead Source_Facebook</th>                                                    <td> 2.199e+14</td> <td> 5.13e+07</td> <td> 4.28e+06</td> <td> 0.000</td> <td>  2.2e+14</td> <td>  2.2e+14</td>\n",
       "</tr>\n",
       "<tr>\n",
       "  <th>Lead Source_Google</th>                                                      <td>-1.299e+15</td> <td> 3.31e+07</td> <td>-3.92e+07</td> <td> 0.000</td> <td> -1.3e+15</td> <td> -1.3e+15</td>\n",
       "</tr>\n",
       "<tr>\n",
       "  <th>Lead Source_Live Chat</th>                                                   <td> 3.923e+15</td> <td> 4.93e+07</td> <td> 7.96e+07</td> <td> 0.000</td> <td> 3.92e+15</td> <td> 3.92e+15</td>\n",
       "</tr>\n",
       "<tr>\n",
       "  <th>Lead Source_NC_EDM</th>                                                      <td> 2.838e+15</td> <td> 7.49e+07</td> <td> 3.79e+07</td> <td> 0.000</td> <td> 2.84e+15</td> <td> 2.84e+15</td>\n",
       "</tr>\n",
       "<tr>\n",
       "  <th>Lead Source_Olark Chat</th>                                                  <td>-2.051e+15</td> <td> 3.31e+07</td> <td>-6.19e+07</td> <td> 0.000</td> <td>-2.05e+15</td> <td>-2.05e+15</td>\n",
       "</tr>\n",
       "<tr>\n",
       "  <th>Lead Source_Organic Search</th>                                              <td>-6.819e+14</td> <td> 3.32e+07</td> <td>-2.06e+07</td> <td> 0.000</td> <td>-6.82e+14</td> <td>-6.82e+14</td>\n",
       "</tr>\n",
       "<tr>\n",
       "  <th>Lead Source_Pay per Click Ads</th>                                           <td>-5.319e+15</td> <td> 7.48e+07</td> <td>-7.11e+07</td> <td> 0.000</td> <td>-5.32e+15</td> <td>-5.32e+15</td>\n",
       "</tr>\n",
       "<tr>\n",
       "  <th>Lead Source_Press_Release</th>                                               <td>-4.816e+15</td> <td> 5.82e+07</td> <td>-8.28e+07</td> <td> 0.000</td> <td>-4.82e+15</td> <td>-4.82e+15</td>\n",
       "</tr>\n",
       "<tr>\n",
       "  <th>Lead Source_Reference</th>                                                   <td>-1.858e+14</td> <td> 1.37e+07</td> <td>-1.36e+07</td> <td> 0.000</td> <td>-1.86e+14</td> <td>-1.86e+14</td>\n",
       "</tr>\n",
       "<tr>\n",
       "  <th>Lead Source_Referral Sites</th>                                              <td>-1.112e+15</td> <td> 3.38e+07</td> <td>-3.29e+07</td> <td> 0.000</td> <td>-1.11e+15</td> <td>-1.11e+15</td>\n",
       "</tr>\n",
       "<tr>\n",
       "  <th>Lead Source_Social Media</th>                                                <td> 5.746e+14</td> <td> 5.79e+07</td> <td> 9.92e+06</td> <td> 0.000</td> <td> 5.75e+14</td> <td> 5.75e+14</td>\n",
       "</tr>\n",
       "<tr>\n",
       "  <th>Lead Source_Welingak Website</th>                                            <td> 3.491e+14</td> <td>  1.5e+07</td> <td> 2.33e+07</td> <td> 0.000</td> <td> 3.49e+14</td> <td> 3.49e+14</td>\n",
       "</tr>\n",
       "<tr>\n",
       "  <th>Lead Source_bing</th>                                                        <td>-2.073e+15</td> <td>  5.1e+07</td> <td>-4.07e+07</td> <td> 0.000</td> <td>-2.07e+15</td> <td>-2.07e+15</td>\n",
       "</tr>\n",
       "<tr>\n",
       "  <th>Lead Source_blog</th>                                                        <td>-5.421e+15</td> <td> 7.49e+07</td> <td>-7.24e+07</td> <td> 0.000</td> <td>-5.42e+15</td> <td>-5.42e+15</td>\n",
       "</tr>\n",
       "<tr>\n",
       "  <th>Lead Source_google</th>                                                      <td>-4.068e+15</td> <td> 4.49e+07</td> <td>-9.06e+07</td> <td> 0.000</td> <td>-4.07e+15</td> <td>-4.07e+15</td>\n",
       "</tr>\n",
       "<tr>\n",
       "  <th>Lead Source_testone</th>                                                     <td>    1.6813</td> <td> 4.05e-08</td> <td> 4.15e+07</td> <td> 0.000</td> <td>    1.681</td> <td>    1.681</td>\n",
       "</tr>\n",
       "<tr>\n",
       "  <th>Lead Source_welearnblog_Home</th>                                            <td>-5.315e+15</td> <td> 7.49e+07</td> <td> -7.1e+07</td> <td> 0.000</td> <td>-5.31e+15</td> <td>-5.31e+15</td>\n",
       "</tr>\n",
       "<tr>\n",
       "  <th>Lead Source_youtubechannel</th>                                              <td>-2.887e+15</td> <td> 8.51e+07</td> <td>-3.39e+07</td> <td> 0.000</td> <td>-2.89e+15</td> <td>-2.89e+15</td>\n",
       "</tr>\n",
       "<tr>\n",
       "  <th>Last Activity_Approached upfront</th>                                        <td> 5.041e+15</td> <td> 2.86e+07</td> <td> 1.76e+08</td> <td> 0.000</td> <td> 5.04e+15</td> <td> 5.04e+15</td>\n",
       "</tr>\n",
       "<tr>\n",
       "  <th>Last Activity_Converted to Lead</th>                                         <td> 8.961e+14</td> <td> 9.58e+06</td> <td> 9.35e+07</td> <td> 0.000</td> <td> 8.96e+14</td> <td> 8.96e+14</td>\n",
       "</tr>\n",
       "<tr>\n",
       "  <th>Last Activity_Email Bounced</th>                                             <td> 4.499e+14</td> <td> 9.92e+06</td> <td> 4.53e+07</td> <td> 0.000</td> <td>  4.5e+14</td> <td>  4.5e+14</td>\n",
       "</tr>\n",
       "<tr>\n",
       "  <th>Last Activity_Email Link Clicked</th>                                        <td> 1.637e+15</td> <td>  1.2e+07</td> <td> 1.36e+08</td> <td> 0.000</td> <td> 1.64e+15</td> <td> 1.64e+15</td>\n",
       "</tr>\n",
       "<tr>\n",
       "  <th>Last Activity_Email Marked Spam</th>                                         <td> 2.336e+15</td> <td>  3.4e+07</td> <td> 6.87e+07</td> <td> 0.000</td> <td> 2.34e+15</td> <td> 2.34e+15</td>\n",
       "</tr>\n",
       "<tr>\n",
       "  <th>Last Activity_Email Opened</th>                                              <td> 1.375e+15</td> <td> 9.18e+06</td> <td>  1.5e+08</td> <td> 0.000</td> <td> 1.37e+15</td> <td> 1.37e+15</td>\n",
       "</tr>\n",
       "<tr>\n",
       "  <th>Last Activity_Email Received</th>                                            <td> 4.429e+15</td> <td> 6.77e+07</td> <td> 6.54e+07</td> <td> 0.000</td> <td> 4.43e+15</td> <td> 4.43e+15</td>\n",
       "</tr>\n",
       "<tr>\n",
       "  <th>Last Activity_Form Submitted on Website</th>                                 <td>  1.36e+15</td> <td> 1.15e+07</td> <td> 1.18e+08</td> <td> 0.000</td> <td> 1.36e+15</td> <td> 1.36e+15</td>\n",
       "</tr>\n",
       "<tr>\n",
       "  <th>Last Activity_Had a Phone Conversation</th>                                  <td>  1.42e+15</td> <td> 2.19e+07</td> <td> 6.48e+07</td> <td> 0.000</td> <td> 1.42e+15</td> <td> 1.42e+15</td>\n",
       "</tr>\n",
       "<tr>\n",
       "  <th>Last Activity_Olark Chat Conversation</th>                                   <td> 1.968e+15</td> <td> 9.27e+06</td> <td> 2.12e+08</td> <td> 0.000</td> <td> 1.97e+15</td> <td> 1.97e+15</td>\n",
       "</tr>\n",
       "<tr>\n",
       "  <th>Last Activity_Page Visited on Website</th>                                   <td> 1.133e+15</td> <td> 9.76e+06</td> <td> 1.16e+08</td> <td> 0.000</td> <td> 1.13e+15</td> <td> 1.13e+15</td>\n",
       "</tr>\n",
       "<tr>\n",
       "  <th>Last Activity_Resubscribed to emails</th>                                    <td> 3.744e+15</td> <td>  3.3e+07</td> <td> 1.13e+08</td> <td> 0.000</td> <td> 3.74e+15</td> <td> 3.74e+15</td>\n",
       "</tr>\n",
       "<tr>\n",
       "  <th>Last Activity_SMS Sent</th>                                                  <td> 1.507e+15</td> <td> 9.12e+06</td> <td> 1.65e+08</td> <td> 0.000</td> <td> 1.51e+15</td> <td> 1.51e+15</td>\n",
       "</tr>\n",
       "<tr>\n",
       "  <th>Last Activity_Unreachable</th>                                               <td> 9.864e+14</td> <td> 1.42e+07</td> <td> 6.97e+07</td> <td> 0.000</td> <td> 9.86e+14</td> <td> 9.86e+14</td>\n",
       "</tr>\n",
       "<tr>\n",
       "  <th>Last Activity_Unsubscribed</th>                                              <td> 7.636e+14</td> <td> 2.53e+07</td> <td> 3.02e+07</td> <td> 0.000</td> <td> 7.64e+14</td> <td> 7.64e+14</td>\n",
       "</tr>\n",
       "<tr>\n",
       "  <th>Last Activity_View in browser link Clicked</th>                              <td> 2.359e+15</td> <td> 3.14e+07</td> <td>  7.5e+07</td> <td> 0.000</td> <td> 2.36e+15</td> <td> 2.36e+15</td>\n",
       "</tr>\n",
       "<tr>\n",
       "  <th>Lead Origin_API</th>                                                         <td>-2.077e+15</td> <td> 7.51e+07</td> <td>-2.77e+07</td> <td> 0.000</td> <td>-2.08e+15</td> <td>-2.08e+15</td>\n",
       "</tr>\n",
       "<tr>\n",
       "  <th>Lead Origin_Landing Page Submission</th>                                     <td>-1.735e+15</td> <td> 7.51e+07</td> <td>-2.31e+07</td> <td> 0.000</td> <td>-1.73e+15</td> <td>-1.73e+15</td>\n",
       "</tr>\n",
       "<tr>\n",
       "  <th>Lead Origin_Lead Add Form</th>                                               <td>-2.078e+15</td> <td> 6.86e+07</td> <td>-3.03e+07</td> <td> 0.000</td> <td>-2.08e+15</td> <td>-2.08e+15</td>\n",
       "</tr>\n",
       "<tr>\n",
       "  <th>Lead Origin_Lead Import</th>                                                 <td>-2.759e+15</td> <td> 8.46e+07</td> <td>-3.26e+07</td> <td> 0.000</td> <td>-2.76e+15</td> <td>-2.76e+15</td>\n",
       "</tr>\n",
       "<tr>\n",
       "  <th>Last Notable Activity_Email Bounced</th>                                     <td> 2.423e+14</td> <td> 1.55e+07</td> <td> 1.56e+07</td> <td> 0.000</td> <td> 2.42e+14</td> <td> 2.42e+14</td>\n",
       "</tr>\n",
       "<tr>\n",
       "  <th>Last Notable Activity_Email Link Clicked</th>                                <td>-4.303e+14</td> <td> 1.45e+07</td> <td>-2.97e+07</td> <td> 0.000</td> <td> -4.3e+14</td> <td> -4.3e+14</td>\n",
       "</tr>\n",
       "<tr>\n",
       "  <th>Last Notable Activity_Email Marked Spam</th>                                 <td> 2.336e+15</td> <td>  3.4e+07</td> <td> 6.87e+07</td> <td> 0.000</td> <td> 2.34e+15</td> <td> 2.34e+15</td>\n",
       "</tr>\n",
       "<tr>\n",
       "  <th>Last Notable Activity_Email Opened</th>                                      <td>-2.365e+14</td> <td> 1.13e+07</td> <td>-2.09e+07</td> <td> 0.000</td> <td>-2.36e+14</td> <td>-2.36e+14</td>\n",
       "</tr>\n",
       "<tr>\n",
       "  <th>Last Notable Activity_Email Received</th>                                    <td>  2.29e+14</td> <td> 8.85e+07</td> <td> 2.59e+06</td> <td> 0.000</td> <td> 2.29e+14</td> <td> 2.29e+14</td>\n",
       "</tr>\n",
       "<tr>\n",
       "  <th>Last Notable Activity_Form Submitted on Website</th>                         <td>-4.239e+15</td> <td> 6.35e+07</td> <td>-6.68e+07</td> <td> 0.000</td> <td>-4.24e+15</td> <td>-4.24e+15</td>\n",
       "</tr>\n",
       "<tr>\n",
       "  <th>Last Notable Activity_Had a Phone Conversation</th>                          <td> 6.929e+14</td> <td> 2.87e+07</td> <td> 2.42e+07</td> <td> 0.000</td> <td> 6.93e+14</td> <td> 6.93e+14</td>\n",
       "</tr>\n",
       "<tr>\n",
       "  <th>Last Notable Activity_Modified</th>                                          <td>-3.347e+14</td> <td> 1.08e+07</td> <td>-3.09e+07</td> <td> 0.000</td> <td>-3.35e+14</td> <td>-3.35e+14</td>\n",
       "</tr>\n",
       "<tr>\n",
       "  <th>Last Notable Activity_Olark Chat Conversation</th>                           <td>-3.754e+13</td> <td> 1.25e+07</td> <td>   -3e+06</td> <td> 0.000</td> <td>-3.75e+13</td> <td>-3.75e+13</td>\n",
       "</tr>\n",
       "<tr>\n",
       "  <th>Last Notable Activity_Page Visited on Website</th>                           <td>-1.391e+14</td> <td> 1.23e+07</td> <td>-1.13e+07</td> <td> 0.000</td> <td>-1.39e+14</td> <td>-1.39e+14</td>\n",
       "</tr>\n",
       "<tr>\n",
       "  <th>Last Notable Activity_Resubscribed to emails</th>                            <td> 3.744e+15</td> <td>  3.3e+07</td> <td> 1.13e+08</td> <td> 0.000</td> <td> 3.74e+15</td> <td> 3.74e+15</td>\n",
       "</tr>\n",
       "<tr>\n",
       "  <th>Last Notable Activity_SMS Sent</th>                                          <td> -4.47e+14</td> <td> 1.14e+07</td> <td>-3.92e+07</td> <td> 0.000</td> <td>-4.47e+14</td> <td>-4.47e+14</td>\n",
       "</tr>\n",
       "<tr>\n",
       "  <th>Last Notable Activity_Unreachable</th>                                       <td>-3.964e+14</td> <td> 2.03e+07</td> <td>-1.96e+07</td> <td> 0.000</td> <td>-3.96e+14</td> <td>-3.96e+14</td>\n",
       "</tr>\n",
       "<tr>\n",
       "  <th>Last Notable Activity_Unsubscribed</th>                                      <td>  5.25e+14</td> <td> 2.71e+07</td> <td> 1.94e+07</td> <td> 0.000</td> <td> 5.25e+14</td> <td> 5.25e+14</td>\n",
       "</tr>\n",
       "<tr>\n",
       "  <th>Last Notable Activity_View in browser link Clicked</th>                      <td>         0</td> <td>        0</td> <td>      nan</td> <td>   nan</td> <td>        0</td> <td>        0</td>\n",
       "</tr>\n",
       "</table>"
      ],
      "text/plain": [
       "<class 'statsmodels.iolib.summary.Summary'>\n",
       "\"\"\"\n",
       "                 Generalized Linear Model Regression Results                  \n",
       "==============================================================================\n",
       "Dep. Variable:              Converted   No. Observations:                 6468\n",
       "Model:                            GLM   Df Residuals:                     6375\n",
       "Model Family:                Binomial   Df Model:                           92\n",
       "Link Function:                  logit   Scale:                          1.0000\n",
       "Method:                          IRLS   Log-Likelihood:                    nan\n",
       "Date:                Mon, 10 Jun 2019   Deviance:                          nan\n",
       "Time:                        19:03:09   Pearson chi2:                 7.19e+18\n",
       "No. Iterations:                   100   Covariance Type:             nonrobust\n",
       "===========================================================================================================================================\n",
       "                                                                              coef    std err          z      P>|z|      [0.025      0.975]\n",
       "-------------------------------------------------------------------------------------------------------------------------------------------\n",
       "const                                                                    1.509e+15   6.38e+07   2.36e+07      0.000    1.51e+15    1.51e+15\n",
       "TotalVisits                                                              2.927e+13   9.96e+05   2.94e+07      0.000    2.93e+13    2.93e+13\n",
       "Total Time Spent on Website                                              6.336e+14    9.7e+05   6.53e+08      0.000    6.34e+14    6.34e+14\n",
       "Page Views Per Visit                                                     -2.34e+14   1.21e+06  -1.93e+08      0.000   -2.34e+14   -2.34e+14\n",
       "Country_Asia/Pacific Region                                              9.205e+14   4.79e+07   1.92e+07      0.000     9.2e+14     9.2e+14\n",
       "Country_Australia                                                       -1.538e+14   2.32e+07  -6.62e+06      0.000   -1.54e+14   -1.54e+14\n",
       "Country_Bahrain                                                         -9.307e+14   2.81e+07  -3.31e+07      0.000   -9.31e+14   -9.31e+14\n",
       "Country_Bangladesh                                                       3.384e+15   6.75e+07   5.01e+07      0.000    3.38e+15    3.38e+15\n",
       "Country_Belgium                                                         -4.217e+15   6.74e+07  -6.26e+07      0.000   -4.22e+15   -4.22e+15\n",
       "Country_Canada                                                          -2.812e+15   3.92e+07  -7.17e+07      0.000   -2.81e+15   -2.81e+15\n",
       "Country_China                                                           -3.881e+15   4.78e+07  -8.11e+07      0.000   -3.88e+15   -3.88e+15\n",
       "Country_Denmark                                                          3.847e+15   6.75e+07    5.7e+07      0.000    3.85e+15    3.85e+15\n",
       "Country_France                                                           5.632e+14   3.07e+07   1.84e+07      0.000    5.63e+14    5.63e+14\n",
       "Country_Germany                                                         -1.006e+15   3.94e+07  -2.55e+07      0.000   -1.01e+15   -1.01e+15\n",
       "Country_Ghana                                                           -2.004e+15   4.79e+07  -4.19e+07      0.000      -2e+15      -2e+15\n",
       "Country_Hong Kong                                                       -8.455e+14   2.81e+07  -3.01e+07      0.000   -8.45e+14   -8.45e+14\n",
       "Country_India                                                            1.427e+14   5.94e+06    2.4e+07      0.000    1.43e+14    1.43e+14\n",
       "Country_Indonesia                                                        -3.59e+15   6.74e+07  -5.32e+07      0.000   -3.59e+15   -3.59e+15\n",
       "Country_Italy                                                               3.5559   2.71e-07   1.31e+07      0.000       3.556       3.556\n",
       "Country_Kenya                                                           -4.118e+15   6.74e+07  -6.11e+07      0.000   -4.12e+15   -4.12e+15\n",
       "Country_Kuwait                                                           -3.75e+15   4.79e+07  -7.84e+07      0.000   -3.75e+15   -3.75e+15\n",
       "Country_Liberia                                                             9.8143   1.78e-07   5.52e+07      0.000       9.814       9.814\n",
       "Country_Malaysia                                                        -3.762e+15   6.79e+07  -5.54e+07      0.000   -3.76e+15   -3.76e+15\n",
       "Country_Netherlands                                                     -8.679e+14   4.79e+07  -1.81e+07      0.000   -8.68e+14   -8.68e+14\n",
       "Country_Nigeria                                                         -2.618e+15   3.92e+07  -6.67e+07      0.000   -2.62e+15   -2.62e+15\n",
       "Country_Oman                                                             2.085e+15   4.76e+07   4.38e+07      0.000    2.09e+15    2.09e+15\n",
       "Country_Philippines                                                      -4.36e+15   4.79e+07  -9.11e+07      0.000   -4.36e+15   -4.36e+15\n",
       "Country_Qatar                                                           -4.599e+15   2.45e+07  -1.88e+08      0.000    -4.6e+15    -4.6e+15\n",
       "Country_Russia                                                          -4.174e+15   6.82e+07  -6.12e+07      0.000   -4.17e+15   -4.17e+15\n",
       "Country_Saudi Arabia                                                    -8.025e+14    1.8e+07  -4.46e+07      0.000   -8.02e+14   -8.02e+14\n",
       "Country_Singapore                                                        6.151e+14   1.78e+07   3.45e+07      0.000    6.15e+14    6.15e+14\n",
       "Country_South Africa                                                     9.937e+13   3.41e+07   2.91e+06      0.000    9.94e+13    9.94e+13\n",
       "Country_Sri Lanka                                                         -14.7291   2.48e-07  -5.93e+07      0.000     -14.729     -14.729\n",
       "Country_Sweden                                                          -3.512e+15   4.79e+07  -7.33e+07      0.000   -3.51e+15   -3.51e+15\n",
       "Country_Switzerland                                                        -6.5993   1.04e-07  -6.32e+07      0.000      -6.599      -6.599\n",
       "Country_Tanzania                                                           -3.4974   8.59e-08  -4.07e+07      0.000      -3.497      -3.497\n",
       "Country_Uganda                                                          -3.964e+15   4.79e+07  -8.28e+07      0.000   -3.96e+15   -3.96e+15\n",
       "Country_United Arab Emirates                                             -8.19e+14   1.23e+07  -6.64e+07      0.000   -8.19e+14   -8.19e+14\n",
       "Country_United Kingdom                                                  -6.814e+14   2.45e+07  -2.78e+07      0.000   -6.81e+14   -6.81e+14\n",
       "Country_United States                                                   -4.829e+14   1.16e+07  -4.18e+07      0.000   -4.83e+14   -4.83e+14\n",
       "Country_Vietnam                                                         -4.139e+15   6.74e+07  -6.14e+07      0.000   -4.14e+15   -4.14e+15\n",
       "What is your current occupation_Businessman                             -1.159e+15   3.02e+07  -3.84e+07      0.000   -1.16e+15   -1.16e+15\n",
       "What is your current occupation_Housewife                                2.213e+15   2.69e+07   8.21e+07      0.000    2.21e+15    2.21e+15\n",
       "What is your current occupation_Student                                 -7.252e+14    1.5e+07  -4.82e+07      0.000   -7.25e+14   -7.25e+14\n",
       "What is your current occupation_Unemployed                              -4.655e+14   1.49e+07  -3.13e+07      0.000   -4.65e+14   -4.65e+14\n",
       "What is your current occupation_Working Professional                     1.507e+13   1.51e+07   9.97e+05      0.000    1.51e+13    1.51e+13\n",
       "What matters most to you in choosing a course_Better Career Prospects    8.684e+14   1.48e+07   5.86e+07      0.000    8.68e+14    8.68e+14\n",
       "What matters most to you in choosing a course_Flexibility & Convenience  1.728e+15   4.99e+07   3.46e+07      0.000    1.73e+15    1.73e+15\n",
       "Lead Source_Click2call                                                  -8.379e+14    4.1e+07  -2.04e+07      0.000   -8.38e+14   -8.38e+14\n",
       "Lead Source_Direct Traffic                                              -1.238e+15   3.31e+07  -3.74e+07      0.000   -1.24e+15   -1.24e+15\n",
       "Lead Source_Facebook                                                     2.199e+14   5.13e+07   4.28e+06      0.000     2.2e+14     2.2e+14\n",
       "Lead Source_Google                                                      -1.299e+15   3.31e+07  -3.92e+07      0.000    -1.3e+15    -1.3e+15\n",
       "Lead Source_Live Chat                                                    3.923e+15   4.93e+07   7.96e+07      0.000    3.92e+15    3.92e+15\n",
       "Lead Source_NC_EDM                                                       2.838e+15   7.49e+07   3.79e+07      0.000    2.84e+15    2.84e+15\n",
       "Lead Source_Olark Chat                                                  -2.051e+15   3.31e+07  -6.19e+07      0.000   -2.05e+15   -2.05e+15\n",
       "Lead Source_Organic Search                                              -6.819e+14   3.32e+07  -2.06e+07      0.000   -6.82e+14   -6.82e+14\n",
       "Lead Source_Pay per Click Ads                                           -5.319e+15   7.48e+07  -7.11e+07      0.000   -5.32e+15   -5.32e+15\n",
       "Lead Source_Press_Release                                               -4.816e+15   5.82e+07  -8.28e+07      0.000   -4.82e+15   -4.82e+15\n",
       "Lead Source_Reference                                                   -1.858e+14   1.37e+07  -1.36e+07      0.000   -1.86e+14   -1.86e+14\n",
       "Lead Source_Referral Sites                                              -1.112e+15   3.38e+07  -3.29e+07      0.000   -1.11e+15   -1.11e+15\n",
       "Lead Source_Social Media                                                 5.746e+14   5.79e+07   9.92e+06      0.000    5.75e+14    5.75e+14\n",
       "Lead Source_Welingak Website                                             3.491e+14    1.5e+07   2.33e+07      0.000    3.49e+14    3.49e+14\n",
       "Lead Source_bing                                                        -2.073e+15    5.1e+07  -4.07e+07      0.000   -2.07e+15   -2.07e+15\n",
       "Lead Source_blog                                                        -5.421e+15   7.49e+07  -7.24e+07      0.000   -5.42e+15   -5.42e+15\n",
       "Lead Source_google                                                      -4.068e+15   4.49e+07  -9.06e+07      0.000   -4.07e+15   -4.07e+15\n",
       "Lead Source_testone                                                         1.6813   4.05e-08   4.15e+07      0.000       1.681       1.681\n",
       "Lead Source_welearnblog_Home                                            -5.315e+15   7.49e+07   -7.1e+07      0.000   -5.31e+15   -5.31e+15\n",
       "Lead Source_youtubechannel                                              -2.887e+15   8.51e+07  -3.39e+07      0.000   -2.89e+15   -2.89e+15\n",
       "Last Activity_Approached upfront                                         5.041e+15   2.86e+07   1.76e+08      0.000    5.04e+15    5.04e+15\n",
       "Last Activity_Converted to Lead                                          8.961e+14   9.58e+06   9.35e+07      0.000    8.96e+14    8.96e+14\n",
       "Last Activity_Email Bounced                                              4.499e+14   9.92e+06   4.53e+07      0.000     4.5e+14     4.5e+14\n",
       "Last Activity_Email Link Clicked                                         1.637e+15    1.2e+07   1.36e+08      0.000    1.64e+15    1.64e+15\n",
       "Last Activity_Email Marked Spam                                          2.336e+15    3.4e+07   6.87e+07      0.000    2.34e+15    2.34e+15\n",
       "Last Activity_Email Opened                                               1.375e+15   9.18e+06    1.5e+08      0.000    1.37e+15    1.37e+15\n",
       "Last Activity_Email Received                                             4.429e+15   6.77e+07   6.54e+07      0.000    4.43e+15    4.43e+15\n",
       "Last Activity_Form Submitted on Website                                   1.36e+15   1.15e+07   1.18e+08      0.000    1.36e+15    1.36e+15\n",
       "Last Activity_Had a Phone Conversation                                    1.42e+15   2.19e+07   6.48e+07      0.000    1.42e+15    1.42e+15\n",
       "Last Activity_Olark Chat Conversation                                    1.968e+15   9.27e+06   2.12e+08      0.000    1.97e+15    1.97e+15\n",
       "Last Activity_Page Visited on Website                                    1.133e+15   9.76e+06   1.16e+08      0.000    1.13e+15    1.13e+15\n",
       "Last Activity_Resubscribed to emails                                     3.744e+15    3.3e+07   1.13e+08      0.000    3.74e+15    3.74e+15\n",
       "Last Activity_SMS Sent                                                   1.507e+15   9.12e+06   1.65e+08      0.000    1.51e+15    1.51e+15\n",
       "Last Activity_Unreachable                                                9.864e+14   1.42e+07   6.97e+07      0.000    9.86e+14    9.86e+14\n",
       "Last Activity_Unsubscribed                                               7.636e+14   2.53e+07   3.02e+07      0.000    7.64e+14    7.64e+14\n",
       "Last Activity_View in browser link Clicked                               2.359e+15   3.14e+07    7.5e+07      0.000    2.36e+15    2.36e+15\n",
       "Lead Origin_API                                                         -2.077e+15   7.51e+07  -2.77e+07      0.000   -2.08e+15   -2.08e+15\n",
       "Lead Origin_Landing Page Submission                                     -1.735e+15   7.51e+07  -2.31e+07      0.000   -1.73e+15   -1.73e+15\n",
       "Lead Origin_Lead Add Form                                               -2.078e+15   6.86e+07  -3.03e+07      0.000   -2.08e+15   -2.08e+15\n",
       "Lead Origin_Lead Import                                                 -2.759e+15   8.46e+07  -3.26e+07      0.000   -2.76e+15   -2.76e+15\n",
       "Last Notable Activity_Email Bounced                                      2.423e+14   1.55e+07   1.56e+07      0.000    2.42e+14    2.42e+14\n",
       "Last Notable Activity_Email Link Clicked                                -4.303e+14   1.45e+07  -2.97e+07      0.000    -4.3e+14    -4.3e+14\n",
       "Last Notable Activity_Email Marked Spam                                  2.336e+15    3.4e+07   6.87e+07      0.000    2.34e+15    2.34e+15\n",
       "Last Notable Activity_Email Opened                                      -2.365e+14   1.13e+07  -2.09e+07      0.000   -2.36e+14   -2.36e+14\n",
       "Last Notable Activity_Email Received                                      2.29e+14   8.85e+07   2.59e+06      0.000    2.29e+14    2.29e+14\n",
       "Last Notable Activity_Form Submitted on Website                         -4.239e+15   6.35e+07  -6.68e+07      0.000   -4.24e+15   -4.24e+15\n",
       "Last Notable Activity_Had a Phone Conversation                           6.929e+14   2.87e+07   2.42e+07      0.000    6.93e+14    6.93e+14\n",
       "Last Notable Activity_Modified                                          -3.347e+14   1.08e+07  -3.09e+07      0.000   -3.35e+14   -3.35e+14\n",
       "Last Notable Activity_Olark Chat Conversation                           -3.754e+13   1.25e+07     -3e+06      0.000   -3.75e+13   -3.75e+13\n",
       "Last Notable Activity_Page Visited on Website                           -1.391e+14   1.23e+07  -1.13e+07      0.000   -1.39e+14   -1.39e+14\n",
       "Last Notable Activity_Resubscribed to emails                             3.744e+15    3.3e+07   1.13e+08      0.000    3.74e+15    3.74e+15\n",
       "Last Notable Activity_SMS Sent                                           -4.47e+14   1.14e+07  -3.92e+07      0.000   -4.47e+14   -4.47e+14\n",
       "Last Notable Activity_Unreachable                                       -3.964e+14   2.03e+07  -1.96e+07      0.000   -3.96e+14   -3.96e+14\n",
       "Last Notable Activity_Unsubscribed                                        5.25e+14   2.71e+07   1.94e+07      0.000    5.25e+14    5.25e+14\n",
       "Last Notable Activity_View in browser link Clicked                               0          0        nan        nan           0           0\n",
       "===========================================================================================================================================\n",
       "\"\"\""
      ]
     },
     "execution_count": 751,
     "metadata": {},
     "output_type": "execute_result"
    }
   ],
   "source": [
    "# Logistic regression model\n",
    "logm1 = sm.GLM(y_train,(sm.add_constant(X_train)), family = sm.families.Binomial())\n",
    "logm1.fit().summary()"
   ]
  },
  {
   "cell_type": "markdown",
   "metadata": {},
   "source": [
    "### Step 6: Feature Selection Using RFE"
   ]
  },
  {
   "cell_type": "code",
   "execution_count": 752,
   "metadata": {},
   "outputs": [],
   "source": [
    "from sklearn.linear_model import LogisticRegression\n",
    "logreg = LogisticRegression()"
   ]
  },
  {
   "cell_type": "code",
   "execution_count": 753,
   "metadata": {},
   "outputs": [],
   "source": [
    "from sklearn.feature_selection import RFE\n",
    "rfe = RFE(logreg, 30)             # running RFE with 30 variables as output\n",
    "rfe = rfe.fit(X_train, y_train)"
   ]
  },
  {
   "cell_type": "code",
   "execution_count": 754,
   "metadata": {},
   "outputs": [
    {
     "data": {
      "text/plain": [
       "array([False,  True, False, False,  True, False, False, False,  True,\n",
       "       False, False, False, False, False, False, False, False, False,\n",
       "       False, False, False, False, False,  True, False, False,  True,\n",
       "       False,  True, False, False, False, False, False, False, False,\n",
       "       False, False, False, False, False,  True, False, False,  True,\n",
       "        True, False, False, False, False, False, False,  True,  True,\n",
       "       False, False, False,  True, False,  True,  True, False, False,\n",
       "       False, False, False, False,  True, False,  True, False, False,\n",
       "        True, False, False,  True, False, False,  True,  True, False,\n",
       "       False, False,  True,  True,  True,  True, False, False, False,\n",
       "        True, False, False,  True,  True,  True, False,  True, False,\n",
       "        True, False, False])"
      ]
     },
     "execution_count": 754,
     "metadata": {},
     "output_type": "execute_result"
    }
   ],
   "source": [
    "rfe.support_"
   ]
  },
  {
   "cell_type": "code",
   "execution_count": 755,
   "metadata": {
    "scrolled": false
   },
   "outputs": [
    {
     "data": {
      "text/plain": [
       "[('TotalVisits', False, 42),\n",
       " ('Total Time Spent on Website', True, 1),\n",
       " ('Page Views Per Visit', False, 43),\n",
       " ('Country_Asia/Pacific Region', False, 53),\n",
       " ('Country_Australia', True, 1),\n",
       " ('Country_Bahrain', False, 19),\n",
       " ('Country_Bangladesh', False, 22),\n",
       " ('Country_Belgium', False, 59),\n",
       " ('Country_Canada', True, 1),\n",
       " ('Country_China', False, 44),\n",
       " ('Country_Denmark', False, 66),\n",
       " ('Country_France', False, 3),\n",
       " ('Country_Germany', False, 20),\n",
       " ('Country_Ghana', False, 33),\n",
       " ('Country_Hong Kong', False, 51),\n",
       " ('Country_India', False, 34),\n",
       " ('Country_Indonesia', False, 25),\n",
       " ('Country_Italy', False, 72),\n",
       " ('Country_Kenya', False, 40),\n",
       " ('Country_Kuwait', False, 39),\n",
       " ('Country_Liberia', False, 71),\n",
       " ('Country_Malaysia', False, 61),\n",
       " ('Country_Netherlands', False, 12),\n",
       " ('Country_Nigeria', True, 1),\n",
       " ('Country_Oman', False, 65),\n",
       " ('Country_Philippines', False, 24),\n",
       " ('Country_Qatar', True, 1),\n",
       " ('Country_Russia', False, 55),\n",
       " ('Country_Saudi Arabia', True, 1),\n",
       " ('Country_Singapore', False, 35),\n",
       " ('Country_South Africa', False, 23),\n",
       " ('Country_Sri Lanka', False, 67),\n",
       " ('Country_Sweden', False, 48),\n",
       " ('Country_Switzerland', False, 68),\n",
       " ('Country_Tanzania', False, 69),\n",
       " ('Country_Uganda', False, 2),\n",
       " ('Country_United Arab Emirates', False, 13),\n",
       " ('Country_United Kingdom', False, 46),\n",
       " ('Country_United States', False, 37),\n",
       " ('Country_Vietnam', False, 26),\n",
       " ('What is your current occupation_Businessman', False, 41),\n",
       " ('What is your current occupation_Housewife', True, 1),\n",
       " ('What is your current occupation_Student', False, 6),\n",
       " ('What is your current occupation_Unemployed', False, 5),\n",
       " ('What is your current occupation_Working Professional', True, 1),\n",
       " ('What matters most to you in choosing a course_Better Career Prospects',\n",
       "  True,\n",
       "  1),\n",
       " ('What matters most to you in choosing a course_Flexibility & Convenience',\n",
       "  False,\n",
       "  62),\n",
       " ('Lead Source_Click2call', False, 28),\n",
       " ('Lead Source_Direct Traffic', False, 15),\n",
       " ('Lead Source_Facebook', False, 4),\n",
       " ('Lead Source_Google', False, 18),\n",
       " ('Lead Source_Live Chat', False, 38),\n",
       " ('Lead Source_NC_EDM', True, 1),\n",
       " ('Lead Source_Olark Chat', True, 1),\n",
       " ('Lead Source_Organic Search', False, 16),\n",
       " ('Lead Source_Pay per Click Ads', False, 32),\n",
       " ('Lead Source_Press_Release', False, 21),\n",
       " ('Lead Source_Reference', True, 1),\n",
       " ('Lead Source_Referral Sites', False, 17),\n",
       " ('Lead Source_Social Media', True, 1),\n",
       " ('Lead Source_Welingak Website', True, 1),\n",
       " ('Lead Source_bing', False, 52),\n",
       " ('Lead Source_blog', False, 31),\n",
       " ('Lead Source_google', False, 14),\n",
       " ('Lead Source_testone', False, 70),\n",
       " ('Lead Source_welearnblog_Home', False, 45),\n",
       " ('Lead Source_youtubechannel', False, 54),\n",
       " ('Last Activity_Approached upfront', True, 1),\n",
       " ('Last Activity_Converted to Lead', False, 9),\n",
       " ('Last Activity_Email Bounced', True, 1),\n",
       " ('Last Activity_Email Link Clicked', False, 47),\n",
       " ('Last Activity_Email Marked Spam', False, 27),\n",
       " ('Last Activity_Email Opened', True, 1),\n",
       " ('Last Activity_Email Received', False, 36),\n",
       " ('Last Activity_Form Submitted on Website', False, 29),\n",
       " ('Last Activity_Had a Phone Conversation', True, 1),\n",
       " ('Last Activity_Olark Chat Conversation', False, 7),\n",
       " ('Last Activity_Page Visited on Website', False, 60),\n",
       " ('Last Activity_Resubscribed to emails', True, 1),\n",
       " ('Last Activity_SMS Sent', True, 1),\n",
       " ('Last Activity_Unreachable', False, 56),\n",
       " ('Last Activity_Unsubscribed', False, 63),\n",
       " ('Last Activity_View in browser link Clicked', False, 50),\n",
       " ('Lead Origin_API', True, 1),\n",
       " ('Lead Origin_Landing Page Submission', True, 1),\n",
       " ('Lead Origin_Lead Add Form', True, 1),\n",
       " ('Lead Origin_Lead Import', True, 1),\n",
       " ('Last Notable Activity_Email Bounced', False, 49),\n",
       " ('Last Notable Activity_Email Link Clicked', False, 8),\n",
       " ('Last Notable Activity_Email Marked Spam', False, 30),\n",
       " ('Last Notable Activity_Email Opened', True, 1),\n",
       " ('Last Notable Activity_Email Received', False, 57),\n",
       " ('Last Notable Activity_Form Submitted on Website', False, 58),\n",
       " ('Last Notable Activity_Had a Phone Conversation', True, 1),\n",
       " ('Last Notable Activity_Modified', True, 1),\n",
       " ('Last Notable Activity_Olark Chat Conversation', True, 1),\n",
       " ('Last Notable Activity_Page Visited on Website', False, 10),\n",
       " ('Last Notable Activity_Resubscribed to emails', True, 1),\n",
       " ('Last Notable Activity_SMS Sent', False, 64),\n",
       " ('Last Notable Activity_Unreachable', True, 1),\n",
       " ('Last Notable Activity_Unsubscribed', False, 11),\n",
       " ('Last Notable Activity_View in browser link Clicked', False, 73)]"
      ]
     },
     "execution_count": 755,
     "metadata": {},
     "output_type": "execute_result"
    }
   ],
   "source": [
    "list(zip(X_train.columns, rfe.support_, rfe.ranking_))"
   ]
  },
  {
   "cell_type": "code",
   "execution_count": 756,
   "metadata": {},
   "outputs": [],
   "source": [
    "col = X_train.columns[rfe.support_]"
   ]
  },
  {
   "cell_type": "code",
   "execution_count": 757,
   "metadata": {
    "scrolled": false
   },
   "outputs": [
    {
     "data": {
      "text/plain": [
       "Index(['TotalVisits', 'Page Views Per Visit', 'Country_Asia/Pacific Region',\n",
       "       'Country_Bahrain', 'Country_Bangladesh', 'Country_Belgium',\n",
       "       'Country_China', 'Country_Denmark', 'Country_France', 'Country_Germany',\n",
       "       'Country_Ghana', 'Country_Hong Kong', 'Country_India',\n",
       "       'Country_Indonesia', 'Country_Italy', 'Country_Kenya', 'Country_Kuwait',\n",
       "       'Country_Liberia', 'Country_Malaysia', 'Country_Netherlands',\n",
       "       'Country_Oman', 'Country_Philippines', 'Country_Russia',\n",
       "       'Country_Singapore', 'Country_South Africa', 'Country_Sri Lanka',\n",
       "       'Country_Sweden', 'Country_Switzerland', 'Country_Tanzania',\n",
       "       'Country_Uganda', 'Country_United Arab Emirates',\n",
       "       'Country_United Kingdom', 'Country_United States', 'Country_Vietnam',\n",
       "       'What is your current occupation_Businessman',\n",
       "       'What is your current occupation_Student',\n",
       "       'What is your current occupation_Unemployed',\n",
       "       'What matters most to you in choosing a course_Flexibility & Convenience',\n",
       "       'Lead Source_Click2call', 'Lead Source_Direct Traffic',\n",
       "       'Lead Source_Facebook', 'Lead Source_Google', 'Lead Source_Live Chat',\n",
       "       'Lead Source_Organic Search', 'Lead Source_Pay per Click Ads',\n",
       "       'Lead Source_Press_Release', 'Lead Source_Referral Sites',\n",
       "       'Lead Source_bing', 'Lead Source_blog', 'Lead Source_google',\n",
       "       'Lead Source_testone', 'Lead Source_welearnblog_Home',\n",
       "       'Lead Source_youtubechannel', 'Last Activity_Converted to Lead',\n",
       "       'Last Activity_Email Link Clicked', 'Last Activity_Email Marked Spam',\n",
       "       'Last Activity_Email Received',\n",
       "       'Last Activity_Form Submitted on Website',\n",
       "       'Last Activity_Olark Chat Conversation',\n",
       "       'Last Activity_Page Visited on Website', 'Last Activity_Unreachable',\n",
       "       'Last Activity_Unsubscribed',\n",
       "       'Last Activity_View in browser link Clicked',\n",
       "       'Last Notable Activity_Email Bounced',\n",
       "       'Last Notable Activity_Email Link Clicked',\n",
       "       'Last Notable Activity_Email Marked Spam',\n",
       "       'Last Notable Activity_Email Received',\n",
       "       'Last Notable Activity_Form Submitted on Website',\n",
       "       'Last Notable Activity_Page Visited on Website',\n",
       "       'Last Notable Activity_SMS Sent', 'Last Notable Activity_Unsubscribed',\n",
       "       'Last Notable Activity_View in browser link Clicked'],\n",
       "      dtype='object')"
      ]
     },
     "execution_count": 757,
     "metadata": {},
     "output_type": "execute_result"
    }
   ],
   "source": [
    "X_train.columns[~rfe.support_]"
   ]
  },
  {
   "cell_type": "markdown",
   "metadata": {},
   "source": [
    "### Step 7: Manual Feature Elimination"
   ]
  },
  {
   "cell_type": "markdown",
   "metadata": {},
   "source": [
    "The following steps are followed in sequence: \n",
    "1. Build the Model\n",
    "2. Inspect RFE's for MultiColinearity\n",
    "3. Drop variables with high colinearity \n",
    "4. Drop variables with high p-value  \n",
    "5. Update the model \n",
    "6. Calculate the accuracy as the accuracy should not drop way too much"
   ]
  },
  {
   "cell_type": "code",
   "execution_count": 758,
   "metadata": {},
   "outputs": [
    {
     "name": "stdout",
     "output_type": "stream",
     "text": [
      "                 Generalized Linear Model Regression Results                  \n",
      "==============================================================================\n",
      "Dep. Variable:              Converted   No. Observations:                 6468\n",
      "Model:                            GLM   Df Residuals:                     6438\n",
      "Model Family:                Binomial   Df Model:                           29\n",
      "Link Function:                  logit   Scale:                          1.0000\n",
      "Method:                          IRLS   Log-Likelihood:                -2584.1\n",
      "Date:                Mon, 10 Jun 2019   Deviance:                       5168.2\n",
      "Time:                        19:03:12   Pearson chi2:                 6.80e+03\n",
      "No. Iterations:                    22   Covariance Type:             nonrobust\n",
      "=========================================================================================================================================\n",
      "                                                                            coef    std err          z      P>|z|      [0.025      0.975]\n",
      "-----------------------------------------------------------------------------------------------------------------------------------------\n",
      "const                                                                    21.0356   7.95e+04      0.000      1.000   -1.56e+05    1.56e+05\n",
      "Total Time Spent on Website                                               1.1100      0.040     27.474      0.000       1.031       1.189\n",
      "Country_Australia                                                        -0.9636      0.914     -1.054      0.292      -2.755       0.828\n",
      "Country_Canada                                                          -22.1281   3.62e+04     -0.001      1.000    -7.1e+04    7.09e+04\n",
      "Country_Nigeria                                                         -23.1142   3.74e+04     -0.001      1.000   -7.34e+04    7.33e+04\n",
      "Country_Qatar                                                           -23.5368   2.38e+04     -0.001      0.999   -4.67e+04    4.66e+04\n",
      "Country_Saudi Arabia                                                     -1.1519      0.744     -1.548      0.122      -2.610       0.306\n",
      "What is your current occupation_Housewife                                23.9734   2.26e+04      0.001      0.999   -4.43e+04    4.44e+04\n",
      "What is your current occupation_Working Professional                      2.6088      0.190     13.701      0.000       2.236       2.982\n",
      "What matters most to you in choosing a course_Better Career Prospects     1.1059      0.088     12.594      0.000       0.934       1.278\n",
      "Lead Source_NC_EDM                                                       24.8302   7.95e+04      0.000      1.000   -1.56e+05    1.56e+05\n",
      "Lead Source_Olark Chat                                                    1.0076      0.121      8.332      0.000       0.771       1.245\n",
      "Lead Source_Reference                                                     0.6591      0.516      1.278      0.201      -0.352       1.670\n",
      "Lead Source_Social Media                                                  2.0806      1.584      1.313      0.189      -1.025       5.186\n",
      "Lead Source_Welingak Website                                              2.4852      0.865      2.874      0.004       0.790       4.180\n",
      "Last Activity_Approached upfront                                         23.8919    2.7e+04      0.001      0.999   -5.29e+04     5.3e+04\n",
      "Last Activity_Email Bounced                                              -1.0993      0.311     -3.535      0.000      -1.709      -0.490\n",
      "Last Activity_Email Opened                                                1.0797      0.157      6.863      0.000       0.771       1.388\n",
      "Last Activity_Had a Phone Conversation                                    1.4470      0.930      1.556      0.120      -0.375       3.269\n",
      "Last Activity_Resubscribed to emails                                     12.8498   3.97e+04      0.000      1.000   -7.79e+04    7.79e+04\n",
      "Last Activity_SMS Sent                                                    1.5095      0.115     13.167      0.000       1.285       1.734\n",
      "Lead Origin_API                                                         -23.1940   7.95e+04     -0.000      1.000   -1.56e+05    1.56e+05\n",
      "Lead Origin_Landing Page Submission                                     -23.5385   7.95e+04     -0.000      1.000   -1.56e+05    1.56e+05\n",
      "Lead Origin_Lead Add Form                                               -20.5465   7.95e+04     -0.000      1.000   -1.56e+05    1.56e+05\n",
      "Lead Origin_Lead Import                                                 -23.1937   7.95e+04     -0.000      1.000   -1.56e+05    1.56e+05\n",
      "Last Notable Activity_Email Opened                                       -0.7492      0.181     -4.148      0.000      -1.103      -0.395\n",
      "Last Notable Activity_Had a Phone Conversation                            2.3266      1.453      1.601      0.109      -0.522       5.175\n",
      "Last Notable Activity_Modified                                           -0.9963      0.113     -8.852      0.000      -1.217      -0.776\n",
      "Last Notable Activity_Olark Chat Conversation                            -0.8431      0.345     -2.441      0.015      -1.520      -0.166\n",
      "Last Notable Activity_Resubscribed to emails                             12.8498   3.97e+04      0.000      1.000   -7.79e+04    7.79e+04\n",
      "Last Notable Activity_Unreachable                                         2.0884      0.540      3.870      0.000       1.031       3.146\n",
      "=========================================================================================================================================\n",
      "                                             Features    VIF\n",
      "28       Last Notable Activity_Resubscribed to emails    inf\n",
      "18               Last Activity_Resubscribed to emails    inf\n",
      "22                          Lead Origin_Lead Add Form  16.82\n",
      "11                              Lead Source_Reference  12.95\n",
      "24                 Last Notable Activity_Email Opened   8.82\n",
      "21                Lead Origin_Landing Page Submission   7.59\n",
      "16                         Last Activity_Email Opened   7.35\n",
      "20                                    Lead Origin_API   6.46\n",
      "8   What matters most to you in choosing a course_...   3.92\n",
      "13                       Lead Source_Welingak Website   3.77\n",
      "26                     Last Notable Activity_Modified   3.74\n",
      "19                             Last Activity_SMS Sent   3.16\n",
      "10                             Lead Source_Olark Chat   2.24\n",
      "17             Last Activity_Had a Phone Conversation   2.03\n",
      "25     Last Notable Activity_Had a Phone Conversation   2.02\n",
      "0                         Total Time Spent on Website   1.26\n",
      "7   What is your current occupation_Working Profes...   1.21\n",
      "27      Last Notable Activity_Olark Chat Conversation   1.21\n",
      "15                        Last Activity_Email Bounced   1.15\n",
      "23                            Lead Origin_Lead Import   1.09\n",
      "29                  Last Notable Activity_Unreachable   1.03\n",
      "14                   Last Activity_Approached upfront   1.01\n",
      "6           What is your current occupation_Housewife   1.01\n",
      "5                                Country_Saudi Arabia   1.01\n",
      "1                                   Country_Australia   1.00\n",
      "12                           Lead Source_Social Media   1.00\n",
      "9                                  Lead Source_NC_EDM   1.00\n",
      "4                                       Country_Qatar   1.00\n",
      "3                                     Country_Nigeria   1.00\n",
      "2                                      Country_Canada   1.00\n",
      "====================================================================================================================\n",
      "Confusion Matrix value is:  [[3236  766]\n",
      " [ 458 2008]]\n",
      "====================================================================================================================\n",
      "Model Accuracy is: 0.8107606679035251\n",
      "====================================================================================================================\n"
     ]
    }
   ],
   "source": [
    "X_train_sm = sm.add_constant(X_train[col])\n",
    "logm2 = sm.GLM(y_train,X_train_sm, family = sm.families.Binomial())\n",
    "res = logm2.fit()\n",
    "print(res.summary()) \n",
    "\n",
    "# Getting the predicted values on the train set\n",
    "y_train_pred = res.predict(X_train_sm)\n",
    "y_train_pred = y_train_pred.values.reshape(-1)\n",
    "\n",
    "# Creating new column 'predicted' with 1 if Churn_Prob > 0.35 else 0\n",
    "y_train_pred_final['predicted'] = y_train_pred_final.Converted_Prob.map(lambda x: 1 if x > 0.35 else 0)\n",
    "\n",
    "# Check for the VIF values of the feature variables. \n",
    "from statsmodels.stats.outliers_influence import variance_inflation_factor\n",
    "\n",
    "# Create a dataframe that will contain the names of all the feature variables and their respective VIFs\n",
    "vif = pd.DataFrame()\n",
    "vif['Features'] = X_train[col].columns\n",
    "vif['VIF'] = [variance_inflation_factor(X_train[col].values, i) for i in range(X_train[col].shape[1])]\n",
    "vif['VIF'] = round(vif['VIF'], 2)\n",
    "vif = vif.sort_values(by = \"VIF\", ascending = False)\n",
    "print(vif)  \n",
    "print(\"====================================================================================================================\")\n",
    "\n",
    "#Checking the results \n",
    "from sklearn import metrics\n",
    "confusion = metrics.confusion_matrix(y_train_pred_final.Converted, y_train_pred_final.predicted )\n",
    "print(\"Confusion Matrix value is: \", confusion)\n",
    "print(\"====================================================================================================================\")\n",
    "\n",
    "print(\"Model Accuracy is:\", metrics.accuracy_score(y_train_pred_final.Converted, y_train_pred_final.predicted))\n",
    "print(\"====================================================================================================================\")"
   ]
  },
  {
   "cell_type": "markdown",
   "metadata": {},
   "source": [
    "Lets drop the variables with infinite variables. "
   ]
  },
  {
   "cell_type": "code",
   "execution_count": 759,
   "metadata": {},
   "outputs": [],
   "source": [
    "col = col.drop(['Last Notable Activity_Resubscribed to emails','Last Activity_Resubscribed to emails'], 1)"
   ]
  },
  {
   "cell_type": "code",
   "execution_count": 760,
   "metadata": {},
   "outputs": [
    {
     "name": "stdout",
     "output_type": "stream",
     "text": [
      "                 Generalized Linear Model Regression Results                  \n",
      "==============================================================================\n",
      "Dep. Variable:              Converted   No. Observations:                 6468\n",
      "Model:                            GLM   Df Residuals:                     6439\n",
      "Model Family:                Binomial   Df Model:                           28\n",
      "Link Function:                  logit   Scale:                          1.0000\n",
      "Method:                          IRLS   Log-Likelihood:                -2586.4\n",
      "Date:                Mon, 10 Jun 2019   Deviance:                       5172.7\n",
      "Time:                        19:03:13   Pearson chi2:                 6.80e+03\n",
      "No. Iterations:                    22   Covariance Type:             nonrobust\n",
      "=========================================================================================================================================\n",
      "                                                                            coef    std err          z      P>|z|      [0.025      0.975]\n",
      "-----------------------------------------------------------------------------------------------------------------------------------------\n",
      "const                                                                    21.0551   7.95e+04      0.000      1.000   -1.56e+05    1.56e+05\n",
      "Total Time Spent on Website                                               1.1097      0.040     27.473      0.000       1.031       1.189\n",
      "Country_Australia                                                        -0.9656      0.914     -1.056      0.291      -2.758       0.826\n",
      "Country_Canada                                                          -22.1292   3.62e+04     -0.001      1.000    -7.1e+04    7.09e+04\n",
      "Country_Nigeria                                                         -23.1139   3.74e+04     -0.001      1.000   -7.34e+04    7.33e+04\n",
      "Country_Qatar                                                           -23.5348   2.38e+04     -0.001      0.999   -4.67e+04    4.66e+04\n",
      "Country_Saudi Arabia                                                     -1.1542      0.744     -1.551      0.121      -2.613       0.305\n",
      "What is your current occupation_Housewife                                23.9737   2.26e+04      0.001      0.999   -4.43e+04    4.44e+04\n",
      "What is your current occupation_Working Professional                      2.6085      0.190     13.701      0.000       2.235       2.982\n",
      "What matters most to you in choosing a course_Better Career Prospects     1.1008      0.088     12.553      0.000       0.929       1.273\n",
      "Lead Source_NC_EDM                                                       24.8271   7.95e+04      0.000      1.000   -1.56e+05    1.56e+05\n",
      "Lead Source_Olark Chat                                                    1.0123      0.121      8.376      0.000       0.775       1.249\n",
      "Lead Source_Reference                                                     0.6600      0.516      1.279      0.201      -0.351       1.671\n",
      "Lead Source_Social Media                                                  2.0797      1.584      1.313      0.189      -1.025       5.184\n",
      "Lead Source_Welingak Website                                              2.4857      0.865      2.874      0.004       0.791       4.181\n",
      "Last Activity_Approached upfront                                         23.8883    2.7e+04      0.001      0.999   -5.29e+04     5.3e+04\n",
      "Last Activity_Email Bounced                                              -1.1046      0.311     -3.552      0.000      -1.714      -0.495\n",
      "Last Activity_Email Opened                                                1.0765      0.157      6.847      0.000       0.768       1.385\n",
      "Last Activity_Had a Phone Conversation                                    1.4451      0.930      1.555      0.120      -0.377       3.267\n",
      "Last Activity_SMS Sent                                                    1.5003      0.114     13.106      0.000       1.276       1.725\n",
      "Lead Origin_API                                                         -23.1996   7.95e+04     -0.000      1.000   -1.56e+05    1.56e+05\n",
      "Lead Origin_Landing Page Submission                                     -23.5437   7.95e+04     -0.000      1.000   -1.56e+05    1.56e+05\n",
      "Lead Origin_Lead Add Form                                               -20.5515   7.95e+04     -0.000      1.000   -1.56e+05    1.56e+05\n",
      "Lead Origin_Lead Import                                                 -23.1977   7.95e+04     -0.000      1.000   -1.56e+05    1.56e+05\n",
      "Last Notable Activity_Email Opened                                       -0.7569      0.180     -4.194      0.000      -1.111      -0.403\n",
      "Last Notable Activity_Had a Phone Conversation                            2.3179      1.453      1.595      0.111      -0.530       5.166\n",
      "Last Notable Activity_Modified                                           -1.0043      0.112     -8.932      0.000      -1.225      -0.784\n",
      "Last Notable Activity_Olark Chat Conversation                            -0.8571      0.345     -2.483      0.013      -1.534      -0.181\n",
      "Last Notable Activity_Unreachable                                         2.0766      0.539      3.850      0.000       1.019       3.134\n",
      "=========================================================================================================================================\n",
      "                                             Features    VIF\n",
      "21                          Lead Origin_Lead Add Form  16.82\n",
      "11                              Lead Source_Reference  12.95\n",
      "23                 Last Notable Activity_Email Opened   8.82\n",
      "20                Lead Origin_Landing Page Submission   7.58\n",
      "16                         Last Activity_Email Opened   7.35\n",
      "19                                    Lead Origin_API   6.46\n",
      "8   What matters most to you in choosing a course_...   3.92\n",
      "13                       Lead Source_Welingak Website   3.77\n",
      "25                     Last Notable Activity_Modified   3.73\n",
      "18                             Last Activity_SMS Sent   3.16\n",
      "10                             Lead Source_Olark Chat   2.24\n",
      "17             Last Activity_Had a Phone Conversation   2.03\n",
      "24     Last Notable Activity_Had a Phone Conversation   2.02\n",
      "0                         Total Time Spent on Website   1.26\n",
      "7   What is your current occupation_Working Profes...   1.21\n",
      "26      Last Notable Activity_Olark Chat Conversation   1.21\n",
      "15                        Last Activity_Email Bounced   1.15\n",
      "22                            Lead Origin_Lead Import   1.09\n",
      "27                  Last Notable Activity_Unreachable   1.03\n",
      "6           What is your current occupation_Housewife   1.01\n",
      "5                                Country_Saudi Arabia   1.01\n",
      "14                   Last Activity_Approached upfront   1.01\n",
      "1                                   Country_Australia   1.00\n",
      "12                           Lead Source_Social Media   1.00\n",
      "9                                  Lead Source_NC_EDM   1.00\n",
      "4                                       Country_Qatar   1.00\n",
      "3                                     Country_Nigeria   1.00\n",
      "2                                      Country_Canada   1.00\n",
      "====================================================================================================================\n",
      "Confusion Matrix value is:  [[3236  766]\n",
      " [ 458 2008]]\n",
      "====================================================================================================================\n",
      "Model Accuracy is: 0.8107606679035251\n",
      "====================================================================================================================\n"
     ]
    }
   ],
   "source": [
    "X_train_sm = sm.add_constant(X_train[col])\n",
    "logm3 = sm.GLM(y_train,X_train_sm, family = sm.families.Binomial())\n",
    "res = logm3.fit()\n",
    "print(res.summary()) \n",
    "\n",
    "# Getting the predicted values on the train set\n",
    "y_train_pred = res.predict(X_train_sm)\n",
    "y_train_pred = y_train_pred.values.reshape(-1)\n",
    "\n",
    "# Creating new column 'predicted' with 1 if Churn_Prob > 0.35 else 0\n",
    "y_train_pred_final['predicted'] = y_train_pred_final.Converted_Prob.map(lambda x: 1 if x > 0.35 else 0)\n",
    "\n",
    "# Check for the VIF values of the feature variables. \n",
    "from statsmodels.stats.outliers_influence import variance_inflation_factor\n",
    "\n",
    "# Create a dataframe that will contain the names of all the feature variables and their respective VIFs\n",
    "vif = pd.DataFrame()\n",
    "vif['Features'] = X_train[col].columns\n",
    "vif['VIF'] = [variance_inflation_factor(X_train[col].values, i) for i in range(X_train[col].shape[1])]\n",
    "vif['VIF'] = round(vif['VIF'], 2)\n",
    "vif = vif.sort_values(by = \"VIF\", ascending = False)\n",
    "print(vif)  \n",
    "print(\"====================================================================================================================\")\n",
    "\n",
    "#Checking the results \n",
    "from sklearn import metrics\n",
    "confusion = metrics.confusion_matrix(y_train_pred_final.Converted, y_train_pred_final.predicted )\n",
    "print(\"Confusion Matrix value is: \", confusion)\n",
    "print(\"====================================================================================================================\")\n",
    "\n",
    "print(\"Model Accuracy is:\", metrics.accuracy_score(y_train_pred_final.Converted, y_train_pred_final.predicted))\n",
    "print(\"====================================================================================================================\")"
   ]
  },
  {
   "cell_type": "code",
   "execution_count": 761,
   "metadata": {},
   "outputs": [],
   "source": [
    "# Let's drop Lead Origin_Lead Add Form since it has a high VIF\n",
    "col = col.drop('Lead Origin_Lead Add Form')"
   ]
  },
  {
   "cell_type": "code",
   "execution_count": 762,
   "metadata": {},
   "outputs": [
    {
     "name": "stdout",
     "output_type": "stream",
     "text": [
      "                 Generalized Linear Model Regression Results                  \n",
      "==============================================================================\n",
      "Dep. Variable:              Converted   No. Observations:                 6468\n",
      "Model:                            GLM   Df Residuals:                     6440\n",
      "Model Family:                Binomial   Df Model:                           27\n",
      "Link Function:                  logit   Scale:                          1.0000\n",
      "Method:                          IRLS   Log-Likelihood:                -2586.4\n",
      "Date:                Mon, 10 Jun 2019   Deviance:                       5172.8\n",
      "Time:                        19:03:14   Pearson chi2:                 6.80e+03\n",
      "No. Iterations:                    22   Covariance Type:             nonrobust\n",
      "=========================================================================================================================================\n",
      "                                                                            coef    std err          z      P>|z|      [0.025      0.975]\n",
      "-----------------------------------------------------------------------------------------------------------------------------------------\n",
      "const                                                                     0.5134      0.498      1.031      0.303      -0.463       1.490\n",
      "Total Time Spent on Website                                               1.1099      0.040     27.487      0.000       1.031       1.189\n",
      "Country_Australia                                                        -0.9656      0.914     -1.056      0.291      -2.758       0.826\n",
      "Country_Canada                                                          -22.1289   3.62e+04     -0.001      1.000    -7.1e+04    7.09e+04\n",
      "Country_Nigeria                                                         -23.1139   3.74e+04     -0.001      1.000   -7.34e+04    7.33e+04\n",
      "Country_Qatar                                                           -23.5350   2.38e+04     -0.001      0.999   -4.67e+04    4.66e+04\n",
      "Country_Saudi Arabia                                                     -1.1542      0.744     -1.551      0.121      -2.613       0.305\n",
      "What is your current occupation_Housewife                                23.9738   2.26e+04      0.001      0.999   -4.43e+04    4.44e+04\n",
      "What is your current occupation_Working Professional                      2.6085      0.190     13.701      0.000       2.235       2.982\n",
      "What matters most to you in choosing a course_Better Career Prospects     1.1009      0.088     12.553      0.000       0.929       1.273\n",
      "Lead Source_NC_EDM                                                       24.8271   7.95e+04      0.000      1.000   -1.56e+05    1.56e+05\n",
      "Lead Source_Olark Chat                                                    1.0125      0.121      8.378      0.000       0.776       1.249\n",
      "Lead Source_Reference                                                     0.6499      0.515      1.262      0.207      -0.359       1.659\n",
      "Lead Source_Social Media                                                  2.0798      1.584      1.313      0.189      -1.025       5.185\n",
      "Lead Source_Welingak Website                                              2.4756      0.864      2.865      0.004       0.782       4.169\n",
      "Last Activity_Approached upfront                                         23.8882    2.7e+04      0.001      0.999   -5.29e+04     5.3e+04\n",
      "Last Activity_Email Bounced                                              -1.1012      0.310     -3.548      0.000      -1.709      -0.493\n",
      "Last Activity_Email Opened                                                1.0765      0.157      6.846      0.000       0.768       1.385\n",
      "Last Activity_Had a Phone Conversation                                    1.4450      0.930      1.555      0.120      -0.377       3.267\n",
      "Last Activity_SMS Sent                                                    1.5004      0.114     13.107      0.000       1.276       1.725\n",
      "Lead Origin_API                                                          -2.6582      0.486     -5.473      0.000      -3.610      -1.706\n",
      "Lead Origin_Landing Page Submission                                      -3.0023      0.482     -6.226      0.000      -3.947      -2.057\n",
      "Lead Origin_Lead Import                                                  -2.6562      0.694     -3.829      0.000      -4.016      -1.296\n",
      "Last Notable Activity_Email Opened                                       -0.7567      0.180     -4.192      0.000      -1.110      -0.403\n",
      "Last Notable Activity_Had a Phone Conversation                            2.3183      1.453      1.595      0.111      -0.530       5.166\n",
      "Last Notable Activity_Modified                                           -1.0042      0.112     -8.930      0.000      -1.225      -0.784\n",
      "Last Notable Activity_Olark Chat Conversation                            -0.8570      0.345     -2.483      0.013      -1.534      -0.180\n",
      "Last Notable Activity_Unreachable                                         2.0769      0.539      3.850      0.000       1.020       3.134\n",
      "=========================================================================================================================================\n",
      "                                             Features   VIF\n",
      "22                 Last Notable Activity_Email Opened  8.74\n",
      "16                         Last Activity_Email Opened  7.34\n",
      "20                Lead Origin_Landing Page Submission  7.15\n",
      "19                                    Lead Origin_API  6.16\n",
      "8   What matters most to you in choosing a course_...  3.80\n",
      "24                     Last Notable Activity_Modified  3.63\n",
      "18                             Last Activity_SMS Sent  3.05\n",
      "10                             Lead Source_Olark Chat  2.24\n",
      "17             Last Activity_Had a Phone Conversation  2.03\n",
      "23     Last Notable Activity_Had a Phone Conversation  2.02\n",
      "11                              Lead Source_Reference  1.98\n",
      "0                         Total Time Spent on Website  1.25\n",
      "13                       Lead Source_Welingak Website  1.22\n",
      "7   What is your current occupation_Working Profes...  1.21\n",
      "25      Last Notable Activity_Olark Chat Conversation  1.21\n",
      "15                        Last Activity_Email Bounced  1.14\n",
      "21                            Lead Origin_Lead Import  1.08\n",
      "26                  Last Notable Activity_Unreachable  1.03\n",
      "14                   Last Activity_Approached upfront  1.01\n",
      "6           What is your current occupation_Housewife  1.01\n",
      "5                                Country_Saudi Arabia  1.01\n",
      "1                                   Country_Australia  1.00\n",
      "12                           Lead Source_Social Media  1.00\n",
      "9                                  Lead Source_NC_EDM  1.00\n",
      "4                                       Country_Qatar  1.00\n",
      "3                                     Country_Nigeria  1.00\n",
      "2                                      Country_Canada  1.00\n",
      "====================================================================================================================\n",
      "Confusion Matrix value is:  [[3236  766]\n",
      " [ 458 2008]]\n",
      "====================================================================================================================\n",
      "Model Accuracy is: 0.8107606679035251\n",
      "====================================================================================================================\n"
     ]
    }
   ],
   "source": [
    "X_train_sm = sm.add_constant(X_train[col])\n",
    "logm4 = sm.GLM(y_train,X_train_sm, family = sm.families.Binomial())\n",
    "res = logm4.fit()\n",
    "print(res.summary()) \n",
    "\n",
    "# Getting the predicted values on the train set\n",
    "y_train_pred = res.predict(X_train_sm)\n",
    "y_train_pred = y_train_pred.values.reshape(-1)\n",
    "\n",
    "# Creating new column 'predicted' with 1 if Churn_Prob > 0.35 else 0\n",
    "y_train_pred_final['predicted'] = y_train_pred_final.Converted_Prob.map(lambda x: 1 if x > 0.35 else 0)\n",
    "\n",
    "# Check for the VIF values of the feature variables. \n",
    "from statsmodels.stats.outliers_influence import variance_inflation_factor\n",
    "\n",
    "# Create a dataframe that will contain the names of all the feature variables and their respective VIFs\n",
    "vif = pd.DataFrame()\n",
    "vif['Features'] = X_train[col].columns\n",
    "vif['VIF'] = [variance_inflation_factor(X_train[col].values, i) for i in range(X_train[col].shape[1])]\n",
    "vif['VIF'] = round(vif['VIF'], 2)\n",
    "vif = vif.sort_values(by = \"VIF\", ascending = False)\n",
    "print(vif)  \n",
    "print(\"====================================================================================================================\")\n",
    "\n",
    "#Checking the results \n",
    "from sklearn import metrics\n",
    "confusion = metrics.confusion_matrix(y_train_pred_final.Converted, y_train_pred_final.predicted )\n",
    "print(\"Confusion Matrix value is: \", confusion)\n",
    "print(\"====================================================================================================================\")\n",
    "\n",
    "print(\"Model Accuracy is:\", metrics.accuracy_score(y_train_pred_final.Converted, y_train_pred_final.predicted))\n",
    "print(\"====================================================================================================================\")"
   ]
  },
  {
   "cell_type": "markdown",
   "metadata": {},
   "source": [
    "The infinite VIFs have now dropped to a workable value. But from the p-value perspective, `Country_Canada`,`Country_Nigeria`,`Lead Source_NC_EDM` have become insignificant. So let's drop that."
   ]
  },
  {
   "cell_type": "code",
   "execution_count": 763,
   "metadata": {},
   "outputs": [],
   "source": [
    "col = col.drop(['Country_Canada','Country_Nigeria','Lead Source_NC_EDM'])"
   ]
  },
  {
   "cell_type": "code",
   "execution_count": 764,
   "metadata": {},
   "outputs": [
    {
     "name": "stdout",
     "output_type": "stream",
     "text": [
      "                 Generalized Linear Model Regression Results                  \n",
      "==============================================================================\n",
      "Dep. Variable:              Converted   No. Observations:                 6468\n",
      "Model:                            GLM   Df Residuals:                     6443\n",
      "Model Family:                Binomial   Df Model:                           24\n",
      "Link Function:                  logit   Scale:                          1.0000\n",
      "Method:                          IRLS   Log-Likelihood:                -2590.3\n",
      "Date:                Mon, 10 Jun 2019   Deviance:                       5180.7\n",
      "Time:                        19:03:15   Pearson chi2:                 6.81e+03\n",
      "No. Iterations:                    22   Covariance Type:             nonrobust\n",
      "=========================================================================================================================================\n",
      "                                                                            coef    std err          z      P>|z|      [0.025      0.975]\n",
      "-----------------------------------------------------------------------------------------------------------------------------------------\n",
      "const                                                                     0.5191      0.498      1.042      0.297      -0.457       1.495\n",
      "Total Time Spent on Website                                               1.1108      0.040     27.522      0.000       1.032       1.190\n",
      "Country_Australia                                                        -0.9649      0.914     -1.055      0.291      -2.757       0.827\n",
      "Country_Qatar                                                           -23.5347   2.38e+04     -0.001      0.999   -4.67e+04    4.66e+04\n",
      "Country_Saudi Arabia                                                     -1.1531      0.745     -1.548      0.122      -2.613       0.307\n",
      "What is your current occupation_Housewife                                23.9749   2.26e+04      0.001      0.999   -4.43e+04    4.43e+04\n",
      "What is your current occupation_Working Professional                      2.6106      0.190     13.713      0.000       2.238       2.984\n",
      "What matters most to you in choosing a course_Better Career Prospects     1.0954      0.088     12.511      0.000       0.924       1.267\n",
      "Lead Source_Olark Chat                                                    1.0131      0.121      8.386      0.000       0.776       1.250\n",
      "Lead Source_Reference                                                     0.6488      0.515      1.260      0.208      -0.360       1.658\n",
      "Lead Source_Social Media                                                  2.0815      1.585      1.314      0.189      -1.024       5.187\n",
      "Lead Source_Welingak Website                                              2.4751      0.864      2.864      0.004       0.781       4.169\n",
      "Last Activity_Approached upfront                                         23.8890    2.7e+04      0.001      0.999   -5.29e+04     5.3e+04\n",
      "Last Activity_Email Bounced                                              -1.1007      0.310     -3.546      0.000      -1.709      -0.492\n",
      "Last Activity_Email Opened                                                1.0765      0.157      6.847      0.000       0.768       1.385\n",
      "Last Activity_Had a Phone Conversation                                    1.4448      0.930      1.554      0.120      -0.377       3.267\n",
      "Last Activity_SMS Sent                                                    1.4982      0.114     13.093      0.000       1.274       1.722\n",
      "Lead Origin_API                                                          -2.6613      0.486     -5.480      0.000      -3.613      -1.710\n",
      "Lead Origin_Landing Page Submission                                      -3.0068      0.482     -6.237      0.000      -3.952      -2.062\n",
      "Lead Origin_Lead Import                                                  -2.6591      0.694     -3.833      0.000      -4.019      -1.299\n",
      "Last Notable Activity_Email Opened                                       -0.7531      0.180     -4.174      0.000      -1.107      -0.399\n",
      "Last Notable Activity_Had a Phone Conversation                            2.3215      1.453      1.598      0.110      -0.526       5.169\n",
      "Last Notable Activity_Modified                                           -1.0024      0.112     -8.918      0.000      -1.223      -0.782\n",
      "Last Notable Activity_Olark Chat Conversation                            -0.8566      0.345     -2.482      0.013      -1.533      -0.180\n",
      "Last Notable Activity_Unreachable                                         2.0786      0.539      3.854      0.000       1.022       3.136\n",
      "=========================================================================================================================================\n",
      "                                             Features   VIF\n",
      "19                 Last Notable Activity_Email Opened  8.74\n",
      "13                         Last Activity_Email Opened  7.34\n",
      "17                Lead Origin_Landing Page Submission  7.15\n",
      "16                                    Lead Origin_API  6.16\n",
      "6   What matters most to you in choosing a course_...  3.80\n",
      "21                     Last Notable Activity_Modified  3.63\n",
      "15                             Last Activity_SMS Sent  3.05\n",
      "7                              Lead Source_Olark Chat  2.24\n",
      "14             Last Activity_Had a Phone Conversation  2.03\n",
      "20     Last Notable Activity_Had a Phone Conversation  2.02\n",
      "8                               Lead Source_Reference  1.98\n",
      "0                         Total Time Spent on Website  1.25\n",
      "10                       Lead Source_Welingak Website  1.22\n",
      "22      Last Notable Activity_Olark Chat Conversation  1.21\n",
      "5   What is your current occupation_Working Profes...  1.21\n",
      "12                        Last Activity_Email Bounced  1.14\n",
      "18                            Lead Origin_Lead Import  1.08\n",
      "23                  Last Notable Activity_Unreachable  1.03\n",
      "11                   Last Activity_Approached upfront  1.01\n",
      "4           What is your current occupation_Housewife  1.01\n",
      "3                                Country_Saudi Arabia  1.01\n",
      "1                                   Country_Australia  1.00\n",
      "9                            Lead Source_Social Media  1.00\n",
      "2                                       Country_Qatar  1.00\n",
      "====================================================================================================================\n",
      "Confusion Matrix value is:  [[3236  766]\n",
      " [ 458 2008]]\n",
      "====================================================================================================================\n",
      "Model Accuracy is: 0.8107606679035251\n",
      "====================================================================================================================\n"
     ]
    }
   ],
   "source": [
    "X_train_sm = sm.add_constant(X_train[col])\n",
    "logm5 = sm.GLM(y_train,X_train_sm, family = sm.families.Binomial())\n",
    "res = logm5.fit()\n",
    "print(res.summary()) \n",
    "\n",
    "# Getting the predicted values on the train set\n",
    "y_train_pred = res.predict(X_train_sm)\n",
    "y_train_pred = y_train_pred.values.reshape(-1)\n",
    "\n",
    "# Creating new column 'predicted' with 1 if Churn_Prob > 0.35 else 0\n",
    "y_train_pred_final['predicted'] = y_train_pred_final.Converted_Prob.map(lambda x: 1 if x > 0.35 else 0)\n",
    "\n",
    "# Check for the VIF values of the feature variables. \n",
    "from statsmodels.stats.outliers_influence import variance_inflation_factor\n",
    "\n",
    "# Create a dataframe that will contain the names of all the feature variables and their respective VIFs\n",
    "vif = pd.DataFrame()\n",
    "vif['Features'] = X_train[col].columns\n",
    "vif['VIF'] = [variance_inflation_factor(X_train[col].values, i) for i in range(X_train[col].shape[1])]\n",
    "vif['VIF'] = round(vif['VIF'], 2)\n",
    "vif = vif.sort_values(by = \"VIF\", ascending = False)\n",
    "print(vif)  \n",
    "print(\"====================================================================================================================\")\n",
    "\n",
    "#Checking the results \n",
    "from sklearn import metrics\n",
    "confusion = metrics.confusion_matrix(y_train_pred_final.Converted, y_train_pred_final.predicted )\n",
    "print(\"Confusion Matrix value is: \", confusion)\n",
    "print(\"====================================================================================================================\")\n",
    "\n",
    "print(\"Model Accuracy is:\", metrics.accuracy_score(y_train_pred_final.Converted, y_train_pred_final.predicted))\n",
    "print(\"====================================================================================================================\")"
   ]
  },
  {
   "cell_type": "code",
   "execution_count": 765,
   "metadata": {},
   "outputs": [],
   "source": [
    "col = col.drop('Last Notable Activity_Email Opened',1)"
   ]
  },
  {
   "cell_type": "code",
   "execution_count": 766,
   "metadata": {},
   "outputs": [
    {
     "name": "stdout",
     "output_type": "stream",
     "text": [
      "                 Generalized Linear Model Regression Results                  \n",
      "==============================================================================\n",
      "Dep. Variable:              Converted   No. Observations:                 6468\n",
      "Model:                            GLM   Df Residuals:                     6444\n",
      "Model Family:                Binomial   Df Model:                           23\n",
      "Link Function:                  logit   Scale:                          1.0000\n",
      "Method:                          IRLS   Log-Likelihood:                -2598.9\n",
      "Date:                Mon, 10 Jun 2019   Deviance:                       5197.8\n",
      "Time:                        19:03:15   Pearson chi2:                 6.84e+03\n",
      "No. Iterations:                    22   Covariance Type:             nonrobust\n",
      "=========================================================================================================================================\n",
      "                                                                            coef    std err          z      P>|z|      [0.025      0.975]\n",
      "-----------------------------------------------------------------------------------------------------------------------------------------\n",
      "const                                                                     0.3171      0.494      0.642      0.521      -0.651       1.285\n",
      "Total Time Spent on Website                                               1.1114      0.040     27.566      0.000       1.032       1.190\n",
      "Country_Australia                                                        -0.8944      0.914     -0.978      0.328      -2.686       0.897\n",
      "Country_Qatar                                                           -23.5713   2.36e+04     -0.001      0.999   -4.63e+04    4.63e+04\n",
      "Country_Saudi Arabia                                                     -1.1470      0.746     -1.538      0.124      -2.609       0.315\n",
      "What is your current occupation_Housewife                                23.9814   2.27e+04      0.001      0.999   -4.45e+04    4.45e+04\n",
      "What is your current occupation_Working Professional                      2.6166      0.190     13.745      0.000       2.243       2.990\n",
      "What matters most to you in choosing a course_Better Career Prospects     1.1160      0.087     12.785      0.000       0.945       1.287\n",
      "Lead Source_Olark Chat                                                    1.0166      0.121      8.417      0.000       0.780       1.253\n",
      "Lead Source_Reference                                                     0.6394      0.514      1.245      0.213      -0.367       1.646\n",
      "Lead Source_Social Media                                                  1.9878      1.585      1.254      0.210      -1.119       5.094\n",
      "Lead Source_Welingak Website                                              2.4572      0.864      2.845      0.004       0.764       4.150\n",
      "Last Activity_Approached upfront                                         23.7935    2.7e+04      0.001      0.999   -5.29e+04     5.3e+04\n",
      "Last Activity_Email Bounced                                              -1.0912      0.310     -3.516      0.000      -1.700      -0.483\n",
      "Last Activity_Email Opened                                                0.5903      0.109      5.439      0.000       0.378       0.803\n",
      "Last Activity_Had a Phone Conversation                                    1.3549      0.930      1.457      0.145      -0.468       3.178\n",
      "Last Activity_SMS Sent                                                    1.6350      0.110     14.837      0.000       1.419       1.851\n",
      "Lead Origin_API                                                          -2.6656      0.484     -5.508      0.000      -3.614      -1.717\n",
      "Lead Origin_Landing Page Submission                                      -3.0134      0.480     -6.272      0.000      -3.955      -2.072\n",
      "Lead Origin_Lead Import                                                  -2.7585      0.693     -3.981      0.000      -4.117      -1.400\n",
      "Last Notable Activity_Had a Phone Conversation                            2.6047      1.453      1.793      0.073      -0.243       5.452\n",
      "Last Notable Activity_Modified                                           -0.7218      0.090     -8.033      0.000      -0.898      -0.546\n",
      "Last Notable Activity_Olark Chat Conversation                            -0.6642      0.343     -1.938      0.053      -1.336       0.007\n",
      "Last Notable Activity_Unreachable                                         2.2740      0.538      4.223      0.000       1.219       3.329\n",
      "=========================================================================================================================================\n",
      "                                             Features   VIF\n",
      "17                Lead Origin_Landing Page Submission  5.97\n",
      "16                                    Lead Origin_API  5.36\n",
      "6   What matters most to you in choosing a course_...  3.79\n",
      "13                         Last Activity_Email Opened  3.20\n",
      "15                             Last Activity_SMS Sent  2.76\n",
      "20                     Last Notable Activity_Modified  2.39\n",
      "7                              Lead Source_Olark Chat  2.24\n",
      "14             Last Activity_Had a Phone Conversation  2.03\n",
      "19     Last Notable Activity_Had a Phone Conversation  2.02\n",
      "8                               Lead Source_Reference  1.85\n",
      "0                         Total Time Spent on Website  1.25\n",
      "5   What is your current occupation_Working Profes...  1.21\n",
      "10                       Lead Source_Welingak Website  1.19\n",
      "21      Last Notable Activity_Olark Chat Conversation  1.17\n",
      "12                        Last Activity_Email Bounced  1.14\n",
      "18                            Lead Origin_Lead Import  1.06\n",
      "22                  Last Notable Activity_Unreachable  1.02\n",
      "4           What is your current occupation_Housewife  1.01\n",
      "3                                Country_Saudi Arabia  1.01\n",
      "11                   Last Activity_Approached upfront  1.01\n",
      "1                                   Country_Australia  1.00\n",
      "9                            Lead Source_Social Media  1.00\n",
      "2                                       Country_Qatar  1.00\n",
      "====================================================================================================================\n",
      "Confusion Matrix value is:  [[3236  766]\n",
      " [ 458 2008]]\n",
      "====================================================================================================================\n",
      "Model Accuracy is: 0.8107606679035251\n",
      "====================================================================================================================\n"
     ]
    }
   ],
   "source": [
    "X_train_sm = sm.add_constant(X_train[col])\n",
    "logm6 = sm.GLM(y_train,X_train_sm, family = sm.families.Binomial())\n",
    "res = logm6.fit()\n",
    "print(res.summary()) \n",
    "\n",
    "# Getting the predicted values on the train set\n",
    "y_train_pred = res.predict(X_train_sm)\n",
    "y_train_pred = y_train_pred.values.reshape(-1)\n",
    "\n",
    "# Creating new column 'predicted' with 1 if Churn_Prob > 0.35 else 0\n",
    "y_train_pred_final['predicted'] = y_train_pred_final.Converted_Prob.map(lambda x: 1 if x > 0.35 else 0)\n",
    "\n",
    "# Check for the VIF values of the feature variables. \n",
    "from statsmodels.stats.outliers_influence import variance_inflation_factor\n",
    "\n",
    "# Create a dataframe that will contain the names of all the feature variables and their respective VIFs\n",
    "vif = pd.DataFrame()\n",
    "vif['Features'] = X_train[col].columns\n",
    "vif['VIF'] = [variance_inflation_factor(X_train[col].values, i) for i in range(X_train[col].shape[1])]\n",
    "vif['VIF'] = round(vif['VIF'], 2)\n",
    "vif = vif.sort_values(by = \"VIF\", ascending = False)\n",
    "print(vif)  \n",
    "print(\"====================================================================================================================\")\n",
    "\n",
    "#Checking the results \n",
    "from sklearn import metrics\n",
    "confusion = metrics.confusion_matrix(y_train_pred_final.Converted, y_train_pred_final.predicted )\n",
    "print(\"Confusion Matrix value is: \", confusion)\n",
    "print(\"====================================================================================================================\")\n",
    "\n",
    "print(\"Model Accuracy is:\", metrics.accuracy_score(y_train_pred_final.Converted, y_train_pred_final.predicted))\n",
    "print(\"====================================================================================================================\")"
   ]
  },
  {
   "cell_type": "code",
   "execution_count": 767,
   "metadata": {},
   "outputs": [],
   "source": [
    "col = col.drop(['Country_Qatar','What is your current occupation_Housewife','Last Activity_Approached upfront'],1)"
   ]
  },
  {
   "cell_type": "code",
   "execution_count": 768,
   "metadata": {},
   "outputs": [
    {
     "name": "stdout",
     "output_type": "stream",
     "text": [
      "                 Generalized Linear Model Regression Results                  \n",
      "==============================================================================\n",
      "Dep. Variable:              Converted   No. Observations:                 6468\n",
      "Model:                            GLM   Df Residuals:                     6447\n",
      "Model Family:                Binomial   Df Model:                           20\n",
      "Link Function:                  logit   Scale:                          1.0000\n",
      "Method:                          IRLS   Log-Likelihood:                -2615.4\n",
      "Date:                Mon, 10 Jun 2019   Deviance:                       5230.7\n",
      "Time:                        19:03:16   Pearson chi2:                 6.87e+03\n",
      "No. Iterations:                     7   Covariance Type:             nonrobust\n",
      "=========================================================================================================================================\n",
      "                                                                            coef    std err          z      P>|z|      [0.025      0.975]\n",
      "-----------------------------------------------------------------------------------------------------------------------------------------\n",
      "const                                                                     0.3195      0.493      0.647      0.517      -0.648       1.287\n",
      "Total Time Spent on Website                                               1.1102      0.040     27.631      0.000       1.031       1.189\n",
      "Country_Australia                                                        -0.9013      0.916     -0.984      0.325      -2.696       0.893\n",
      "Country_Saudi Arabia                                                     -1.1512      0.746     -1.544      0.123      -2.613       0.310\n",
      "What is your current occupation_Working Professional                      2.6055      0.190     13.704      0.000       2.233       2.978\n",
      "What matters most to you in choosing a course_Better Career Prospects     1.1224      0.087     12.882      0.000       0.952       1.293\n",
      "Lead Source_Olark Chat                                                    1.0219      0.121      8.480      0.000       0.786       1.258\n",
      "Lead Source_Reference                                                     0.6816      0.513      1.329      0.184      -0.323       1.687\n",
      "Lead Source_Social Media                                                  1.9589      1.583      1.237      0.216      -1.144       5.062\n",
      "Lead Source_Welingak Website                                              2.4554      0.863      2.844      0.004       0.763       4.148\n",
      "Last Activity_Email Bounced                                              -1.1165      0.310     -3.596      0.000      -1.725      -0.508\n",
      "Last Activity_Email Opened                                                0.5761      0.108      5.341      0.000       0.365       0.788\n",
      "Last Activity_Had a Phone Conversation                                    1.3237      0.931      1.422      0.155      -0.501       3.148\n",
      "Last Activity_SMS Sent                                                    1.6138      0.110     14.721      0.000       1.399       1.829\n",
      "Lead Origin_API                                                          -2.6648      0.483     -5.511      0.000      -3.612      -1.717\n",
      "Lead Origin_Landing Page Submission                                      -3.0045      0.480     -6.260      0.000      -3.945      -2.064\n",
      "Lead Origin_Lead Import                                                  -2.7620      0.693     -3.988      0.000      -4.120      -1.404\n",
      "Last Notable Activity_Had a Phone Conversation                            2.6209      1.453      1.803      0.071      -0.228       5.469\n",
      "Last Notable Activity_Modified                                           -0.7067      0.090     -7.893      0.000      -0.882      -0.531\n",
      "Last Notable Activity_Olark Chat Conversation                            -0.6761      0.343     -1.974      0.048      -1.347      -0.005\n",
      "Last Notable Activity_Unreachable                                         2.2608      0.538      4.198      0.000       1.205       3.316\n",
      "=========================================================================================================================================\n",
      "                                             Features   VIF\n",
      "14                Lead Origin_Landing Page Submission  5.97\n",
      "13                                    Lead Origin_API  5.36\n",
      "4   What matters most to you in choosing a course_...  3.79\n",
      "10                         Last Activity_Email Opened  3.20\n",
      "12                             Last Activity_SMS Sent  2.76\n",
      "17                     Last Notable Activity_Modified  2.39\n",
      "5                              Lead Source_Olark Chat  2.24\n",
      "11             Last Activity_Had a Phone Conversation  2.03\n",
      "16     Last Notable Activity_Had a Phone Conversation  2.02\n",
      "6                               Lead Source_Reference  1.84\n",
      "0                         Total Time Spent on Website  1.25\n",
      "3   What is your current occupation_Working Profes...  1.21\n",
      "8                        Lead Source_Welingak Website  1.19\n",
      "18      Last Notable Activity_Olark Chat Conversation  1.17\n",
      "9                         Last Activity_Email Bounced  1.14\n",
      "15                            Lead Origin_Lead Import  1.06\n",
      "19                  Last Notable Activity_Unreachable  1.02\n",
      "2                                Country_Saudi Arabia  1.01\n",
      "1                                   Country_Australia  1.00\n",
      "7                            Lead Source_Social Media  1.00\n",
      "====================================================================================================================\n",
      "Confusion Matrix value is:  [[3236  766]\n",
      " [ 458 2008]]\n",
      "====================================================================================================================\n",
      "Model Accuracy is: 0.8107606679035251\n",
      "====================================================================================================================\n"
     ]
    }
   ],
   "source": [
    "X_train_sm = sm.add_constant(X_train[col])\n",
    "logm7 = sm.GLM(y_train,X_train_sm, family = sm.families.Binomial())\n",
    "res = logm7.fit()\n",
    "print(res.summary()) \n",
    "\n",
    "# Getting the predicted values on the train set\n",
    "y_train_pred = res.predict(X_train_sm)\n",
    "y_train_pred = y_train_pred.values.reshape(-1)\n",
    "\n",
    "# Creating new column 'predicted' with 1 if Churn_Prob > 0.35 else 0\n",
    "y_train_pred_final['predicted'] = y_train_pred_final.Converted_Prob.map(lambda x: 1 if x > 0.35 else 0)\n",
    "\n",
    "# Check for the VIF values of the feature variables. \n",
    "from statsmodels.stats.outliers_influence import variance_inflation_factor\n",
    "\n",
    "# Create a dataframe that will contain the names of all the feature variables and their respective VIFs\n",
    "vif = pd.DataFrame()\n",
    "vif['Features'] = X_train[col].columns\n",
    "vif['VIF'] = [variance_inflation_factor(X_train[col].values, i) for i in range(X_train[col].shape[1])]\n",
    "vif['VIF'] = round(vif['VIF'], 2)\n",
    "vif = vif.sort_values(by = \"VIF\", ascending = False)\n",
    "print(vif)  \n",
    "print(\"====================================================================================================================\")\n",
    "\n",
    "#Checking the results \n",
    "from sklearn import metrics\n",
    "confusion = metrics.confusion_matrix(y_train_pred_final.Converted, y_train_pred_final.predicted )\n",
    "print(\"Confusion Matrix value is: \", confusion)\n",
    "print(\"====================================================================================================================\")\n",
    "\n",
    "print(\"Model Accuracy is:\", metrics.accuracy_score(y_train_pred_final.Converted, y_train_pred_final.predicted))\n",
    "print(\"====================================================================================================================\")"
   ]
  },
  {
   "cell_type": "code",
   "execution_count": 769,
   "metadata": {},
   "outputs": [],
   "source": [
    "col = col.drop('Lead Origin_Landing Page Submission')"
   ]
  },
  {
   "cell_type": "code",
   "execution_count": 770,
   "metadata": {},
   "outputs": [
    {
     "name": "stdout",
     "output_type": "stream",
     "text": [
      "                 Generalized Linear Model Regression Results                  \n",
      "==============================================================================\n",
      "Dep. Variable:              Converted   No. Observations:                 6468\n",
      "Model:                            GLM   Df Residuals:                     6448\n",
      "Model Family:                Binomial   Df Model:                           19\n",
      "Link Function:                  logit   Scale:                          1.0000\n",
      "Method:                          IRLS   Log-Likelihood:                -2641.5\n",
      "Date:                Mon, 10 Jun 2019   Deviance:                       5283.0\n",
      "Time:                        19:03:16   Pearson chi2:                 6.80e+03\n",
      "No. Iterations:                     7   Covariance Type:             nonrobust\n",
      "=========================================================================================================================================\n",
      "                                                                            coef    std err          z      P>|z|      [0.025      0.975]\n",
      "-----------------------------------------------------------------------------------------------------------------------------------------\n",
      "const                                                                    -2.6490      0.133    -19.976      0.000      -2.909      -2.389\n",
      "Total Time Spent on Website                                               1.0851      0.040     27.378      0.000       1.007       1.163\n",
      "Country_Australia                                                        -0.9193      0.913     -1.007      0.314      -2.708       0.869\n",
      "Country_Saudi Arabia                                                     -1.1695      0.739     -1.582      0.114      -2.619       0.280\n",
      "What is your current occupation_Working Professional                      2.5725      0.189     13.590      0.000       2.201       2.943\n",
      "What matters most to you in choosing a course_Better Career Prospects     1.1440      0.087     13.191      0.000       0.974       1.314\n",
      "Lead Source_Olark Chat                                                    1.0050      0.120      8.390      0.000       0.770       1.240\n",
      "Lead Source_Reference                                                     3.6144      0.204     17.727      0.000       3.215       4.014\n",
      "Lead Source_Social Media                                                  1.9221      1.570      1.225      0.221      -1.154       4.999\n",
      "Lead Source_Welingak Website                                              5.3784      0.724      7.426      0.000       3.959       6.798\n",
      "Last Activity_Email Bounced                                              -0.9545      0.298     -3.205      0.001      -1.538      -0.371\n",
      "Last Activity_Email Opened                                                0.5572      0.107      5.196      0.000       0.347       0.767\n",
      "Last Activity_Had a Phone Conversation                                    1.3093      0.926      1.415      0.157      -0.505       3.123\n",
      "Last Activity_SMS Sent                                                    1.6186      0.109     14.857      0.000       1.405       1.832\n",
      "Lead Origin_API                                                           0.2973      0.090      3.308      0.001       0.121       0.473\n",
      "Lead Origin_Lead Import                                                   0.1901      0.504      0.377      0.706      -0.797       1.178\n",
      "Last Notable Activity_Had a Phone Conversation                            2.5805      1.450      1.780      0.075      -0.261       5.422\n",
      "Last Notable Activity_Modified                                           -0.7031      0.089     -7.898      0.000      -0.878      -0.529\n",
      "Last Notable Activity_Olark Chat Conversation                            -0.6768      0.341     -1.985      0.047      -1.345      -0.008\n",
      "Last Notable Activity_Unreachable                                         2.2229      0.538      4.135      0.000       1.169       3.277\n",
      "=========================================================================================================================================\n",
      "                                             Features   VIF\n",
      "4   What matters most to you in choosing a course_...  2.89\n",
      "13                                    Lead Origin_API  2.56\n",
      "5                              Lead Source_Olark Chat  2.22\n",
      "11             Last Activity_Had a Phone Conversation  2.03\n",
      "15     Last Notable Activity_Had a Phone Conversation  2.01\n",
      "10                         Last Activity_Email Opened  1.78\n",
      "12                             Last Activity_SMS Sent  1.75\n",
      "16                     Last Notable Activity_Modified  1.54\n",
      "0                         Total Time Spent on Website  1.25\n",
      "6                               Lead Source_Reference  1.24\n",
      "3   What is your current occupation_Working Profes...  1.21\n",
      "9                         Last Activity_Email Bounced  1.09\n",
      "17      Last Notable Activity_Olark Chat Conversation  1.08\n",
      "8                        Lead Source_Welingak Website  1.05\n",
      "14                            Lead Origin_Lead Import  1.01\n",
      "18                  Last Notable Activity_Unreachable  1.01\n",
      "1                                   Country_Australia  1.00\n",
      "7                            Lead Source_Social Media  1.00\n",
      "2                                Country_Saudi Arabia  1.00\n",
      "====================================================================================================================\n",
      "Confusion Matrix value is:  [[3236  766]\n",
      " [ 458 2008]]\n",
      "====================================================================================================================\n",
      "Model Accuracy is: 0.8107606679035251\n",
      "====================================================================================================================\n"
     ]
    }
   ],
   "source": [
    "X_train_sm = sm.add_constant(X_train[col])\n",
    "logm8 = sm.GLM(y_train,X_train_sm, family = sm.families.Binomial())\n",
    "res = logm8.fit()\n",
    "print(res.summary()) \n",
    "\n",
    "# Getting the predicted values on the train set\n",
    "y_train_pred = res.predict(X_train_sm)\n",
    "y_train_pred = y_train_pred.values.reshape(-1)\n",
    "\n",
    "# Creating new column 'predicted' with 1 if Churn_Prob > 0.35 else 0\n",
    "y_train_pred_final['predicted'] = y_train_pred_final.Converted_Prob.map(lambda x: 1 if x > 0.35 else 0)\n",
    "\n",
    "# Check for the VIF values of the feature variables. \n",
    "from statsmodels.stats.outliers_influence import variance_inflation_factor\n",
    "\n",
    "# Create a dataframe that will contain the names of all the feature variables and their respective VIFs\n",
    "vif = pd.DataFrame()\n",
    "vif['Features'] = X_train[col].columns\n",
    "vif['VIF'] = [variance_inflation_factor(X_train[col].values, i) for i in range(X_train[col].shape[1])]\n",
    "vif['VIF'] = round(vif['VIF'], 2)\n",
    "vif = vif.sort_values(by = \"VIF\", ascending = False)\n",
    "print(vif)  \n",
    "print(\"====================================================================================================================\")\n",
    "\n",
    "#Checking the results \n",
    "from sklearn import metrics\n",
    "confusion = metrics.confusion_matrix(y_train_pred_final.Converted, y_train_pred_final.predicted )\n",
    "print(\"Confusion Matrix value is: \", confusion)\n",
    "print(\"====================================================================================================================\")\n",
    "\n",
    "print(\"Model Accuracy is:\", metrics.accuracy_score(y_train_pred_final.Converted, y_train_pred_final.predicted))\n",
    "print(\"====================================================================================================================\")"
   ]
  },
  {
   "cell_type": "code",
   "execution_count": 771,
   "metadata": {},
   "outputs": [],
   "source": [
    "col = col.drop(['Country_Australia','Country_Saudi Arabia','Lead Source_Social Media','Last Activity_Had a Phone Conversation','Lead Origin_Lead Import','Last Notable Activity_Had a Phone Conversation'])"
   ]
  },
  {
   "cell_type": "code",
   "execution_count": 772,
   "metadata": {},
   "outputs": [
    {
     "name": "stdout",
     "output_type": "stream",
     "text": [
      "                 Generalized Linear Model Regression Results                  \n",
      "==============================================================================\n",
      "Dep. Variable:              Converted   No. Observations:                 6468\n",
      "Model:                            GLM   Df Residuals:                     6454\n",
      "Model Family:                Binomial   Df Model:                           13\n",
      "Link Function:                  logit   Scale:                          1.0000\n",
      "Method:                          IRLS   Log-Likelihood:                -2655.0\n",
      "Date:                Mon, 10 Jun 2019   Deviance:                       5310.0\n",
      "Time:                        19:03:17   Pearson chi2:                 6.58e+03\n",
      "No. Iterations:                     7   Covariance Type:             nonrobust\n",
      "=========================================================================================================================================\n",
      "                                                                            coef    std err          z      P>|z|      [0.025      0.975]\n",
      "-----------------------------------------------------------------------------------------------------------------------------------------\n",
      "const                                                                    -2.5933      0.131    -19.812      0.000      -2.850      -2.337\n",
      "Total Time Spent on Website                                               1.0799      0.039     27.405      0.000       1.003       1.157\n",
      "What is your current occupation_Working Professional                      2.5657      0.189     13.609      0.000       2.196       2.935\n",
      "What matters most to you in choosing a course_Better Career Prospects     1.1481      0.087     13.270      0.000       0.979       1.318\n",
      "Lead Source_Olark Chat                                                    0.9835      0.119      8.248      0.000       0.750       1.217\n",
      "Lead Source_Reference                                                     3.6132      0.204     17.739      0.000       3.214       4.012\n",
      "Lead Source_Welingak Website                                              5.3638      0.724      7.409      0.000       3.945       6.783\n",
      "Last Activity_Email Bounced                                              -0.9969      0.297     -3.354      0.001      -1.579      -0.414\n",
      "Last Activity_Email Opened                                                0.5006      0.106      4.729      0.000       0.293       0.708\n",
      "Last Activity_SMS Sent                                                    1.5609      0.108     14.520      0.000       1.350       1.772\n",
      "Lead Origin_API                                                           0.3036      0.089      3.398      0.001       0.128       0.479\n",
      "Last Notable Activity_Modified                                           -0.7212      0.088     -8.151      0.000      -0.895      -0.548\n",
      "Last Notable Activity_Olark Chat Conversation                            -0.7260      0.340     -2.134      0.033      -1.393      -0.059\n",
      "Last Notable Activity_Unreachable                                         2.1633      0.537      4.027      0.000       1.110       3.216\n",
      "=========================================================================================================================================\n",
      "                                             Features   VIF\n",
      "2   What matters most to you in choosing a course_...  2.87\n",
      "9                                     Lead Origin_API  2.55\n",
      "3                              Lead Source_Olark Chat  2.22\n",
      "7                          Last Activity_Email Opened  1.76\n",
      "8                              Last Activity_SMS Sent  1.74\n",
      "10                     Last Notable Activity_Modified  1.52\n",
      "0                         Total Time Spent on Website  1.24\n",
      "4                               Lead Source_Reference  1.24\n",
      "1   What is your current occupation_Working Profes...  1.20\n",
      "6                         Last Activity_Email Bounced  1.09\n",
      "11      Last Notable Activity_Olark Chat Conversation  1.08\n",
      "5                        Lead Source_Welingak Website  1.05\n",
      "12                  Last Notable Activity_Unreachable  1.01\n",
      "====================================================================================================================\n",
      "Confusion Matrix value is:  [[3236  766]\n",
      " [ 458 2008]]\n",
      "====================================================================================================================\n",
      "Model Accuracy is: 0.8107606679035251\n",
      "====================================================================================================================\n"
     ]
    }
   ],
   "source": [
    "X_train_sm = sm.add_constant(X_train[col])\n",
    "logm9 = sm.GLM(y_train,X_train_sm, family = sm.families.Binomial())\n",
    "res = logm9.fit()\n",
    "print(res.summary()) \n",
    "\n",
    "# Getting the predicted values on the train set\n",
    "y_train_pred = res.predict(X_train_sm)\n",
    "y_train_pred = y_train_pred.values.reshape(-1)\n",
    "\n",
    "# Creating new column 'predicted' with 1 if Churn_Prob > 0.35 else 0\n",
    "y_train_pred_final['predicted'] = y_train_pred_final.Converted_Prob.map(lambda x: 1 if x > 0.35 else 0)\n",
    "\n",
    "# Check for the VIF values of the feature variables. \n",
    "from statsmodels.stats.outliers_influence import variance_inflation_factor\n",
    "\n",
    "# Create a dataframe that will contain the names of all the feature variables and their respective VIFs\n",
    "vif = pd.DataFrame()\n",
    "vif['Features'] = X_train[col].columns\n",
    "vif['VIF'] = [variance_inflation_factor(X_train[col].values, i) for i in range(X_train[col].shape[1])]\n",
    "vif['VIF'] = round(vif['VIF'], 2)\n",
    "vif = vif.sort_values(by = \"VIF\", ascending = False)\n",
    "print(vif)  \n",
    "print(\"====================================================================================================================\")\n",
    "\n",
    "#Checking the results \n",
    "from sklearn import metrics\n",
    "confusion = metrics.confusion_matrix(y_train_pred_final.Converted, y_train_pred_final.predicted )\n",
    "print(\"Confusion Matrix value is: \", confusion)\n",
    "print(\"====================================================================================================================\")\n",
    "\n",
    "print(\"Model Accuracy is:\", metrics.accuracy_score(y_train_pred_final.Converted, y_train_pred_final.predicted))\n",
    "print(\"====================================================================================================================\")"
   ]
  },
  {
   "cell_type": "code",
   "execution_count": 773,
   "metadata": {},
   "outputs": [
    {
     "data": {
      "text/html": [
       "<table class=\"simpletable\">\n",
       "<caption>Generalized Linear Model Regression Results</caption>\n",
       "<tr>\n",
       "  <th>Dep. Variable:</th>      <td>Converted</td>    <th>  No. Observations:  </th>  <td>  6468</td>  \n",
       "</tr>\n",
       "<tr>\n",
       "  <th>Model:</th>                 <td>GLM</td>       <th>  Df Residuals:      </th>  <td>  6454</td>  \n",
       "</tr>\n",
       "<tr>\n",
       "  <th>Model Family:</th>       <td>Binomial</td>     <th>  Df Model:          </th>  <td>    13</td>  \n",
       "</tr>\n",
       "<tr>\n",
       "  <th>Link Function:</th>        <td>logit</td>      <th>  Scale:             </th> <td>  1.0000</td> \n",
       "</tr>\n",
       "<tr>\n",
       "  <th>Method:</th>               <td>IRLS</td>       <th>  Log-Likelihood:    </th> <td> -2655.0</td> \n",
       "</tr>\n",
       "<tr>\n",
       "  <th>Date:</th>           <td>Mon, 10 Jun 2019</td> <th>  Deviance:          </th> <td>  5310.0</td> \n",
       "</tr>\n",
       "<tr>\n",
       "  <th>Time:</th>               <td>19:03:17</td>     <th>  Pearson chi2:      </th> <td>6.58e+03</td> \n",
       "</tr>\n",
       "<tr>\n",
       "  <th>No. Iterations:</th>         <td>7</td>        <th>  Covariance Type:   </th> <td>nonrobust</td>\n",
       "</tr>\n",
       "</table>\n",
       "<table class=\"simpletable\">\n",
       "<tr>\n",
       "                                    <td></td>                                       <th>coef</th>     <th>std err</th>      <th>z</th>      <th>P>|z|</th>  <th>[0.025</th>    <th>0.975]</th>  \n",
       "</tr>\n",
       "<tr>\n",
       "  <th>const</th>                                                                 <td>   -2.5933</td> <td>    0.131</td> <td>  -19.812</td> <td> 0.000</td> <td>   -2.850</td> <td>   -2.337</td>\n",
       "</tr>\n",
       "<tr>\n",
       "  <th>Total Time Spent on Website</th>                                           <td>    1.0799</td> <td>    0.039</td> <td>   27.405</td> <td> 0.000</td> <td>    1.003</td> <td>    1.157</td>\n",
       "</tr>\n",
       "<tr>\n",
       "  <th>What is your current occupation_Working Professional</th>                  <td>    2.5657</td> <td>    0.189</td> <td>   13.609</td> <td> 0.000</td> <td>    2.196</td> <td>    2.935</td>\n",
       "</tr>\n",
       "<tr>\n",
       "  <th>What matters most to you in choosing a course_Better Career Prospects</th> <td>    1.1481</td> <td>    0.087</td> <td>   13.270</td> <td> 0.000</td> <td>    0.979</td> <td>    1.318</td>\n",
       "</tr>\n",
       "<tr>\n",
       "  <th>Lead Source_Olark Chat</th>                                                <td>    0.9835</td> <td>    0.119</td> <td>    8.248</td> <td> 0.000</td> <td>    0.750</td> <td>    1.217</td>\n",
       "</tr>\n",
       "<tr>\n",
       "  <th>Lead Source_Reference</th>                                                 <td>    3.6132</td> <td>    0.204</td> <td>   17.739</td> <td> 0.000</td> <td>    3.214</td> <td>    4.012</td>\n",
       "</tr>\n",
       "<tr>\n",
       "  <th>Lead Source_Welingak Website</th>                                          <td>    5.3638</td> <td>    0.724</td> <td>    7.409</td> <td> 0.000</td> <td>    3.945</td> <td>    6.783</td>\n",
       "</tr>\n",
       "<tr>\n",
       "  <th>Last Activity_Email Bounced</th>                                           <td>   -0.9969</td> <td>    0.297</td> <td>   -3.354</td> <td> 0.001</td> <td>   -1.579</td> <td>   -0.414</td>\n",
       "</tr>\n",
       "<tr>\n",
       "  <th>Last Activity_Email Opened</th>                                            <td>    0.5006</td> <td>    0.106</td> <td>    4.729</td> <td> 0.000</td> <td>    0.293</td> <td>    0.708</td>\n",
       "</tr>\n",
       "<tr>\n",
       "  <th>Last Activity_SMS Sent</th>                                                <td>    1.5609</td> <td>    0.108</td> <td>   14.520</td> <td> 0.000</td> <td>    1.350</td> <td>    1.772</td>\n",
       "</tr>\n",
       "<tr>\n",
       "  <th>Lead Origin_API</th>                                                       <td>    0.3036</td> <td>    0.089</td> <td>    3.398</td> <td> 0.001</td> <td>    0.128</td> <td>    0.479</td>\n",
       "</tr>\n",
       "<tr>\n",
       "  <th>Last Notable Activity_Modified</th>                                        <td>   -0.7212</td> <td>    0.088</td> <td>   -8.151</td> <td> 0.000</td> <td>   -0.895</td> <td>   -0.548</td>\n",
       "</tr>\n",
       "<tr>\n",
       "  <th>Last Notable Activity_Olark Chat Conversation</th>                         <td>   -0.7260</td> <td>    0.340</td> <td>   -2.134</td> <td> 0.033</td> <td>   -1.393</td> <td>   -0.059</td>\n",
       "</tr>\n",
       "<tr>\n",
       "  <th>Last Notable Activity_Unreachable</th>                                     <td>    2.1633</td> <td>    0.537</td> <td>    4.027</td> <td> 0.000</td> <td>    1.110</td> <td>    3.216</td>\n",
       "</tr>\n",
       "</table>"
      ],
      "text/plain": [
       "<class 'statsmodels.iolib.summary.Summary'>\n",
       "\"\"\"\n",
       "                 Generalized Linear Model Regression Results                  \n",
       "==============================================================================\n",
       "Dep. Variable:              Converted   No. Observations:                 6468\n",
       "Model:                            GLM   Df Residuals:                     6454\n",
       "Model Family:                Binomial   Df Model:                           13\n",
       "Link Function:                  logit   Scale:                          1.0000\n",
       "Method:                          IRLS   Log-Likelihood:                -2655.0\n",
       "Date:                Mon, 10 Jun 2019   Deviance:                       5310.0\n",
       "Time:                        19:03:17   Pearson chi2:                 6.58e+03\n",
       "No. Iterations:                     7   Covariance Type:             nonrobust\n",
       "=========================================================================================================================================\n",
       "                                                                            coef    std err          z      P>|z|      [0.025      0.975]\n",
       "-----------------------------------------------------------------------------------------------------------------------------------------\n",
       "const                                                                    -2.5933      0.131    -19.812      0.000      -2.850      -2.337\n",
       "Total Time Spent on Website                                               1.0799      0.039     27.405      0.000       1.003       1.157\n",
       "What is your current occupation_Working Professional                      2.5657      0.189     13.609      0.000       2.196       2.935\n",
       "What matters most to you in choosing a course_Better Career Prospects     1.1481      0.087     13.270      0.000       0.979       1.318\n",
       "Lead Source_Olark Chat                                                    0.9835      0.119      8.248      0.000       0.750       1.217\n",
       "Lead Source_Reference                                                     3.6132      0.204     17.739      0.000       3.214       4.012\n",
       "Lead Source_Welingak Website                                              5.3638      0.724      7.409      0.000       3.945       6.783\n",
       "Last Activity_Email Bounced                                              -0.9969      0.297     -3.354      0.001      -1.579      -0.414\n",
       "Last Activity_Email Opened                                                0.5006      0.106      4.729      0.000       0.293       0.708\n",
       "Last Activity_SMS Sent                                                    1.5609      0.108     14.520      0.000       1.350       1.772\n",
       "Lead Origin_API                                                           0.3036      0.089      3.398      0.001       0.128       0.479\n",
       "Last Notable Activity_Modified                                           -0.7212      0.088     -8.151      0.000      -0.895      -0.548\n",
       "Last Notable Activity_Olark Chat Conversation                            -0.7260      0.340     -2.134      0.033      -1.393      -0.059\n",
       "Last Notable Activity_Unreachable                                         2.1633      0.537      4.027      0.000       1.110       3.216\n",
       "=========================================================================================================================================\n",
       "\"\"\""
      ]
     },
     "execution_count": 773,
     "metadata": {},
     "output_type": "execute_result"
    }
   ],
   "source": [
    "res.summary()"
   ]
  },
  {
   "cell_type": "markdown",
   "metadata": {},
   "source": [
    "It is seen with the last results that the model is perfectly tuned with all values <5 for VIF's and <0.05 for p-value"
   ]
  },
  {
   "cell_type": "markdown",
   "metadata": {
    "collapsed": true
   },
   "source": [
    "### Step 8: Plotting the ROC Curve"
   ]
  },
  {
   "cell_type": "markdown",
   "metadata": {},
   "source": [
    "An ROC curve demonstrates several things:\n",
    "\n",
    "- It shows the tradeoff between sensitivity and specificity (any increase in sensitivity will be accompanied by a decrease in specificity).\n",
    "- The closer the curve follows the left-hand border and then the top border of the ROC space, the more accurate the test.\n",
    "- The closer the curve comes to the 45-degree diagonal of the ROC space, the less accurate the test."
   ]
  },
  {
   "cell_type": "code",
   "execution_count": 774,
   "metadata": {},
   "outputs": [],
   "source": [
    "def draw_roc( actual, probs ):\n",
    "    fpr, tpr, thresholds = metrics.roc_curve( actual, probs,\n",
    "                                              drop_intermediate = False )\n",
    "    auc_score = metrics.roc_auc_score( actual, probs )\n",
    "    plt.figure(figsize=(5, 5))\n",
    "    plt.plot( fpr, tpr, label='ROC curve (area = %0.2f)' % auc_score )\n",
    "    plt.plot([0, 1], [0, 1], 'k--')\n",
    "    plt.xlim([0.0, 1.0])\n",
    "    plt.ylim([0.0, 1.05])\n",
    "    plt.xlabel('False Positive Rate or [1 - True Negative Rate]')\n",
    "    plt.ylabel('True Positive Rate')\n",
    "    plt.title('Receiver operating characteristic example')\n",
    "    plt.legend(loc=\"lower right\")\n",
    "    plt.show()\n",
    "\n",
    "    return None"
   ]
  },
  {
   "cell_type": "code",
   "execution_count": 775,
   "metadata": {},
   "outputs": [],
   "source": [
    "fpr, tpr, thresholds = metrics.roc_curve( y_train_pred_final.Converted, y_train_pred_final.Converted_Prob, drop_intermediate = False )"
   ]
  },
  {
   "cell_type": "code",
   "execution_count": 776,
   "metadata": {},
   "outputs": [
    {
     "data": {
      "image/png": "[encoded data removed]",
      "text/plain": [
       "<Figure size 360x360 with 1 Axes>"
      ]
     },
     "metadata": {
      "needs_background": "light"
     },
     "output_type": "display_data"
    }
   ],
   "source": [
    "draw_roc(y_train_pred_final.Converted, y_train_pred_final.Converted_Prob)"
   ]
  },
  {
   "cell_type": "markdown",
   "metadata": {},
   "source": [
    "As the ROC Area = 0.89, we have a confident model"
   ]
  },
  {
   "cell_type": "markdown",
   "metadata": {},
   "source": [
    "### Step 9: Finding Optimal Cutoff Point"
   ]
  },
  {
   "cell_type": "markdown",
   "metadata": {},
   "source": [
    "Optimal cutoff probability is that prob where we get balanced sensitivity and specificity"
   ]
  },
  {
   "cell_type": "code",
   "execution_count": 777,
   "metadata": {},
   "outputs": [],
   "source": [
    "for i in [float(x)/10 for x in range(10)]:\n",
    "    y_train_pred_final[i] = y_train_pred_final.Converted_Prob.map(lambda x: 1 if x > i else 0)"
   ]
  },
  {
   "cell_type": "code",
   "execution_count": 778,
   "metadata": {},
   "outputs": [
    {
     "name": "stdout",
     "output_type": "stream",
     "text": [
      "     Probability  Accuracy  Sensitivity  Specificity\n",
      "0.0          0.0  0.381262     1.000000     0.000000\n",
      "0.1          0.1  0.622604     0.974453     0.405797\n",
      "0.2          0.2  0.767161     0.914031     0.676662\n",
      "0.3          0.3  0.801330     0.872668     0.757371\n",
      "0.4          0.4  0.816636     0.769667     0.845577\n",
      "0.5          0.5  0.821429     0.704380     0.893553\n",
      "0.6          0.6  0.813544     0.639497     0.920790\n",
      "0.7          0.7  0.789425     0.535280     0.946027\n",
      "0.8          0.8  0.766543     0.436740     0.969765\n",
      "0.9          0.9  0.719388     0.282644     0.988506\n"
     ]
    }
   ],
   "source": [
    "# Now let's calculate accuracy sensitivity and specificity for various probability cutoffs.\n",
    "cutoff_df = pd.DataFrame( columns = ['Probability','Accuracy','Sensitivity','Specificity'])\n",
    "\n",
    "num = [0.0,0.1,0.2,0.3,0.4,0.5,0.6,0.7,0.8,0.9]\n",
    "for i in num:\n",
    "    cm1 = metrics.confusion_matrix(y_train_pred_final.Converted, y_train_pred_final[i] )\n",
    "    total1=sum(sum(cm1))\n",
    "    accuracy = (cm1[0,0]+cm1[1,1])/total1\n",
    "    \n",
    "    speci = cm1[0,0]/(cm1[0,0]+cm1[0,1])\n",
    "    sensi = cm1[1,1]/(cm1[1,0]+cm1[1,1])\n",
    "    cutoff_df.loc[i] =[ i ,accuracy,sensi,speci]\n",
    "print(cutoff_df) "
   ]
  },
  {
   "cell_type": "code",
   "execution_count": 779,
   "metadata": {},
   "outputs": [
    {
     "data": {
      "image/png": "[encoded data removed]",
      "text/plain": [
       "<Figure size 432x288 with 1 Axes>"
      ]
     },
     "metadata": {
      "needs_background": "light"
     },
     "output_type": "display_data"
    }
   ],
   "source": [
    "# Let's plot accuracy sensitivity and specificity for various probabilities.\n",
    "cutoff_df.plot.line(x='Probability', y=['Accuracy','Sensitivity','Specificity'])\n",
    "plt.show()"
   ]
  },
  {
   "cell_type": "markdown",
   "metadata": {},
   "source": [
    "#### From the curve above, 0.35 is the optimum point to take it as a cutoff probability."
   ]
  },
  {
   "cell_type": "code",
   "execution_count": 780,
   "metadata": {},
   "outputs": [],
   "source": [
    "y_train_pred_final['final_predicted'] = y_train_pred_final.Converted_Prob.map( lambda x: 1 if x > 0.35 else 0)\n"
   ]
  },
  {
   "cell_type": "code",
   "execution_count": 781,
   "metadata": {},
   "outputs": [
    {
     "data": {
      "text/plain": [
       "0.8107606679035251"
      ]
     },
     "execution_count": 781,
     "metadata": {},
     "output_type": "execute_result"
    }
   ],
   "source": [
    "# Let's check the overall accuracy.\n",
    "metrics.accuracy_score(y_train_pred_final.Converted, y_train_pred_final.final_predicted)"
   ]
  },
  {
   "cell_type": "code",
   "execution_count": 782,
   "metadata": {},
   "outputs": [
    {
     "data": {
      "text/plain": [
       "array([[3236,  766],\n",
       "       [ 458, 2008]], dtype=int64)"
      ]
     },
     "execution_count": 782,
     "metadata": {},
     "output_type": "execute_result"
    }
   ],
   "source": [
    "confusion2 = metrics.confusion_matrix(y_train_pred_final.Converted, y_train_pred_final.final_predicted )\n",
    "confusion2"
   ]
  },
  {
   "cell_type": "code",
   "execution_count": 783,
   "metadata": {},
   "outputs": [],
   "source": [
    "TP = confusion2[1,1] # true positive \n",
    "TN = confusion2[0,0] # true negatives\n",
    "FP = confusion2[0,1] # false positives\n",
    "FN = confusion2[1,0] # false negatives"
   ]
  },
  {
   "cell_type": "code",
   "execution_count": 784,
   "metadata": {},
   "outputs": [
    {
     "data": {
      "text/plain": [
       "0.8142741281427412"
      ]
     },
     "execution_count": 784,
     "metadata": {},
     "output_type": "execute_result"
    }
   ],
   "source": [
    "# Let's see the sensitivity of our logistic regression model\n",
    "TP / float(TP+FN)"
   ]
  },
  {
   "cell_type": "code",
   "execution_count": 785,
   "metadata": {},
   "outputs": [
    {
     "data": {
      "text/plain": [
       "0.8085957021489255"
      ]
     },
     "execution_count": 785,
     "metadata": {},
     "output_type": "execute_result"
    }
   ],
   "source": [
    "# Let us calculate specificity\n",
    "TN / float(TN+FP)"
   ]
  },
  {
   "cell_type": "code",
   "execution_count": 786,
   "metadata": {},
   "outputs": [
    {
     "name": "stdout",
     "output_type": "stream",
     "text": [
      "0.19140429785107446\n"
     ]
    }
   ],
   "source": [
    "# Calculate false postive rate - predicting churn when customer does not have churned\n",
    "print(FP/ float(TN+FP))"
   ]
  },
  {
   "cell_type": "code",
   "execution_count": 787,
   "metadata": {},
   "outputs": [
    {
     "name": "stdout",
     "output_type": "stream",
     "text": [
      "0.7238644556596971\n"
     ]
    }
   ],
   "source": [
    "# Positive predictive value \n",
    "print (TP / float(TP+FP))"
   ]
  },
  {
   "cell_type": "code",
   "execution_count": 788,
   "metadata": {},
   "outputs": [
    {
     "name": "stdout",
     "output_type": "stream",
     "text": [
      "0.8760151597184623\n"
     ]
    }
   ],
   "source": [
    "# Negative predictive value\n",
    "print (TN / float(TN+ FN))"
   ]
  },
  {
   "cell_type": "markdown",
   "metadata": {},
   "source": [
    "### Step 10: Making predictions on the test set"
   ]
  },
  {
   "cell_type": "code",
   "execution_count": 789,
   "metadata": {},
   "outputs": [],
   "source": [
    "X_test[['TotalVisits', 'Total Time Spent on Website', 'Page Views Per Visit']] = scaler.transform(X_test[['TotalVisits', 'Total Time Spent on Website', 'Page Views Per Visit']])"
   ]
  },
  {
   "cell_type": "code",
   "execution_count": 790,
   "metadata": {},
   "outputs": [],
   "source": [
    "X_test = X_test[col]"
   ]
  },
  {
   "cell_type": "code",
   "execution_count": 791,
   "metadata": {},
   "outputs": [],
   "source": [
    "X_test_sm = sm.add_constant(X_test)"
   ]
  },
  {
   "cell_type": "markdown",
   "metadata": {},
   "source": [
    "Making predictions on the test set"
   ]
  },
  {
   "cell_type": "code",
   "execution_count": 792,
   "metadata": {},
   "outputs": [],
   "source": [
    "y_test_pred = res.predict(X_test_sm)"
   ]
  },
  {
   "cell_type": "code",
   "execution_count": 793,
   "metadata": {},
   "outputs": [],
   "source": [
    "# Converting y_pred to a dataframe which is an array\n",
    "y_pred_1 = pd.DataFrame(y_test_pred)"
   ]
  },
  {
   "cell_type": "code",
   "execution_count": 794,
   "metadata": {},
   "outputs": [],
   "source": [
    "# Converting y_test to dataframe\n",
    "y_test_df = pd.DataFrame(y_test)"
   ]
  },
  {
   "cell_type": "code",
   "execution_count": 795,
   "metadata": {},
   "outputs": [],
   "source": [
    "# Putting Lead Number to index\n",
    "y_test_df['Lead Number'] = y_test_df.index"
   ]
  },
  {
   "cell_type": "code",
   "execution_count": 796,
   "metadata": {},
   "outputs": [],
   "source": [
    "# Removing index for both dataframes to append them side by side \n",
    "y_pred_1.reset_index(drop=True, inplace=True)\n",
    "y_test_df.reset_index(drop=True, inplace=True)"
   ]
  },
  {
   "cell_type": "code",
   "execution_count": 797,
   "metadata": {},
   "outputs": [],
   "source": [
    "# Appending y_test_df and y_pred_1\n",
    "y_pred_final = pd.concat([y_test_df, y_pred_1],axis=1)"
   ]
  },
  {
   "cell_type": "code",
   "execution_count": 798,
   "metadata": {},
   "outputs": [
    {
     "data": {
      "text/html": [
       "<div>\n",
       "<style scoped>\n",
       "    .dataframe tbody tr th:only-of-type {\n",
       "        vertical-align: middle;\n",
       "    }\n",
       "\n",
       "    .dataframe tbody tr th {\n",
       "        vertical-align: top;\n",
       "    }\n",
       "\n",
       "    .dataframe thead th {\n",
       "        text-align: right;\n",
       "    }\n",
       "</style>\n",
       "<table border=\"1\" class=\"dataframe\">\n",
       "  <thead>\n",
       "    <tr style=\"text-align: right;\">\n",
       "      <th></th>\n",
       "      <th>Converted</th>\n",
       "      <th>Lead Number</th>\n",
       "      <th>0</th>\n",
       "    </tr>\n",
       "  </thead>\n",
       "  <tbody>\n",
       "    <tr>\n",
       "      <th>0</th>\n",
       "      <td>1</td>\n",
       "      <td>4269</td>\n",
       "      <td>0.577569</td>\n",
       "    </tr>\n",
       "    <tr>\n",
       "      <th>1</th>\n",
       "      <td>1</td>\n",
       "      <td>2376</td>\n",
       "      <td>0.941191</td>\n",
       "    </tr>\n",
       "    <tr>\n",
       "      <th>2</th>\n",
       "      <td>1</td>\n",
       "      <td>7766</td>\n",
       "      <td>0.939792</td>\n",
       "    </tr>\n",
       "    <tr>\n",
       "      <th>3</th>\n",
       "      <td>0</td>\n",
       "      <td>9199</td>\n",
       "      <td>0.137590</td>\n",
       "    </tr>\n",
       "    <tr>\n",
       "      <th>4</th>\n",
       "      <td>1</td>\n",
       "      <td>4359</td>\n",
       "      <td>0.847157</td>\n",
       "    </tr>\n",
       "  </tbody>\n",
       "</table>\n",
       "</div>"
      ],
      "text/plain": [
       "   Converted  Lead Number         0\n",
       "0          1         4269  0.577569\n",
       "1          1         2376  0.941191\n",
       "2          1         7766  0.939792\n",
       "3          0         9199  0.137590\n",
       "4          1         4359  0.847157"
      ]
     },
     "execution_count": 798,
     "metadata": {},
     "output_type": "execute_result"
    }
   ],
   "source": [
    "y_pred_final.head()"
   ]
  },
  {
   "cell_type": "code",
   "execution_count": 799,
   "metadata": {},
   "outputs": [],
   "source": [
    "# Renaming the column \n",
    "y_pred_final= y_pred_final.rename(columns={ 0 : 'Converted_Prob'})"
   ]
  },
  {
   "cell_type": "code",
   "execution_count": 800,
   "metadata": {},
   "outputs": [],
   "source": [
    "# Rearranging the columns\n",
    "y_pred_final = y_pred_final.reindex_axis(['Lead Number','Converted','Converted_Prob'], axis=1)"
   ]
  },
  {
   "cell_type": "code",
   "execution_count": 801,
   "metadata": {},
   "outputs": [
    {
     "data": {
      "text/html": [
       "<div>\n",
       "<style scoped>\n",
       "    .dataframe tbody tr th:only-of-type {\n",
       "        vertical-align: middle;\n",
       "    }\n",
       "\n",
       "    .dataframe tbody tr th {\n",
       "        vertical-align: top;\n",
       "    }\n",
       "\n",
       "    .dataframe thead th {\n",
       "        text-align: right;\n",
       "    }\n",
       "</style>\n",
       "<table border=\"1\" class=\"dataframe\">\n",
       "  <thead>\n",
       "    <tr style=\"text-align: right;\">\n",
       "      <th></th>\n",
       "      <th>Lead Number</th>\n",
       "      <th>Converted</th>\n",
       "      <th>Converted_Prob</th>\n",
       "    </tr>\n",
       "  </thead>\n",
       "  <tbody>\n",
       "    <tr>\n",
       "      <th>0</th>\n",
       "      <td>4269</td>\n",
       "      <td>1</td>\n",
       "      <td>0.577569</td>\n",
       "    </tr>\n",
       "    <tr>\n",
       "      <th>1</th>\n",
       "      <td>2376</td>\n",
       "      <td>1</td>\n",
       "      <td>0.941191</td>\n",
       "    </tr>\n",
       "    <tr>\n",
       "      <th>2</th>\n",
       "      <td>7766</td>\n",
       "      <td>1</td>\n",
       "      <td>0.939792</td>\n",
       "    </tr>\n",
       "    <tr>\n",
       "      <th>3</th>\n",
       "      <td>9199</td>\n",
       "      <td>0</td>\n",
       "      <td>0.137590</td>\n",
       "    </tr>\n",
       "    <tr>\n",
       "      <th>4</th>\n",
       "      <td>4359</td>\n",
       "      <td>1</td>\n",
       "      <td>0.847157</td>\n",
       "    </tr>\n",
       "  </tbody>\n",
       "</table>\n",
       "</div>"
      ],
      "text/plain": [
       "   Lead Number  Converted  Converted_Prob\n",
       "0         4269          1        0.577569\n",
       "1         2376          1        0.941191\n",
       "2         7766          1        0.939792\n",
       "3         9199          0        0.137590\n",
       "4         4359          1        0.847157"
      ]
     },
     "execution_count": 801,
     "metadata": {},
     "output_type": "execute_result"
    }
   ],
   "source": [
    "# Let's see the head of y_pred_final\n",
    "y_pred_final.head()"
   ]
  },
  {
   "cell_type": "code",
   "execution_count": 802,
   "metadata": {},
   "outputs": [],
   "source": [
    "y_pred_final['final_predicted'] = y_pred_final.Converted_Prob.map(lambda x: 1 if x > 0.35 else 0)"
   ]
  },
  {
   "cell_type": "code",
   "execution_count": 803,
   "metadata": {},
   "outputs": [
    {
     "data": {
      "text/html": [
       "<div>\n",
       "<style scoped>\n",
       "    .dataframe tbody tr th:only-of-type {\n",
       "        vertical-align: middle;\n",
       "    }\n",
       "\n",
       "    .dataframe tbody tr th {\n",
       "        vertical-align: top;\n",
       "    }\n",
       "\n",
       "    .dataframe thead th {\n",
       "        text-align: right;\n",
       "    }\n",
       "</style>\n",
       "<table border=\"1\" class=\"dataframe\">\n",
       "  <thead>\n",
       "    <tr style=\"text-align: right;\">\n",
       "      <th></th>\n",
       "      <th>Lead Number</th>\n",
       "      <th>Converted</th>\n",
       "      <th>Converted_Prob</th>\n",
       "      <th>final_predicted</th>\n",
       "    </tr>\n",
       "  </thead>\n",
       "  <tbody>\n",
       "    <tr>\n",
       "      <th>0</th>\n",
       "      <td>4269</td>\n",
       "      <td>1</td>\n",
       "      <td>0.577569</td>\n",
       "      <td>1</td>\n",
       "    </tr>\n",
       "    <tr>\n",
       "      <th>1</th>\n",
       "      <td>2376</td>\n",
       "      <td>1</td>\n",
       "      <td>0.941191</td>\n",
       "      <td>1</td>\n",
       "    </tr>\n",
       "    <tr>\n",
       "      <th>2</th>\n",
       "      <td>7766</td>\n",
       "      <td>1</td>\n",
       "      <td>0.939792</td>\n",
       "      <td>1</td>\n",
       "    </tr>\n",
       "    <tr>\n",
       "      <th>3</th>\n",
       "      <td>9199</td>\n",
       "      <td>0</td>\n",
       "      <td>0.137590</td>\n",
       "      <td>0</td>\n",
       "    </tr>\n",
       "    <tr>\n",
       "      <th>4</th>\n",
       "      <td>4359</td>\n",
       "      <td>1</td>\n",
       "      <td>0.847157</td>\n",
       "      <td>1</td>\n",
       "    </tr>\n",
       "  </tbody>\n",
       "</table>\n",
       "</div>"
      ],
      "text/plain": [
       "   Lead Number  Converted  Converted_Prob  final_predicted\n",
       "0         4269          1        0.577569                1\n",
       "1         2376          1        0.941191                1\n",
       "2         7766          1        0.939792                1\n",
       "3         9199          0        0.137590                0\n",
       "4         4359          1        0.847157                1"
      ]
     },
     "execution_count": 803,
     "metadata": {},
     "output_type": "execute_result"
    }
   ],
   "source": [
    "y_pred_final.head()"
   ]
  },
  {
   "cell_type": "code",
   "execution_count": 804,
   "metadata": {
    "scrolled": true
   },
   "outputs": [
    {
     "data": {
      "text/plain": [
       "0.8059163059163059"
      ]
     },
     "execution_count": 804,
     "metadata": {},
     "output_type": "execute_result"
    }
   ],
   "source": [
    "# Let's check the overall accuracy.\n",
    "metrics.accuracy_score(y_pred_final.Converted, y_pred_final.final_predicted)"
   ]
  },
  {
   "cell_type": "code",
   "execution_count": 805,
   "metadata": {
    "scrolled": true
   },
   "outputs": [
    {
     "data": {
      "text/plain": [
       "array([[1331,  346],\n",
       "       [ 192,  903]], dtype=int64)"
      ]
     },
     "execution_count": 805,
     "metadata": {},
     "output_type": "execute_result"
    }
   ],
   "source": [
    "confusion2 = metrics.confusion_matrix(y_pred_final.Converted, y_pred_final.final_predicted )\n",
    "confusion2"
   ]
  },
  {
   "cell_type": "code",
   "execution_count": 806,
   "metadata": {},
   "outputs": [],
   "source": [
    "TP = confusion2[1,1] # true positive \n",
    "TN = confusion2[0,0] # true negatives\n",
    "FP = confusion2[0,1] # false positives\n",
    "FN = confusion2[1,0] # false negatives"
   ]
  },
  {
   "cell_type": "code",
   "execution_count": 807,
   "metadata": {},
   "outputs": [
    {
     "data": {
      "text/plain": [
       "0.8246575342465754"
      ]
     },
     "execution_count": 807,
     "metadata": {},
     "output_type": "execute_result"
    }
   ],
   "source": [
    "# Let's see the sensitivity of our logistic regression model\n",
    "TP / float(TP+FN)"
   ]
  },
  {
   "cell_type": "code",
   "execution_count": 808,
   "metadata": {},
   "outputs": [
    {
     "data": {
      "text/plain": [
       "0.7936791890280263"
      ]
     },
     "execution_count": 808,
     "metadata": {},
     "output_type": "execute_result"
    }
   ],
   "source": [
    "# Let us calculate specificity\n",
    "TN / float(TN+FP)"
   ]
  },
  {
   "cell_type": "markdown",
   "metadata": {},
   "source": [
    "### Step 11: Calculating the Lead Score "
   ]
  },
  {
   "cell_type": "code",
   "execution_count": 809,
   "metadata": {},
   "outputs": [
    {
     "data": {
      "text/plain": [
       "(6468, 15)"
      ]
     },
     "execution_count": 809,
     "metadata": {},
     "output_type": "execute_result"
    }
   ],
   "source": [
    " y_train_pred_final.shape"
   ]
  },
  {
   "cell_type": "code",
   "execution_count": 810,
   "metadata": {},
   "outputs": [
    {
     "data": {
      "text/plain": [
       "(2772, 4)"
      ]
     },
     "execution_count": 810,
     "metadata": {},
     "output_type": "execute_result"
    }
   ],
   "source": [
    "y_pred_final.shape"
   ]
  },
  {
   "cell_type": "code",
   "execution_count": 811,
   "metadata": {},
   "outputs": [],
   "source": [
    "final_data = pd.concat([y_train_pred_final,y_pred_final])"
   ]
  },
  {
   "cell_type": "code",
   "execution_count": 812,
   "metadata": {},
   "outputs": [],
   "source": [
    "final_data = final_data.drop(['predicted',0.0,0.1,0.2,0.3,0.4,0.5,0.6,0.7,0.8,0.9],1)\n",
    "final_data['Lead_Score'] = final_data['Converted_Prob'].apply(lambda x: int(x*100))"
   ]
  },
  {
   "cell_type": "code",
   "execution_count": 813,
   "metadata": {},
   "outputs": [
    {
     "data": {
      "text/html": [
       "<div>\n",
       "<style scoped>\n",
       "    .dataframe tbody tr th:only-of-type {\n",
       "        vertical-align: middle;\n",
       "    }\n",
       "\n",
       "    .dataframe tbody tr th {\n",
       "        vertical-align: top;\n",
       "    }\n",
       "\n",
       "    .dataframe thead th {\n",
       "        text-align: right;\n",
       "    }\n",
       "</style>\n",
       "<table border=\"1\" class=\"dataframe\">\n",
       "  <thead>\n",
       "    <tr style=\"text-align: right;\">\n",
       "      <th></th>\n",
       "      <th>Converted</th>\n",
       "      <th>Converted_Prob</th>\n",
       "      <th>Lead Number</th>\n",
       "      <th>final_predicted</th>\n",
       "      <th>Lead_Score</th>\n",
       "    </tr>\n",
       "  </thead>\n",
       "  <tbody>\n",
       "    <tr>\n",
       "      <th>6054</th>\n",
       "      <td>1</td>\n",
       "      <td>0.995462</td>\n",
       "      <td>8101</td>\n",
       "      <td>1</td>\n",
       "      <td>99</td>\n",
       "    </tr>\n",
       "    <tr>\n",
       "      <th>2510</th>\n",
       "      <td>1</td>\n",
       "      <td>0.990872</td>\n",
       "      <td>1625</td>\n",
       "      <td>1</td>\n",
       "      <td>99</td>\n",
       "    </tr>\n",
       "    <tr>\n",
       "      <th>256</th>\n",
       "      <td>1</td>\n",
       "      <td>0.995462</td>\n",
       "      <td>5792</td>\n",
       "      <td>1</td>\n",
       "      <td>99</td>\n",
       "    </tr>\n",
       "  </tbody>\n",
       "</table>\n",
       "</div>"
      ],
      "text/plain": [
       "      Converted  Converted_Prob  Lead Number  final_predicted  Lead_Score\n",
       "6054          1        0.995462         8101                1          99\n",
       "2510          1        0.990872         1625                1          99\n",
       "256           1        0.995462         5792                1          99"
      ]
     },
     "execution_count": 813,
     "metadata": {},
     "output_type": "execute_result"
    }
   ],
   "source": [
    "final_data.sort_values(by = 'Lead_Score',ascending=False).head(3)"
   ]
  },
  {
   "cell_type": "code",
   "execution_count": 814,
   "metadata": {},
   "outputs": [
    {
     "data": {
      "text/plain": [
       "88.51603281133482"
      ]
     },
     "execution_count": 814,
     "metadata": {},
     "output_type": "execute_result"
    }
   ],
   "source": [
    "### Checking the Conversion Rate\n",
    "converted = (sum(final_data['Converted'])/sum(final_data['final_predicted']))*100\n",
    "converted"
   ]
  },
  {
   "cell_type": "markdown",
   "metadata": {},
   "source": [
    "Thus by reducing the number of users the marketing team tries to contact, we can acheive better conversion rate "
   ]
  }
 ],
 "metadata": {
  "kernelspec": {
   "display_name": "Python 3",
   "language": "python",
   "name": "python3"
  },
  "language_info": {
   "codemirror_mode": {
    "name": "ipython",
    "version": 3
   },
   "file_extension": ".py",
   "mimetype": "text/x-python",
   "name": "python",
   "nbconvert_exporter": "python",
   "pygments_lexer": "ipython3",
   "version": "3.7.3"
  }
 },
 "nbformat": 4,
 "nbformat_minor": 2
}
