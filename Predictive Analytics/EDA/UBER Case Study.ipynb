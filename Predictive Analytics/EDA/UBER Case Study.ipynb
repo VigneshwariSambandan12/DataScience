{
 "cells": [
  {
   "cell_type": "code",
   "execution_count": 1,
   "metadata": {},
   "outputs": [],
   "source": [
    "import numpy as np\n",
    "import pandas as pd\n",
    "import datetime\n",
    "import seaborn as sns\n",
    "from matplotlib import pyplot as plt"
   ]
  },
  {
   "cell_type": "code",
   "execution_count": 2,
   "metadata": {},
   "outputs": [],
   "source": [
    "UberDF  = pd.read_csv(\"Uber Request Data.csv\")"
   ]
  },
  {
   "cell_type": "markdown",
   "metadata": {},
   "source": [
    "#### Data Cleaning"
   ]
  },
  {
   "cell_type": "code",
   "execution_count": 3,
   "metadata": {},
   "outputs": [],
   "source": [
    "#Converting the input request time data to proper timestamps\n",
    "\n",
    "UberDF['Request timestamp'] = UberDF['Request timestamp'].apply(lambda x: datetime.datetime.strptime(x, '%d-%m-%Y %H:%M:%S')\n",
    "                                                          if ( len(x) > 15 )\n",
    "                                                          else\n",
    "                                                          datetime.datetime.strptime(x, '%d/%m/%Y %H:%M')\n",
    "                                                           )"
   ]
  },
  {
   "cell_type": "code",
   "execution_count": 4,
   "metadata": {},
   "outputs": [],
   "source": [
    "#Converting the input drop time data to proper timestamps\n",
    "\n",
    "UberDF['Drop timestamp'] = UberDF[UberDF['Drop timestamp'].notnull()]['Drop timestamp'].apply(lambda x: datetime.datetime.strptime(x, '%d-%m-%Y %H:%M:%S')\n",
    "                                                          if ( len(x) > 15 )\n",
    "                                                          else\n",
    "                                                          datetime.datetime.strptime(x, '%d/%m/%Y %H:%M')\n",
    "                                                           )"
   ]
  },
  {
   "cell_type": "code",
   "execution_count": 5,
   "metadata": {},
   "outputs": [],
   "source": [
    "#Getting the input request time data to create a time column\n",
    "\n",
    "UberDF.loc[:,'Request Time'] = UberDF.loc[:,'Request timestamp'].apply(lambda x: x.time() )\n",
    "UberDF.loc[:,'Request Time Hour'] = UberDF.loc[:,'Request Time'].apply(lambda x: x.hour)\n"
   ]
  },
  {
   "cell_type": "code",
   "execution_count": 6,
   "metadata": {},
   "outputs": [],
   "source": [
    "#Creating Time Slots\n",
    "UberDF.loc[:,'Time Slot'] = pd.cut(UberDF.loc[:,'Request Time Hour'], [0,6,12,18,24], labels=[\"Early Morning\", \"Morning\", \"After Noon\",\"Late Evening\"],right=False)"
   ]
  },
  {
   "cell_type": "markdown",
   "metadata": {},
   "source": [
    "#### Identifying the most pressing problems for UBER"
   ]
  },
  {
   "cell_type": "code",
   "execution_count": 7,
   "metadata": {},
   "outputs": [],
   "source": [
    "Incomplete_Trips_DF = UberDF[(UberDF['Drop timestamp'].isnull())]"
   ]
  },
  {
   "cell_type": "code",
   "execution_count": 8,
   "metadata": {},
   "outputs": [
    {
     "data": {
      "text/plain": [
       "<seaborn.axisgrid.FacetGrid at 0x1b17aeeec50>"
      ]
     },
     "execution_count": 8,
     "metadata": {},
     "output_type": "execute_result"
    },
    {
     "data": {
      "image/png": "[encoded data removed]",
      "text/plain": [
       "<Figure size 844.125x360 with 2 Axes>"
      ]
     },
     "metadata": {
      "needs_background": "light"
     },
     "output_type": "display_data"
    }
   ],
   "source": [
    "sns.catplot(x=\"Time Slot\", hue =\"Status\", col=\"Pickup point\", data=Incomplete_Trips_DF, kind=\"count\")"
   ]
  },
  {
   "cell_type": "markdown",
   "metadata": {},
   "source": [
    "It can be observed from the above plot with the frequency of the requests, that the <b> No Cars Available </b> status is observed the most in the <b> Late Evening </b> time slot for Airport to City and Cancelled Status is observed in the Morning Time Slot for City to Airport"
   ]
  },
  {
   "cell_type": "markdown",
   "metadata": {},
   "source": [
    "#### Gap between supply and demand"
   ]
  },
  {
   "cell_type": "code",
   "execution_count": 9,
   "metadata": {},
   "outputs": [],
   "source": [
    "#Calculation of Demand\n",
    "UberDF.loc[:,'Demand'] =  UberDF['Status'].apply(lambda x: 1 if( x in ['Trip Completed','No Cars Available','Cancelled'] ) else 0)"
   ]
  },
  {
   "cell_type": "code",
   "execution_count": 10,
   "metadata": {},
   "outputs": [],
   "source": [
    "#Calculation of Supply\n",
    "UberDF.loc[:,'Supply'] =  UberDF['Status'].apply(lambda x: 1 if( x in ['Trip Completed'] ) else 0)"
   ]
  },
  {
   "cell_type": "code",
   "execution_count": 11,
   "metadata": {},
   "outputs": [],
   "source": [
    "#Calculation of Gap\n",
    "UberDF.loc[:,'Gap'] =  UberDF.loc[:,'Demand'] - UberDF.loc[:,'Supply'] "
   ]
  },
  {
   "cell_type": "code",
   "execution_count": 12,
   "metadata": {},
   "outputs": [
    {
     "data": {
      "text/html": [
       "<div>\n",
       "<style scoped>\n",
       "    .dataframe tbody tr th:only-of-type {\n",
       "        vertical-align: middle;\n",
       "    }\n",
       "\n",
       "    .dataframe tbody tr th {\n",
       "        vertical-align: top;\n",
       "    }\n",
       "\n",
       "    .dataframe thead th {\n",
       "        text-align: right;\n",
       "    }\n",
       "</style>\n",
       "<table border=\"1\" class=\"dataframe\">\n",
       "  <thead>\n",
       "    <tr style=\"text-align: right;\">\n",
       "      <th></th>\n",
       "      <th>Demand/Supply/Gap</th>\n",
       "      <th>Time Slot</th>\n",
       "      <th>Pickup point</th>\n",
       "      <th>Number Of Requests</th>\n",
       "    </tr>\n",
       "  </thead>\n",
       "  <tbody>\n",
       "    <tr>\n",
       "      <th>0</th>\n",
       "      <td>Demand</td>\n",
       "      <td>Early Morning</td>\n",
       "      <td>Airport</td>\n",
       "      <td>345</td>\n",
       "    </tr>\n",
       "    <tr>\n",
       "      <th>1</th>\n",
       "      <td>Demand</td>\n",
       "      <td>Early Morning</td>\n",
       "      <td>City</td>\n",
       "      <td>678</td>\n",
       "    </tr>\n",
       "    <tr>\n",
       "      <th>2</th>\n",
       "      <td>Demand</td>\n",
       "      <td>Morning</td>\n",
       "      <td>Airport</td>\n",
       "      <td>473</td>\n",
       "    </tr>\n",
       "    <tr>\n",
       "      <th>3</th>\n",
       "      <td>Demand</td>\n",
       "      <td>Morning</td>\n",
       "      <td>City</td>\n",
       "      <td>1599</td>\n",
       "    </tr>\n",
       "    <tr>\n",
       "      <th>4</th>\n",
       "      <td>Demand</td>\n",
       "      <td>After Noon</td>\n",
       "      <td>Airport</td>\n",
       "      <td>647</td>\n",
       "    </tr>\n",
       "    <tr>\n",
       "      <th>5</th>\n",
       "      <td>Demand</td>\n",
       "      <td>After Noon</td>\n",
       "      <td>City</td>\n",
       "      <td>581</td>\n",
       "    </tr>\n",
       "    <tr>\n",
       "      <th>6</th>\n",
       "      <td>Demand</td>\n",
       "      <td>Late Evening</td>\n",
       "      <td>Airport</td>\n",
       "      <td>1773</td>\n",
       "    </tr>\n",
       "    <tr>\n",
       "      <th>7</th>\n",
       "      <td>Demand</td>\n",
       "      <td>Late Evening</td>\n",
       "      <td>City</td>\n",
       "      <td>649</td>\n",
       "    </tr>\n",
       "    <tr>\n",
       "      <th>8</th>\n",
       "      <td>Supply</td>\n",
       "      <td>Early Morning</td>\n",
       "      <td>Airport</td>\n",
       "      <td>188</td>\n",
       "    </tr>\n",
       "    <tr>\n",
       "      <th>9</th>\n",
       "      <td>Supply</td>\n",
       "      <td>Early Morning</td>\n",
       "      <td>City</td>\n",
       "      <td>211</td>\n",
       "    </tr>\n",
       "    <tr>\n",
       "      <th>10</th>\n",
       "      <td>Supply</td>\n",
       "      <td>Morning</td>\n",
       "      <td>Airport</td>\n",
       "      <td>399</td>\n",
       "    </tr>\n",
       "    <tr>\n",
       "      <th>11</th>\n",
       "      <td>Supply</td>\n",
       "      <td>Morning</td>\n",
       "      <td>City</td>\n",
       "      <td>501</td>\n",
       "    </tr>\n",
       "    <tr>\n",
       "      <th>12</th>\n",
       "      <td>Supply</td>\n",
       "      <td>After Noon</td>\n",
       "      <td>Airport</td>\n",
       "      <td>299</td>\n",
       "    </tr>\n",
       "    <tr>\n",
       "      <th>13</th>\n",
       "      <td>Supply</td>\n",
       "      <td>After Noon</td>\n",
       "      <td>City</td>\n",
       "      <td>343</td>\n",
       "    </tr>\n",
       "    <tr>\n",
       "      <th>14</th>\n",
       "      <td>Supply</td>\n",
       "      <td>Late Evening</td>\n",
       "      <td>Airport</td>\n",
       "      <td>441</td>\n",
       "    </tr>\n",
       "    <tr>\n",
       "      <th>15</th>\n",
       "      <td>Supply</td>\n",
       "      <td>Late Evening</td>\n",
       "      <td>City</td>\n",
       "      <td>449</td>\n",
       "    </tr>\n",
       "    <tr>\n",
       "      <th>16</th>\n",
       "      <td>Gap</td>\n",
       "      <td>Early Morning</td>\n",
       "      <td>Airport</td>\n",
       "      <td>157</td>\n",
       "    </tr>\n",
       "    <tr>\n",
       "      <th>17</th>\n",
       "      <td>Gap</td>\n",
       "      <td>Early Morning</td>\n",
       "      <td>City</td>\n",
       "      <td>467</td>\n",
       "    </tr>\n",
       "    <tr>\n",
       "      <th>18</th>\n",
       "      <td>Gap</td>\n",
       "      <td>Morning</td>\n",
       "      <td>Airport</td>\n",
       "      <td>74</td>\n",
       "    </tr>\n",
       "    <tr>\n",
       "      <th>19</th>\n",
       "      <td>Gap</td>\n",
       "      <td>Morning</td>\n",
       "      <td>City</td>\n",
       "      <td>1098</td>\n",
       "    </tr>\n",
       "    <tr>\n",
       "      <th>20</th>\n",
       "      <td>Gap</td>\n",
       "      <td>After Noon</td>\n",
       "      <td>Airport</td>\n",
       "      <td>348</td>\n",
       "    </tr>\n",
       "    <tr>\n",
       "      <th>21</th>\n",
       "      <td>Gap</td>\n",
       "      <td>After Noon</td>\n",
       "      <td>City</td>\n",
       "      <td>238</td>\n",
       "    </tr>\n",
       "    <tr>\n",
       "      <th>22</th>\n",
       "      <td>Gap</td>\n",
       "      <td>Late Evening</td>\n",
       "      <td>Airport</td>\n",
       "      <td>1332</td>\n",
       "    </tr>\n",
       "    <tr>\n",
       "      <th>23</th>\n",
       "      <td>Gap</td>\n",
       "      <td>Late Evening</td>\n",
       "      <td>City</td>\n",
       "      <td>200</td>\n",
       "    </tr>\n",
       "  </tbody>\n",
       "</table>\n",
       "</div>"
      ],
      "text/plain": [
       "   Demand/Supply/Gap      Time Slot Pickup point  Number Of Requests\n",
       "0             Demand  Early Morning      Airport                 345\n",
       "1             Demand  Early Morning         City                 678\n",
       "2             Demand        Morning      Airport                 473\n",
       "3             Demand        Morning         City                1599\n",
       "4             Demand     After Noon      Airport                 647\n",
       "5             Demand     After Noon         City                 581\n",
       "6             Demand   Late Evening      Airport                1773\n",
       "7             Demand   Late Evening         City                 649\n",
       "8             Supply  Early Morning      Airport                 188\n",
       "9             Supply  Early Morning         City                 211\n",
       "10            Supply        Morning      Airport                 399\n",
       "11            Supply        Morning         City                 501\n",
       "12            Supply     After Noon      Airport                 299\n",
       "13            Supply     After Noon         City                 343\n",
       "14            Supply   Late Evening      Airport                 441\n",
       "15            Supply   Late Evening         City                 449\n",
       "16               Gap  Early Morning      Airport                 157\n",
       "17               Gap  Early Morning         City                 467\n",
       "18               Gap        Morning      Airport                  74\n",
       "19               Gap        Morning         City                1098\n",
       "20               Gap     After Noon      Airport                 348\n",
       "21               Gap     After Noon         City                 238\n",
       "22               Gap   Late Evening      Airport                1332\n",
       "23               Gap   Late Evening         City                 200"
      ]
     },
     "execution_count": 12,
     "metadata": {},
     "output_type": "execute_result"
    }
   ],
   "source": [
    "#Calculation of the Consolidated data frame to hold the important information regarding the requests\n",
    "Consolidated_DF = UberDF.pivot_table(values=['Demand','Supply','Gap'],columns = [ 'Time Slot','Pickup point'],\n",
    "                                     aggfunc={'Demand':np.sum,'Supply' :np.sum,'Gap' :np.sum  })\n",
    "Consolidated_DF = Consolidated_DF.reset_index()\n",
    "Consolidated_DF.rename(index=str, columns={0: \"Number Of Requests\",'level_0':\"Demand/Supply/Gap\"},inplace=True)\n",
    "Consolidated_DF"
   ]
  },
  {
   "cell_type": "code",
   "execution_count": 13,
   "metadata": {},
   "outputs": [
    {
     "data": {
      "text/plain": [
       "<seaborn.axisgrid.FacetGrid at 0x1b17c6abb00>"
      ]
     },
     "execution_count": 13,
     "metadata": {},
     "output_type": "execute_result"
    },
    {
     "data": {
      "image/png": "[encoded data removed]",
      "text/plain": [
       "<Figure size 831.125x360 with 2 Axes>"
      ]
     },
     "metadata": {
      "needs_background": "light"
     },
     "output_type": "display_data"
    }
   ],
   "source": [
    "sns.catplot(x=\"Time Slot\", y = \"Number Of Requests\", hue =\"Demand/Supply/Gap\", col=\"Pickup point\", data=Consolidated_DF, kind=\"bar\")"
   ]
  },
  {
   "cell_type": "markdown",
   "metadata": {},
   "source": [
    " It can be observed from the above plot with the demand and supply gap analysis, that the Gap is observed the most in the <b>Late Evening </b> time slot for Airport to City and in the <b> Morning Time </b> Slot for City to Airport"
   ]
  },
  {
   "cell_type": "markdown",
   "metadata": {},
   "source": [
    "#### Reason for this issue for the supply-demand gap"
   ]
  },
  {
   "cell_type": "markdown",
   "metadata": {},
   "source": [
    "Let us look at the cases in which the drivers have cancelled "
   ]
  },
  {
   "cell_type": "code",
   "execution_count": 22,
   "metadata": {},
   "outputs": [
    {
     "data": {
      "text/plain": [
       "<seaborn.axisgrid.FacetGrid at 0x1b17e6f9e10>"
      ]
     },
     "execution_count": 22,
     "metadata": {},
     "output_type": "execute_result"
    },
    {
     "data": {
      "image/png": "[encoded data removed]",
      "text/plain": [
       "<Figure size 720x360 with 2 Axes>"
      ]
     },
     "metadata": {
      "needs_background": "light"
     },
     "output_type": "display_data"
    }
   ],
   "source": [
    "#The Gap for the Cancelled Status\n",
    "sns.catplot(x=\"Time Slot\", y = \"Gap\", col=\"Pickup point\", data=UberDF[UberDF['Status']=='Cancelled'], kind=\"bar\", estimator=np.sum)"
   ]
  },
  {
   "cell_type": "code",
   "execution_count": 31,
   "metadata": {},
   "outputs": [
    {
     "data": {
      "text/plain": [
       "<seaborn.axisgrid.FacetGrid at 0x1b1000037f0>"
      ]
     },
     "execution_count": 31,
     "metadata": {},
     "output_type": "execute_result"
    },
    {
     "data": {
      "image/png": "[encoded data removed]",
      "text/plain": [
       "<Figure size 720x360 with 2 Axes>"
      ]
     },
     "metadata": {
      "needs_background": "light"
     },
     "output_type": "display_data"
    }
   ],
   "source": [
    "#The Demand for the Cancelled Status\n",
    "sns.catplot(x=\"Time Slot\", y = \"Demand\", col=\"Pickup point\",col_order=[\"City\", \"Airport\"], data=UberDF, kind=\"bar\", estimator=np.sum)"
   ]
  },
  {
   "attachments": {},
   "cell_type": "markdown",
   "metadata": {},
   "source": [
    "The Spike of Gap in Morning time slot in <b> City to Airport </b> is observed because there is no equal Demand in the <b> Morning and Afternoon </b> time slots for the driver’s return trip from <b> Airport to City </b>"
   ]
  },
  {
   "cell_type": "markdown",
   "metadata": {},
   "source": [
    "Let us look at the cases in which there are no cars available"
   ]
  },
  {
   "cell_type": "code",
   "execution_count": 52,
   "metadata": {},
   "outputs": [
    {
     "data": {
      "text/plain": [
       "<seaborn.axisgrid.FacetGrid at 0x1b104387d68>"
      ]
     },
     "execution_count": 52,
     "metadata": {},
     "output_type": "execute_result"
    },
    {
     "data": {
      "image/png": "[encoded data removed]",
      "text/plain": [
       "<Figure size 720x360 with 2 Axes>"
      ]
     },
     "metadata": {
      "needs_background": "light"
     },
     "output_type": "display_data"
    }
   ],
   "source": [
    "sns.catplot(x=\"Time Slot\", y = \"Gap\", col=\"Pickup point\", data=UberDF[UberDF['Status']=='No Cars Available'], kind=\"bar\", estimator=np.sum)"
   ]
  },
  {
   "cell_type": "code",
   "execution_count": 54,
   "metadata": {},
   "outputs": [],
   "source": [
    "#Calculating the Drop time to observe the patterns of the Drivers\n",
    "UberDF.loc[:,'Drop Time'] = UberDF[UberDF['Drop timestamp'].notnull()].loc[:,'Drop timestamp'].apply(lambda x: x.time() )\n",
    "UberDF.loc[:,'Drop Time Hour'] = UberDF[UberDF['Drop timestamp'].notnull()].loc[:,'Drop Time'].apply(lambda x: x.hour)\n",
    "UberDF.loc[:,'Drop Time Slot'] = pd.cut(UberDF[UberDF['Drop timestamp'].notnull()].loc[:,'Drop Time Hour'], [0,6,12,18,24], labels=[\"Early Morning\", \"Morning\", \"After Noon\",\"Late Evening\"],right=False)"
   ]
  },
  {
   "cell_type": "code",
   "execution_count": 55,
   "metadata": {},
   "outputs": [
    {
     "data": {
      "text/plain": [
       "<seaborn.axisgrid.FacetGrid at 0x1b1041d6400>"
      ]
     },
     "execution_count": 55,
     "metadata": {},
     "output_type": "execute_result"
    },
    {
     "data": {
      "image/png": "[encoded data removed]",
      "text/plain": [
       "<Figure size 720x360 with 2 Axes>"
      ]
     },
     "metadata": {
      "needs_background": "light"
     },
     "output_type": "display_data"
    }
   ],
   "source": [
    "# Drop Time Slots of supply\n",
    "sns.catplot(x=\"Drop Time Slot\", y = \"Supply\", col=\"Pickup point\",col_order=[\"City\", \"Airport\"], data=UberDF[UberDF['Gap']==0], kind=\"bar\", estimator=np.sum)"
   ]
  },
  {
   "cell_type": "code",
   "execution_count": 50,
   "metadata": {},
   "outputs": [
    {
     "data": {
      "text/plain": [
       "<seaborn.axisgrid.FacetGrid at 0x1b104005860>"
      ]
     },
     "execution_count": 50,
     "metadata": {},
     "output_type": "execute_result"
    },
    {
     "data": {
      "image/png": "[encoded data removed]",
      "text/plain": [
       "<Figure size 720x360 with 2 Axes>"
      ]
     },
     "metadata": {
      "needs_background": "light"
     },
     "output_type": "display_data"
    }
   ],
   "source": [
    "#Request time slots where there are no cars available\n",
    "sns.catplot(x=\"Time Slot\", y = \"Demand\", col=\"Pickup point\",col_order=[\"City\", \"Airport\"], data=UberDF[(UberDF['Gap']==1)&(UberDF['Status']=='No Cars Available')], kind=\"bar\", estimator=np.sum)"
   ]
  },
  {
   "attachments": {},
   "cell_type": "markdown",
   "metadata": {},
   "source": [
    "While the Demand is more that 1200, the supply is only of the order 450 in the <b> Late Evening time slot </b>, thus there are no cars available to cater user’s request."
   ]
  },
  {
   "cell_type": "markdown",
   "metadata": {},
   "source": [
    "#### Solution for this issue for the supply-demand gap"
   ]
  },
  {
   "cell_type": "markdown",
   "metadata": {},
   "source": [
    "Let's analyze the driver's duration to resolve demand and supply gap"
   ]
  },
  {
   "cell_type": "code",
   "execution_count": 392,
   "metadata": {},
   "outputs": [],
   "source": [
    "#Calculate the Trip time for the driver from the timestamps\n",
    "UberDF['Trip Time'] =pd.to_timedelta( UberDF['Drop timestamp'] - UberDF['Request timestamp'] )\n",
    "UberDF['Trip Time'] = UberDF['Trip Time'].apply(lambda x: x.total_seconds() )"
   ]
  },
  {
   "cell_type": "code",
   "execution_count": 395,
   "metadata": {},
   "outputs": [
    {
     "data": {
      "text/html": [
       "<div>\n",
       "<style scoped>\n",
       "    .dataframe tbody tr th:only-of-type {\n",
       "        vertical-align: middle;\n",
       "    }\n",
       "\n",
       "    .dataframe tbody tr th {\n",
       "        vertical-align: top;\n",
       "    }\n",
       "\n",
       "    .dataframe thead th {\n",
       "        text-align: right;\n",
       "    }\n",
       "</style>\n",
       "<table border=\"1\" class=\"dataframe\">\n",
       "  <thead>\n",
       "    <tr style=\"text-align: right;\">\n",
       "      <th></th>\n",
       "      <th>level_0</th>\n",
       "      <th>Time Slot</th>\n",
       "      <th>Pickup point</th>\n",
       "      <th>Request Time</th>\n",
       "    </tr>\n",
       "  </thead>\n",
       "  <tbody>\n",
       "    <tr>\n",
       "      <th>0</th>\n",
       "      <td>Trip Time</td>\n",
       "      <td>Early Morning</td>\n",
       "      <td>Airport</td>\n",
       "      <td>3115.031915</td>\n",
       "    </tr>\n",
       "    <tr>\n",
       "      <th>1</th>\n",
       "      <td>Trip Time</td>\n",
       "      <td>Early Morning</td>\n",
       "      <td>City</td>\n",
       "      <td>3213.151659</td>\n",
       "    </tr>\n",
       "    <tr>\n",
       "      <th>2</th>\n",
       "      <td>Trip Time</td>\n",
       "      <td>Morning</td>\n",
       "      <td>Airport</td>\n",
       "      <td>3136.726817</td>\n",
       "    </tr>\n",
       "    <tr>\n",
       "      <th>3</th>\n",
       "      <td>Trip Time</td>\n",
       "      <td>Morning</td>\n",
       "      <td>City</td>\n",
       "      <td>3193.506986</td>\n",
       "    </tr>\n",
       "    <tr>\n",
       "      <th>4</th>\n",
       "      <td>Trip Time</td>\n",
       "      <td>After Noon</td>\n",
       "      <td>Airport</td>\n",
       "      <td>3127.200669</td>\n",
       "    </tr>\n",
       "    <tr>\n",
       "      <th>5</th>\n",
       "      <td>Trip Time</td>\n",
       "      <td>After Noon</td>\n",
       "      <td>City</td>\n",
       "      <td>3126.303207</td>\n",
       "    </tr>\n",
       "    <tr>\n",
       "      <th>6</th>\n",
       "      <td>Trip Time</td>\n",
       "      <td>Late Evening</td>\n",
       "      <td>Airport</td>\n",
       "      <td>3145.160998</td>\n",
       "    </tr>\n",
       "    <tr>\n",
       "      <th>7</th>\n",
       "      <td>Trip Time</td>\n",
       "      <td>Late Evening</td>\n",
       "      <td>City</td>\n",
       "      <td>3103.623608</td>\n",
       "    </tr>\n",
       "  </tbody>\n",
       "</table>\n",
       "</div>"
      ],
      "text/plain": [
       "     level_0      Time Slot Pickup point  Request Time\n",
       "0  Trip Time  Early Morning      Airport   3115.031915\n",
       "1  Trip Time  Early Morning         City   3213.151659\n",
       "2  Trip Time        Morning      Airport   3136.726817\n",
       "3  Trip Time        Morning         City   3193.506986\n",
       "4  Trip Time     After Noon      Airport   3127.200669\n",
       "5  Trip Time     After Noon         City   3126.303207\n",
       "6  Trip Time   Late Evening      Airport   3145.160998\n",
       "7  Trip Time   Late Evening         City   3103.623608"
      ]
     },
     "execution_count": 395,
     "metadata": {},
     "output_type": "execute_result"
    }
   ],
   "source": [
    "#Calculate the mean Trip time\n",
    "TripTime = pd.DataFrame(UberDF.pivot_table(values=['Trip Time'],columns = [ 'Time Slot','Pickup point'],\n",
    "                                     aggfunc={'Trip Time':np.mean  })).reset_index()\n",
    "TripTime.rename(index=str,columns={0: \"Request Time\"},inplace=True)\n",
    "TripTime"
   ]
  },
  {
   "cell_type": "code",
   "execution_count": 386,
   "metadata": {},
   "outputs": [
    {
     "data": {
      "text/plain": [
       "<seaborn.axisgrid.FacetGrid at 0x16954f67400>"
      ]
     },
     "execution_count": 386,
     "metadata": {},
     "output_type": "execute_result"
    },
    {
     "data": {
      "image/png": "[encoded data removed]",
      "text/plain": [
       "<Figure size 720x360 with 2 Axes>"
      ]
     },
     "metadata": {
      "needs_background": "light"
     },
     "output_type": "display_data"
    }
   ],
   "source": [
    "#Plot for the mean trip time\n",
    "sns.catplot(x=\"Time Slot\", y = \"Request Time\", col=\"Pickup point\", data=TripTime, kind=\"bar\")"
   ]
  },
  {
   "attachments": {},
   "cell_type": "markdown",
   "metadata": {},
   "source": [
    "Thus in slots where there are clear difference in the supply of drivers, drivers had to be planned with the duration calculation mentioned above to meet the supply.\n"
   ]
  },
  {
   "cell_type": "code",
   "execution_count": null,
   "metadata": {},
   "outputs": [],
   "source": []
  }
 ],
 "metadata": {
  "kernelspec": {
   "display_name": "Python 3",
   "language": "python",
   "name": "python3"
  },
  "language_info": {
   "codemirror_mode": {
    "name": "ipython",
    "version": 3
   },
   "file_extension": ".py",
   "mimetype": "text/x-python",
   "name": "python",
   "nbconvert_exporter": "python",
   "pygments_lexer": "ipython3",
   "version": "3.7.2"
  }
 },
 "nbformat": 4,
 "nbformat_minor": 2
}
